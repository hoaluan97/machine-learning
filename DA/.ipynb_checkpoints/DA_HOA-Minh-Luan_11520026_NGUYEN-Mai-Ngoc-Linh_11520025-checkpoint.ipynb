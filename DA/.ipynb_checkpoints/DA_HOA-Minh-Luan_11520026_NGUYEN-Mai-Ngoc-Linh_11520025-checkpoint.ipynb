{
 "cells": [
  {
   "cell_type": "markdown",
   "metadata": {},
   "source": [
    "Travail en binome:\n",
    "- Etudiant 1: \n",
    "        Nom & Prenom: NGUYEN Mai Ngoc Linh\n",
    "        Numero d'etudiant: 11520025\n",
    "- Etudiant 2:\n",
    "        Nom & Prenom: HOA Minh Luan\n",
    "        Numero d'etudiant: 11520026"
   ]
  },
  {
   "cell_type": "code",
   "execution_count": 1,
   "metadata": {},
   "outputs": [],
   "source": [
    "import numpy as np\n",
    "np.set_printoptions(threshold=10000,suppress=True)\n",
    "import pandas as pd\n",
    "import warnings\n",
    "import matplotlib.pyplot as plt\n",
    "from sklearn import metrics\n",
    "warnings.filterwarnings('ignore')"
   ]
  },
  {
   "cell_type": "markdown",
   "metadata": {},
   "source": [
    "# 1. Sur la base de données Mouse"
   ]
  },
  {
   "cell_type": "markdown",
   "metadata": {},
   "source": [
    "D'abord, on charge le jeu de donnees `mouse.txt` au pandas dataframe `df` grace a la fonction `read_csv()`. Puis, on consulte la taille de l'echantillon: ce dataset contient 500 observations et chacun a 2 attributs `x1`, `x2`."
   ]
  },
  {
   "cell_type": "code",
   "execution_count": 2,
   "metadata": {
    "scrolled": true
   },
   "outputs": [
    {
     "name": "stdout",
     "output_type": "stream",
     "text": [
      "df's shape:  (500, 2)\n",
      "         x1        x2\n",
      "0  0.456601  0.432806\n",
      "1  0.611378  0.528625\n",
      "2  0.450299  0.711606\n",
      "3  0.639015  0.460744\n",
      "4  0.628957  0.323470\n"
     ]
    }
   ],
   "source": [
    "df = pd.read_csv('./mouse.txt', sep=r'\\s+', names=['x1', 'x2'])\n",
    "print('df\\'s shape: ', df.shape)\n",
    "print(df.head(5))"
   ]
  },
  {
   "cell_type": "markdown",
   "metadata": {},
   "source": [
    "Ensuite, on utilise la fonction `hist()` pour afficher la disitrution de ces attributs. D'apres le graph, les valeurs de `x1`, `x2` sont entre 0 et 1 et suivent la loi Normale."
   ]
  },
  {
   "cell_type": "code",
   "execution_count": 3,
   "metadata": {},
   "outputs": [
    {
     "data": {
      "text/plain": [
       "array([[<matplotlib.axes._subplots.AxesSubplot object at 0x7f80047f2310>,\n",
       "        <matplotlib.axes._subplots.AxesSubplot object at 0x7f80044429d0>]],\n",
       "      dtype=object)"
      ]
     },
     "execution_count": 3,
     "metadata": {},
     "output_type": "execute_result"
    },
    {
     "data": {
      "image/png": "[encoded data removed]",
      "text/plain": [
       "<Figure size 432x288 with 2 Axes>"
      ]
     },
     "metadata": {
      "needs_background": "light"
     },
     "output_type": "display_data"
    }
   ],
   "source": [
    "df.hist()"
   ]
  },
  {
   "cell_type": "markdown",
   "metadata": {},
   "source": [
    "On visualise les observations. On peut voir qu'il y a 3 clusters (un grand au centre et 2 plus petits a cote) et des outliers qui ne sont pas proches des clusters. On veut maintenant appliquer `Isolation Forest` de `sklearn` pour les detecter."
   ]
  },
  {
   "cell_type": "code",
   "execution_count": 4,
   "metadata": {},
   "outputs": [
    {
     "data": {
      "text/plain": [
       "<matplotlib.collections.PathCollection at 0x7f800429b250>"
      ]
     },
     "execution_count": 4,
     "metadata": {},
     "output_type": "execute_result"
    },
    {
     "data": {
      "image/png": "[encoded data removed]",
      "text/plain": [
       "<Figure size 432x288 with 1 Axes>"
      ]
     },
     "metadata": {
      "needs_background": "light"
     },
     "output_type": "display_data"
    }
   ],
   "source": [
    "X = df.values\n",
    "plt.scatter(X[:,0], X[:,1], c='blue')"
   ]
  },
  {
   "cell_type": "markdown",
   "metadata": {},
   "source": [
    "On applique `Isolation Forest` pour detecter les outliers. Apres la prediction, on obtient une tableaux des valeurs (`1`,`-1`) avec index correspondant la ligne des observations dans X. La valeur `-1` est pour outlier et `1` pour l'inlier. Dans `df`, on ajoute une colonne `anomaly` pour indiquer que cette observation est `inlier` ou `outlier`."
   ]
  },
  {
   "cell_type": "code",
   "execution_count": 5,
   "metadata": {},
   "outputs": [
    {
     "data": {
      "text/html": [
       "<div>\n",
       "<style scoped>\n",
       "    .dataframe tbody tr th:only-of-type {\n",
       "        vertical-align: middle;\n",
       "    }\n",
       "\n",
       "    .dataframe tbody tr th {\n",
       "        vertical-align: top;\n",
       "    }\n",
       "\n",
       "    .dataframe thead th {\n",
       "        text-align: right;\n",
       "    }\n",
       "</style>\n",
       "<table border=\"1\" class=\"dataframe\">\n",
       "  <thead>\n",
       "    <tr style=\"text-align: right;\">\n",
       "      <th></th>\n",
       "      <th>x1</th>\n",
       "      <th>x2</th>\n",
       "      <th>anomaly</th>\n",
       "    </tr>\n",
       "  </thead>\n",
       "  <tbody>\n",
       "    <tr>\n",
       "      <td>0</td>\n",
       "      <td>0.456601</td>\n",
       "      <td>0.432806</td>\n",
       "      <td>1</td>\n",
       "    </tr>\n",
       "    <tr>\n",
       "      <td>1</td>\n",
       "      <td>0.611378</td>\n",
       "      <td>0.528625</td>\n",
       "      <td>1</td>\n",
       "    </tr>\n",
       "    <tr>\n",
       "      <td>2</td>\n",
       "      <td>0.450299</td>\n",
       "      <td>0.711606</td>\n",
       "      <td>1</td>\n",
       "    </tr>\n",
       "    <tr>\n",
       "      <td>3</td>\n",
       "      <td>0.639015</td>\n",
       "      <td>0.460744</td>\n",
       "      <td>1</td>\n",
       "    </tr>\n",
       "    <tr>\n",
       "      <td>4</td>\n",
       "      <td>0.628957</td>\n",
       "      <td>0.323470</td>\n",
       "      <td>1</td>\n",
       "    </tr>\n",
       "    <tr>\n",
       "      <td>...</td>\n",
       "      <td>...</td>\n",
       "      <td>...</td>\n",
       "      <td>...</td>\n",
       "    </tr>\n",
       "    <tr>\n",
       "      <td>495</td>\n",
       "      <td>0.151506</td>\n",
       "      <td>0.876586</td>\n",
       "      <td>-1</td>\n",
       "    </tr>\n",
       "    <tr>\n",
       "      <td>496</td>\n",
       "      <td>0.860308</td>\n",
       "      <td>0.633833</td>\n",
       "      <td>-1</td>\n",
       "    </tr>\n",
       "    <tr>\n",
       "      <td>497</td>\n",
       "      <td>0.862083</td>\n",
       "      <td>0.591805</td>\n",
       "      <td>-1</td>\n",
       "    </tr>\n",
       "    <tr>\n",
       "      <td>498</td>\n",
       "      <td>0.916030</td>\n",
       "      <td>0.523391</td>\n",
       "      <td>-1</td>\n",
       "    </tr>\n",
       "    <tr>\n",
       "      <td>499</td>\n",
       "      <td>0.427325</td>\n",
       "      <td>0.833767</td>\n",
       "      <td>-1</td>\n",
       "    </tr>\n",
       "  </tbody>\n",
       "</table>\n",
       "<p>500 rows × 3 columns</p>\n",
       "</div>"
      ],
      "text/plain": [
       "           x1        x2  anomaly\n",
       "0    0.456601  0.432806        1\n",
       "1    0.611378  0.528625        1\n",
       "2    0.450299  0.711606        1\n",
       "3    0.639015  0.460744        1\n",
       "4    0.628957  0.323470        1\n",
       "..        ...       ...      ...\n",
       "495  0.151506  0.876586       -1\n",
       "496  0.860308  0.633833       -1\n",
       "497  0.862083  0.591805       -1\n",
       "498  0.916030  0.523391       -1\n",
       "499  0.427325  0.833767       -1\n",
       "\n",
       "[500 rows x 3 columns]"
      ]
     },
     "execution_count": 5,
     "metadata": {},
     "output_type": "execute_result"
    }
   ],
   "source": [
    "from sklearn.ensemble import IsolationForest\n",
    "\n",
    "clf = IsolationForest(random_state=0)\n",
    "pred = clf.fit_predict(X)\n",
    "df['anomaly'] = pred\n",
    "df"
   ]
  },
  {
   "cell_type": "markdown",
   "metadata": {},
   "source": [
    "Pour visualiser les outliers, on doit premierement separer les outliers et les inliers a 2 `np.array` differentes."
   ]
  },
  {
   "cell_type": "code",
   "execution_count": 6,
   "metadata": {},
   "outputs": [],
   "source": [
    "outliers = df.loc[df['anomaly'] == -1].values\n",
    "inliers = df.loc[df['anomaly'] == 1].values"
   ]
  },
  {
   "cell_type": "markdown",
   "metadata": {},
   "source": [
    "Enfin, avec ces 2 tableaux, on affiche chacune dans un graph avec differents couleurs (rouge pour les outliers et bleu pour les inliers). On peut voir que les outliers sont les points qui ne sont pas proche des clusters."
   ]
  },
  {
   "cell_type": "code",
   "execution_count": 7,
   "metadata": {},
   "outputs": [
    {
     "data": {
      "text/plain": [
       "<matplotlib.collections.PathCollection at 0x7f8003ae4e50>"
      ]
     },
     "execution_count": 7,
     "metadata": {},
     "output_type": "execute_result"
    },
    {
     "data": {
      "image/png": "[encoded data removed]",
      "text/plain": [
       "<Figure size 432x288 with 1 Axes>"
      ]
     },
     "metadata": {
      "needs_background": "light"
     },
     "output_type": "display_data"
    }
   ],
   "source": [
    "plt.scatter(outliers[:,0], outliers[:,1], c='red')\n",
    "plt.scatter(inliers[:,0], inliers[:,1], c='blue')"
   ]
  },
  {
   "cell_type": "markdown",
   "metadata": {},
   "source": [
    "# 2. Sur le jeu de données des cartes de crédits"
   ]
  },
  {
   "cell_type": "markdown",
   "metadata": {},
   "source": [
    "On charge le dataset `creditcard.csv` et supprime la colonne `Time`. Ce jeu de donnees inclut 284 807 lignes avec 29 variables caracteristiques (`V1 - V28` et `Amount`), une variable a predire `Class`."
   ]
  },
  {
   "cell_type": "code",
   "execution_count": 8,
   "metadata": {},
   "outputs": [
    {
     "name": "stdout",
     "output_type": "stream",
     "text": [
      "df's shape:  (284807, 30)\n",
      "df\\s column types:  V1        float64\n",
      "V2        float64\n",
      "V3        float64\n",
      "V4        float64\n",
      "V5        float64\n",
      "V6        float64\n",
      "V7        float64\n",
      "V8        float64\n",
      "V9        float64\n",
      "V10       float64\n",
      "V11       float64\n",
      "V12       float64\n",
      "V13       float64\n",
      "V14       float64\n",
      "V15       float64\n",
      "V16       float64\n",
      "V17       float64\n",
      "V18       float64\n",
      "V19       float64\n",
      "V20       float64\n",
      "V21       float64\n",
      "V22       float64\n",
      "V23       float64\n",
      "V24       float64\n",
      "V25       float64\n",
      "V26       float64\n",
      "V27       float64\n",
      "V28       float64\n",
      "Amount    float64\n",
      "Class       int64\n",
      "dtype: object\n"
     ]
    }
   ],
   "source": [
    "df = pd.read_csv('./creditcard.csv', sep=',')\n",
    "df = df.drop(columns = ['Time'])\n",
    "print('df\\'s shape: ', df.shape)\n",
    "print('df\\s column types: ', df.dtypes)"
   ]
  },
  {
   "cell_type": "markdown",
   "metadata": {},
   "source": [
    "Comme la taille de l'echantillon est grande, on veut garder seulement 5000 observations normales (`Class = 0`) et les transactions aberrants (`Class=1`). Pour le faire, on doit obtenir d'abord les indices des lignes de Class 0 et Class 1 a 2. On sauvegarde ces valeurs dans 2 tableaux `df0` et `df1`. Ensuite, on utilise la fonction `random.choice()` de `numpy` pour choisir aleatoirement les 5000 indices dans `df0` et puis combine ces indices avec les indices dans `df1`. Enfin, on cree `sampled_df` de `df` avec les lignes indiques dans `ls_index`."
   ]
  },
  {
   "cell_type": "code",
   "execution_count": 9,
   "metadata": {},
   "outputs": [
    {
     "name": "stdout",
     "output_type": "stream",
     "text": [
      "Class 0's size:  284315\n",
      "Class 1's size:  492\n",
      "sampled_df's shape:  (5492, 31)\n"
     ]
    }
   ],
   "source": [
    "df0 = df[df['Class'] == 0].index.values\n",
    "df1 = df[df['Class'] == 1].index.values\n",
    "\n",
    "print('Class 0\\'s size: ', len(df0))\n",
    "print('Class 1\\'s size: ', len(df1))\n",
    "\n",
    "sampled_index_0 = np.random.choice(df0, 5000)\n",
    "ls_index = np.append(sampled_index_0, df1)\n",
    "\n",
    "sampled_df = df.ix[ls_index]\n",
    "sampled_df = sampled_df.reset_index()\n",
    "print('sampled_df\\'s shape: ',sampled_df.shape)"
   ]
  },
  {
   "cell_type": "markdown",
   "metadata": {},
   "source": [
    "On separe les variables caracteristiques (`X`) et la variable a predire (`Y`). "
   ]
  },
  {
   "cell_type": "code",
   "execution_count": 10,
   "metadata": {
    "scrolled": false
   },
   "outputs": [],
   "source": [
    "X = sampled_df.drop(columns=['Class']).values\n",
    "Y = sampled_df['Class'].values"
   ]
  },
  {
   "cell_type": "markdown",
   "metadata": {},
   "source": [
    "On applique `Isolation Forest` au `X` afin de detecter les transactions fraudes. Apres d'avoir la tableau de la prediction, on change ses valeurs `(1, -1)` a les valeurs `(0, 1)` pour pouvoir comparer la prediction avec la classe reelle (dans la tableau `Y`)."
   ]
  },
  {
   "cell_type": "code",
   "execution_count": 11,
   "metadata": {},
   "outputs": [],
   "source": [
    "clf = IsolationForest(random_state=0)\n",
    "pred = clf.fit_predict(X)\n",
    "pred[pred == 1] = 0\n",
    "pred[pred == -1] = 1"
   ]
  },
  {
   "cell_type": "markdown",
   "metadata": {},
   "source": [
    "Enfin, on utilise la fonction `confusion_matrix` de `sklearn` pour obtenir la matrice de confusion."
   ]
  },
  {
   "cell_type": "code",
   "execution_count": 12,
   "metadata": {},
   "outputs": [
    {
     "data": {
      "text/html": [
       "<div>\n",
       "<style scoped>\n",
       "    .dataframe tbody tr th:only-of-type {\n",
       "        vertical-align: middle;\n",
       "    }\n",
       "\n",
       "    .dataframe tbody tr th {\n",
       "        vertical-align: top;\n",
       "    }\n",
       "\n",
       "    .dataframe thead th {\n",
       "        text-align: right;\n",
       "    }\n",
       "</style>\n",
       "<table border=\"1\" class=\"dataframe\">\n",
       "  <thead>\n",
       "    <tr style=\"text-align: right;\">\n",
       "      <th></th>\n",
       "      <th>predire 0</th>\n",
       "      <th>predire 1</th>\n",
       "    </tr>\n",
       "  </thead>\n",
       "  <tbody>\n",
       "    <tr>\n",
       "      <td>reel 0</td>\n",
       "      <td>363</td>\n",
       "      <td>129</td>\n",
       "    </tr>\n",
       "    <tr>\n",
       "      <td>reel 1</td>\n",
       "      <td>187</td>\n",
       "      <td>4813</td>\n",
       "    </tr>\n",
       "  </tbody>\n",
       "</table>\n",
       "</div>"
      ],
      "text/plain": [
       "        predire 0  predire 1\n",
       "reel 0        363        129\n",
       "reel 1        187       4813"
      ]
     },
     "execution_count": 12,
     "metadata": {},
     "output_type": "execute_result"
    }
   ],
   "source": [
    "from sklearn.metrics import confusion_matrix\n",
    "\n",
    "tn, fp, fn, tp = confusion_matrix(Y, pred).ravel()\n",
    "matrix_confusion_dict = {'predire 0': [tp, fp], 'predire 1': [fn, tn]}\n",
    "matrix_confusion_df = pd.DataFrame(data=matrix_confusion_dict, index=[\"reel 0\", \"reel 1\"])\n",
    "matrix_confusion_df"
   ]
  },
  {
   "cell_type": "markdown",
   "metadata": {},
   "source": [
    "On consulte la qualite de la prediction par 3 criteres: l'`Accuracy`, le `Rappel` et la `Precision`. On peut voir que l'`Accuracy` du modele est tres bon."
   ]
  },
  {
   "cell_type": "code",
   "execution_count": 13,
   "metadata": {},
   "outputs": [
    {
     "name": "stdout",
     "output_type": "stream",
     "text": [
      "Accuracy:  0.942461762563729\n",
      "Precision:  0.66\n",
      "Recall:  0.7378048780487805\n"
     ]
    }
   ],
   "source": [
    "from sklearn.metrics import accuracy_score, precision_score, recall_score\n",
    "\n",
    "print('Accuracy: ', accuracy_score(Y, pred))\n",
    "print('Precision: ', precision_score(Y, pred))\n",
    "print('Recall: ', recall_score(Y, pred))"
   ]
  },
  {
   "cell_type": "markdown",
   "metadata": {},
   "source": [
    "On veut aussi analyser les valeurs des transactions aberrantes. Ainsi, on va les visualiser."
   ]
  },
  {
   "cell_type": "code",
   "execution_count": 14,
   "metadata": {},
   "outputs": [
    {
     "name": "stdout",
     "output_type": "stream",
     "text": [
      "     index         V1         V2         V3        V4        V5        V6  \\\n",
      "14  163604  -3.336096   3.191361  -2.083567 -3.772398  4.679320  2.866559   \n",
      "39  282846 -14.542850  11.447082 -11.440464 -1.095071 -7.906971 -2.863331   \n",
      "\n",
      "          V7        V8        V9  ...       V21       V22       V23       V24  \\\n",
      "14  3.737325 -2.249835  5.444899  ... -1.141982  0.770981 -0.507918  0.672649   \n",
      "39 -7.109752  9.397164  2.301245  ...  0.388882  0.363621  1.358601 -0.127837   \n",
      "\n",
      "         V25       V26       V27       V28  Amount  Class  \n",
      "14  0.368343 -0.251559 -0.245431 -2.099860    7.70      0  \n",
      "39  1.210840 -0.055671  0.587171  0.888456    3.82      0  \n",
      "\n",
      "[2 rows x 31 columns]\n",
      "    index        V1        V2        V3        V4        V5        V6  \\\n",
      "0  112868 -0.211889  0.323976  0.703489  1.155227  1.039645  0.425403   \n",
      "1  179608  2.058784 -0.048015 -1.321595  0.380460 -0.082677 -1.381481   \n",
      "\n",
      "         V7        V8        V9  ...       V21       V22       V23       V24  \\\n",
      "0  0.239077  0.162229 -0.454910  ... -0.025317 -0.017776 -0.176410 -1.013903   \n",
      "1  0.243639 -0.388339  0.651088  ...  0.245919  0.843413 -0.001113  0.073956   \n",
      "\n",
      "        V25       V26       V27       V28  Amount  Class  \n",
      "0  0.154335 -0.212061  0.052945  0.006873   26.00      0  \n",
      "1  0.251870 -0.110749 -0.023389 -0.058049    8.99      0  \n",
      "\n",
      "[2 rows x 31 columns]\n"
     ]
    }
   ],
   "source": [
    "df_fraude = sampled_df.ix[np.where(pred==1)]\n",
    "df_normal = sampled_df.ix[np.where(pred==0)]\n",
    "\n",
    "print(df_fraude[:2])\n",
    "print(df_normal[:2])"
   ]
  },
  {
   "cell_type": "markdown",
   "metadata": {},
   "source": [
    "Selon le graphe, on peut voir que les 200 transactions détectées comme fraude (rouge) varient beaucoup plus que les 200 transactions normales (bleu)."
   ]
  },
  {
   "cell_type": "code",
   "execution_count": 15,
   "metadata": {},
   "outputs": [
    {
     "data": {
      "image/png": "[encoded data removed]",
      "text/plain": [
       "<Figure size 432x288 with 1 Axes>"
      ]
     },
     "metadata": {
      "needs_background": "light"
     },
     "output_type": "display_data"
    }
   ],
   "source": [
    "plt.plot(df_fraude[0:200].values[:,1:30], 'red')\n",
    "plt.plot(df_normal[0:200].values[:,1:30], 'blue')\n",
    "plt.show()"
   ]
  }
 ],
 "metadata": {
  "kernelspec": {
   "display_name": "Python 3",
   "language": "python",
   "name": "python3"
  },
  "language_info": {
   "codemirror_mode": {
    "name": "ipython",
    "version": 3
   },
   "file_extension": ".py",
   "mimetype": "text/x-python",
   "name": "python",
   "nbconvert_exporter": "python",
   "pygments_lexer": "ipython3",
   "version": "3.7.4"
  }
 },
 "nbformat": 4,
 "nbformat_minor": 2
}
