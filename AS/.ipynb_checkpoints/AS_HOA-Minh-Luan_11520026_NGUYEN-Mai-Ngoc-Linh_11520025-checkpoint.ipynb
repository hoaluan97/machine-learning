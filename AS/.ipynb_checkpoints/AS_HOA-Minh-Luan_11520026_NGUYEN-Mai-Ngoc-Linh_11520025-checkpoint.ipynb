{
 "cells": [
  {
   "cell_type": "markdown",
   "metadata": {},
   "source": [
    "Travail en binome:\n",
    "- Etudiant 1: \n",
    "        Nom & Prenom: NGUYEN Mai Ngoc Linh\n",
    "        Numero d'etudiant: 11520025\n",
    "- Etudiant 2:\n",
    "        Nom & Prenom: HOA Minh Luan\n",
    "        Numero d'etudiant: 11520026"
   ]
  },
  {
   "cell_type": "code",
   "execution_count": 1,
   "metadata": {},
   "outputs": [],
   "source": [
    "import numpy as np\n",
    "np.set_printoptions(threshold=10000,suppress=True)\n",
    "import pandas as pd\n",
    "import warnings\n",
    "import matplotlib.pyplot as plt\n",
    "from sklearn import metrics\n",
    "warnings.filterwarnings('ignore')"
   ]
  },
  {
   "cell_type": "markdown",
   "metadata": {},
   "source": [
    "# I. Apprentissage supervisé : Feature engineering et Classification"
   ]
  },
  {
   "cell_type": "markdown",
   "metadata": {},
   "source": [
    "## I.1. Chargement des données et préparation"
   ]
  },
  {
   "cell_type": "markdown",
   "metadata": {},
   "source": [
    "D'abord, on importe le jeu de donnees `credit_scoring.csv` avec la fonction `read_csv` de `pandas`. Ensuite, on separe des donnees a 2: tableau `X` et `Y` de type `numpy array`. `X` contient les valeurs caracteristiques et `Y` contient la valeur a predire (`status`)."
   ]
  },
  {
   "cell_type": "code",
   "execution_count": 2,
   "metadata": {},
   "outputs": [
    {
     "name": "stdout",
     "output_type": "stream",
     "text": [
      "<class 'numpy.ndarray'>\n",
      "<class 'numpy.ndarray'>\n"
     ]
    }
   ],
   "source": [
    "df = pd.read_csv('./credit_scoring.csv', sep=';')\n",
    "data = df.values\n",
    "X = data[:, 0:13]\n",
    "Y = data[:, 13]\n",
    "print(type(X))\n",
    "print(type(Y))"
   ]
  },
  {
   "cell_type": "markdown",
   "metadata": {},
   "source": [
    "Puis, on consulte les proprietes de donnees: taille de l'echantillon avec l'attribut `shape` de `numpy array` et les statuts positifs, negatifs avec la fonction `count_nonzero()`. De plus, on utilise histogram pour afficher la distribution de chaque attribut."
   ]
  },
  {
   "cell_type": "code",
   "execution_count": 3,
   "metadata": {
    "scrolled": true
   },
   "outputs": [
    {
     "name": "stdout",
     "output_type": "stream",
     "text": [
      "X's shape:  (4375, 13)\n",
      "Y's shape:  (4375,)\n",
      "Nombre statuts positifs:  3159\n",
      "Nombre statuts negatifs:  1216\n"
     ]
    },
    {
     "data": {
      "text/plain": [
       "array([[<matplotlib.axes._subplots.AxesSubplot object at 0x7fb56524c410>,\n",
       "        <matplotlib.axes._subplots.AxesSubplot object at 0x7fb564f31e10>,\n",
       "        <matplotlib.axes._subplots.AxesSubplot object at 0x7fb564eed690>,\n",
       "        <matplotlib.axes._subplots.AxesSubplot object at 0x7fb564ea5990>],\n",
       "       [<matplotlib.axes._subplots.AxesSubplot object at 0x7fb564e64d10>,\n",
       "        <matplotlib.axes._subplots.AxesSubplot object at 0x7fb564e1a9d0>,\n",
       "        <matplotlib.axes._subplots.AxesSubplot object at 0x7fb564e57e50>,\n",
       "        <matplotlib.axes._subplots.AxesSubplot object at 0x7fb564e0fa10>],\n",
       "       [<matplotlib.axes._subplots.AxesSubplot object at 0x7fb564e18590>,\n",
       "        <matplotlib.axes._subplots.AxesSubplot object at 0x7fb564dccf10>,\n",
       "        <matplotlib.axes._subplots.AxesSubplot object at 0x7fb564d41dd0>,\n",
       "        <matplotlib.axes._subplots.AxesSubplot object at 0x7fb564cf5a90>],\n",
       "       [<matplotlib.axes._subplots.AxesSubplot object at 0x7fb564cb5e10>,\n",
       "        <matplotlib.axes._subplots.AxesSubplot object at 0x7fb564c69ad0>,\n",
       "        <matplotlib.axes._subplots.AxesSubplot object at 0x7fb564c29e50>,\n",
       "        <matplotlib.axes._subplots.AxesSubplot object at 0x7fb564bdfa90>]],\n",
       "      dtype=object)"
      ]
     },
     "execution_count": 3,
     "metadata": {},
     "output_type": "execute_result"
    },
    {
     "data": {
      "image/png": "[encoded data removed]",
      "text/plain": [
       "<Figure size 432x288 with 16 Axes>"
      ]
     },
     "metadata": {
      "needs_background": "light"
     },
     "output_type": "display_data"
    }
   ],
   "source": [
    "print(\"X's shape: \", X.shape)\n",
    "print(\"Y's shape: \", Y.shape)\n",
    "print(\"Nombre statuts positifs: \", np.count_nonzero(Y))\n",
    "print(\"Nombre statuts negatifs: \", len(Y) - np.count_nonzero(Y))\n",
    "df.hist(bins = 2)"
   ]
  },
  {
   "cell_type": "markdown",
   "metadata": {},
   "source": [
    "Enfin, grace a la fonction `train_test_split()`, on divise 2 tableaux `X`, `Y` a 4: 2 tableaux pour l'apprentissage (`X_train`, `Y_train`) et 2 pour l'evaluation (`X_test`, `Y_test`)."
   ]
  },
  {
   "cell_type": "code",
   "execution_count": 4,
   "metadata": {},
   "outputs": [],
   "source": [
    "from sklearn.model_selection import train_test_split\n",
    "\n",
    "(X_train, X_test, Y_train, Y_test) = train_test_split(X,Y,test_size=0.5, random_state=1)"
   ]
  },
  {
   "cell_type": "markdown",
   "metadata": {},
   "source": [
    "## I.2. Apprentissage et évaluation de modèles"
   ]
  },
  {
   "cell_type": "markdown",
   "metadata": {},
   "source": [
    "On utilise 2 algorithmes `CART` (avec random_state=1) et K-plus-proches-voisins (avec k=5) pour l'apprentissage de donnees."
   ]
  },
  {
   "cell_type": "markdown",
   "metadata": {},
   "source": [
    "Premierement, on train les donnees par CART grace a la fonction `tree.DecisionTreeClassifier()` de `sklearn`."
   ]
  },
  {
   "cell_type": "code",
   "execution_count": 5,
   "metadata": {},
   "outputs": [
    {
     "data": {
      "text/plain": [
       "[Text(200.93325389571393, 212.49818181818182, 'X[0] <= 3.5\\ngini = 0.403\\nsamples = 2187\\nvalue = [612, 1575]'),\n",
       " Text(122.02891546906609, 202.61454545454546, 'X[5] <= 1.5\\ngini = 0.491\\nsamples = 906\\nvalue = [391, 515]'),\n",
       " Text(78.12526182147674, 192.73090909090908, 'X[6] <= 0.5\\ngini = 0.465\\nsamples = 749\\nvalue = [276, 473]'),\n",
       " Text(40.83408631153068, 182.84727272727272, 'X[11] <= 1035.0\\ngini = 0.371\\nsamples = 374\\nvalue = [92, 282]'),\n",
       " Text(26.75239379635873, 172.96363636363637, 'X[8] <= 103.0\\ngini = 0.264\\nsamples = 211\\nvalue = [33, 178]'),\n",
       " Text(18.286446392447743, 163.07999999999998, 'X[9] <= 2250.0\\ngini = 0.388\\nsamples = 91\\nvalue = [24, 67]'),\n",
       " Text(13.99703304113284, 153.19636363636363, 'X[3] <= 30.5\\ngini = 0.458\\nsamples = 59\\nvalue = [21, 38]'),\n",
       " Text(8.127309507754552, 143.31272727272727, 'X[7] <= 38.5\\ngini = 0.391\\nsamples = 45\\nvalue = [12, 33]'),\n",
       " Text(3.612137559002023, 133.42909090909092, 'X[3] <= 21.5\\ngini = 0.278\\nsamples = 30\\nvalue = [5, 25]'),\n",
       " Text(1.8060687795010115, 123.54545454545455, 'X[8] <= 39.0\\ngini = 0.48\\nsamples = 5\\nvalue = [3, 2]'),\n",
       " Text(0.9030343897505058, 113.66181818181819, 'gini = 0.0\\nsamples = 1\\nvalue = [0, 1]'),\n",
       " Text(2.7091031692515175, 113.66181818181819, 'X[2] <= 42.0\\ngini = 0.375\\nsamples = 4\\nvalue = [3, 1]'),\n",
       " Text(1.8060687795010115, 103.77818181818182, 'gini = 0.0\\nsamples = 3\\nvalue = [3, 0]'),\n",
       " Text(3.612137559002023, 103.77818181818182, 'gini = 0.0\\nsamples = 1\\nvalue = [0, 1]'),\n",
       " Text(5.418206338503035, 123.54545454545455, 'X[3] <= 27.5\\ngini = 0.147\\nsamples = 25\\nvalue = [2, 23]'),\n",
       " Text(4.515171948752529, 113.66181818181819, 'gini = 0.0\\nsamples = 18\\nvalue = [0, 18]'),\n",
       " Text(6.3212407282535406, 113.66181818181819, 'X[8] <= 51.5\\ngini = 0.408\\nsamples = 7\\nvalue = [2, 5]'),\n",
       " Text(5.418206338503035, 103.77818181818182, 'gini = 0.0\\nsamples = 1\\nvalue = [1, 0]'),\n",
       " Text(7.224275118004046, 103.77818181818182, 'X[8] <= 81.0\\ngini = 0.278\\nsamples = 6\\nvalue = [1, 5]'),\n",
       " Text(6.3212407282535406, 93.89454545454547, 'gini = 0.0\\nsamples = 4\\nvalue = [0, 4]'),\n",
       " Text(8.127309507754552, 93.89454545454547, 'X[12] <= 1685.0\\ngini = 0.5\\nsamples = 2\\nvalue = [1, 1]'),\n",
       " Text(7.224275118004046, 84.01090909090911, 'gini = 0.0\\nsamples = 1\\nvalue = [1, 0]'),\n",
       " Text(9.030343897505057, 84.01090909090911, 'gini = 0.0\\nsamples = 1\\nvalue = [0, 1]'),\n",
       " Text(12.642481456507081, 133.42909090909092, 'X[11] <= 975.0\\ngini = 0.498\\nsamples = 15\\nvalue = [7, 8]'),\n",
       " Text(10.83641267700607, 123.54545454545455, 'X[11] <= 885.0\\ngini = 0.444\\nsamples = 9\\nvalue = [6, 3]'),\n",
       " Text(9.933378287255563, 113.66181818181819, 'X[12] <= 872.5\\ngini = 0.48\\nsamples = 5\\nvalue = [2, 3]'),\n",
       " Text(9.030343897505057, 103.77818181818182, 'gini = 0.0\\nsamples = 2\\nvalue = [2, 0]'),\n",
       " Text(10.83641267700607, 103.77818181818182, 'gini = 0.0\\nsamples = 3\\nvalue = [0, 3]'),\n",
       " Text(11.739447066756576, 113.66181818181819, 'gini = 0.0\\nsamples = 4\\nvalue = [4, 0]'),\n",
       " Text(14.448550236008092, 123.54545454545455, 'X[7] <= 43.0\\ngini = 0.278\\nsamples = 6\\nvalue = [1, 5]'),\n",
       " Text(13.545515846257587, 113.66181818181819, 'gini = 0.0\\nsamples = 1\\nvalue = [1, 0]'),\n",
       " Text(15.351584625758598, 113.66181818181819, 'gini = 0.0\\nsamples = 5\\nvalue = [0, 5]'),\n",
       " Text(19.866756574511125, 143.31272727272727, 'X[0] <= 2.5\\ngini = 0.459\\nsamples = 14\\nvalue = [9, 5]'),\n",
       " Text(18.96372218476062, 133.42909090909092, 'X[10] <= 750.0\\ngini = 0.298\\nsamples = 11\\nvalue = [9, 2]'),\n",
       " Text(18.060687795010114, 123.54545454545455, 'X[8] <= 101.5\\ngini = 0.18\\nsamples = 10\\nvalue = [9, 1]'),\n",
       " Text(17.15765340525961, 113.66181818181819, 'gini = 0.0\\nsamples = 8\\nvalue = [8, 0]'),\n",
       " Text(18.96372218476062, 113.66181818181819, 'X[3] <= 32.5\\ngini = 0.5\\nsamples = 2\\nvalue = [1, 1]'),\n",
       " Text(18.060687795010114, 103.77818181818182, 'gini = 0.0\\nsamples = 1\\nvalue = [1, 0]'),\n",
       " Text(19.866756574511125, 103.77818181818182, 'gini = 0.0\\nsamples = 1\\nvalue = [0, 1]'),\n",
       " Text(19.866756574511125, 123.54545454545455, 'gini = 0.0\\nsamples = 1\\nvalue = [0, 1]'),\n",
       " Text(20.76979096426163, 133.42909090909092, 'gini = 0.0\\nsamples = 3\\nvalue = [0, 3]'),\n",
       " Text(22.575859743762646, 153.19636363636363, 'X[9] <= 7250.0\\ngini = 0.17\\nsamples = 32\\nvalue = [3, 29]'),\n",
       " Text(21.67282535401214, 143.31272727272727, 'gini = 0.0\\nsamples = 27\\nvalue = [0, 27]'),\n",
       " Text(23.47889413351315, 143.31272727272727, 'X[10] <= 420.0\\ngini = 0.48\\nsamples = 5\\nvalue = [3, 2]'),\n",
       " Text(22.575859743762646, 133.42909090909092, 'X[2] <= 54.0\\ngini = 0.444\\nsamples = 3\\nvalue = [1, 2]'),\n",
       " Text(21.67282535401214, 123.54545454545455, 'gini = 0.0\\nsamples = 2\\nvalue = [0, 2]'),\n",
       " Text(23.47889413351315, 123.54545454545455, 'gini = 0.0\\nsamples = 1\\nvalue = [1, 0]'),\n",
       " Text(24.381928523263657, 133.42909090909092, 'gini = 0.0\\nsamples = 2\\nvalue = [2, 0]'),\n",
       " Text(35.21834120026973, 163.07999999999998, 'X[12] <= 2334.0\\ngini = 0.139\\nsamples = 120\\nvalue = [9, 111]'),\n",
       " Text(31.6062036412677, 153.19636363636363, 'X[12] <= 962.5\\ngini = 0.126\\nsamples = 118\\nvalue = [8, 110]'),\n",
       " Text(27.091031692515173, 143.31272727272727, 'X[12] <= 945.0\\ngini = 0.252\\nsamples = 27\\nvalue = [4, 23]'),\n",
       " Text(26.187997302764668, 133.42909090909092, 'X[7] <= 68.5\\ngini = 0.147\\nsamples = 25\\nvalue = [2, 23]'),\n",
       " Text(25.284962913014162, 123.54545454545455, 'gini = 0.0\\nsamples = 20\\nvalue = [0, 20]'),\n",
       " Text(27.091031692515173, 123.54545454545455, 'X[12] <= 675.0\\ngini = 0.48\\nsamples = 5\\nvalue = [2, 3]'),\n",
       " Text(26.187997302764668, 113.66181818181819, 'gini = 0.0\\nsamples = 3\\nvalue = [0, 3]'),\n",
       " Text(27.99406608226568, 113.66181818181819, 'gini = 0.0\\nsamples = 2\\nvalue = [2, 0]'),\n",
       " Text(27.99406608226568, 133.42909090909092, 'gini = 0.0\\nsamples = 2\\nvalue = [2, 0]'),\n",
       " Text(36.12137559002023, 143.31272727272727, 'X[10] <= 2400.0\\ngini = 0.084\\nsamples = 91\\nvalue = [4, 87]'),\n",
       " Text(33.412272420768716, 133.42909090909092, 'X[2] <= 15.0\\ngini = 0.066\\nsamples = 88\\nvalue = [3, 85]'),\n",
       " Text(30.703169251517195, 123.54545454545455, 'X[0] <= 2.5\\ngini = 0.444\\nsamples = 3\\nvalue = [1, 2]'),\n",
       " Text(29.80013486176669, 113.66181818181819, 'gini = 0.0\\nsamples = 2\\nvalue = [0, 2]'),\n",
       " Text(31.6062036412677, 113.66181818181819, 'gini = 0.0\\nsamples = 1\\nvalue = [1, 0]'),\n",
       " Text(36.12137559002023, 123.54545454545455, 'X[11] <= 506.0\\ngini = 0.046\\nsamples = 85\\nvalue = [2, 83]'),\n",
       " Text(33.412272420768716, 113.66181818181819, 'X[8] <= 152.5\\ngini = 0.198\\nsamples = 9\\nvalue = [1, 8]'),\n",
       " Text(32.50923803101821, 103.77818181818182, 'gini = 0.0\\nsamples = 7\\nvalue = [0, 7]'),\n",
       " Text(34.31530681051922, 103.77818181818182, 'X[9] <= 5000.0\\ngini = 0.5\\nsamples = 2\\nvalue = [1, 1]'),\n",
       " Text(33.412272420768716, 93.89454545454547, 'gini = 0.0\\nsamples = 1\\nvalue = [1, 0]'),\n",
       " Text(35.21834120026973, 93.89454545454547, 'gini = 0.0\\nsamples = 1\\nvalue = [0, 1]'),\n",
       " Text(38.83047875927175, 113.66181818181819, 'X[8] <= 122.5\\ngini = 0.026\\nsamples = 76\\nvalue = [1, 75]'),\n",
       " Text(37.92744436952124, 103.77818181818182, 'X[3] <= 33.5\\ngini = 0.111\\nsamples = 17\\nvalue = [1, 16]'),\n",
       " Text(37.02440997977074, 93.89454545454547, 'gini = 0.0\\nsamples = 13\\nvalue = [0, 13]'),\n",
       " Text(38.83047875927175, 93.89454545454547, 'X[3] <= 36.5\\ngini = 0.375\\nsamples = 4\\nvalue = [1, 3]'),\n",
       " Text(37.92744436952124, 84.01090909090911, 'gini = 0.0\\nsamples = 1\\nvalue = [1, 0]'),\n",
       " Text(39.73351314902225, 84.01090909090911, 'gini = 0.0\\nsamples = 3\\nvalue = [0, 3]'),\n",
       " Text(39.73351314902225, 103.77818181818182, 'gini = 0.0\\nsamples = 59\\nvalue = [0, 59]'),\n",
       " Text(38.83047875927175, 133.42909090909092, 'X[11] <= 975.0\\ngini = 0.444\\nsamples = 3\\nvalue = [1, 2]'),\n",
       " Text(37.92744436952124, 123.54545454545455, 'gini = 0.0\\nsamples = 2\\nvalue = [0, 2]'),\n",
       " Text(39.73351314902225, 123.54545454545455, 'gini = 0.0\\nsamples = 1\\nvalue = [1, 0]'),\n",
       " Text(38.83047875927175, 153.19636363636363, 'X[4] <= 0.5\\ngini = 0.5\\nsamples = 2\\nvalue = [1, 1]'),\n",
       " Text(37.92744436952124, 143.31272727272727, 'gini = 0.0\\nsamples = 1\\nvalue = [1, 0]'),\n",
       " Text(39.73351314902225, 143.31272727272727, 'gini = 0.0\\nsamples = 1\\nvalue = [0, 1]'),\n",
       " Text(54.915778826702635, 172.96363636363637, 'X[8] <= 98.0\\ngini = 0.462\\nsamples = 163\\nvalue = [59, 104]'),\n",
       " Text(46.05475387727579, 163.07999999999998, 'X[11] <= 1255.0\\ngini = 0.478\\nsamples = 43\\nvalue = [26, 17]'),\n",
       " Text(44.24868509777478, 153.19636363636363, 'X[10] <= 1050.0\\ngini = 0.496\\nsamples = 22\\nvalue = [10, 12]'),\n",
       " Text(43.34565070802428, 143.31272727272727, 'X[7] <= 63.5\\ngini = 0.444\\nsamples = 18\\nvalue = [6, 12]'),\n",
       " Text(42.44261631827377, 133.42909090909092, 'X[8] <= 50.5\\ngini = 0.375\\nsamples = 16\\nvalue = [4, 12]'),\n",
       " Text(41.53958192852326, 123.54545454545455, 'gini = 0.0\\nsamples = 1\\nvalue = [1, 0]'),\n",
       " Text(43.34565070802428, 123.54545454545455, 'X[3] <= 24.5\\ngini = 0.32\\nsamples = 15\\nvalue = [3, 12]'),\n",
       " Text(42.44261631827377, 113.66181818181819, 'X[11] <= 1125.0\\ngini = 0.49\\nsamples = 7\\nvalue = [3, 4]'),\n",
       " Text(41.53958192852326, 103.77818181818182, 'gini = 0.0\\nsamples = 2\\nvalue = [2, 0]'),\n",
       " Text(43.34565070802428, 103.77818181818182, 'X[0] <= 0.5\\ngini = 0.32\\nsamples = 5\\nvalue = [1, 4]'),\n",
       " Text(42.44261631827377, 93.89454545454547, 'X[2] <= 54.0\\ngini = 0.5\\nsamples = 2\\nvalue = [1, 1]'),\n",
       " Text(41.53958192852326, 84.01090909090911, 'gini = 0.0\\nsamples = 1\\nvalue = [0, 1]'),\n",
       " Text(43.34565070802428, 84.01090909090911, 'gini = 0.0\\nsamples = 1\\nvalue = [1, 0]'),\n",
       " Text(44.24868509777478, 93.89454545454547, 'gini = 0.0\\nsamples = 3\\nvalue = [0, 3]'),\n",
       " Text(44.24868509777478, 113.66181818181819, 'gini = 0.0\\nsamples = 8\\nvalue = [0, 8]'),\n",
       " Text(44.24868509777478, 133.42909090909092, 'gini = 0.0\\nsamples = 2\\nvalue = [2, 0]'),\n",
       " Text(45.15171948752529, 143.31272727272727, 'gini = 0.0\\nsamples = 4\\nvalue = [4, 0]'),\n",
       " Text(47.860822656776804, 153.19636363636363, 'X[8] <= 95.5\\ngini = 0.363\\nsamples = 21\\nvalue = [16, 5]'),\n",
       " Text(46.9577882670263, 143.31272727272727, 'X[11] <= 1446.0\\ngini = 0.32\\nsamples = 20\\nvalue = [16, 4]'),\n",
       " Text(46.05475387727579, 133.42909090909092, 'gini = 0.0\\nsamples = 8\\nvalue = [8, 0]'),\n",
       " Text(47.860822656776804, 133.42909090909092, 'X[11] <= 1675.0\\ngini = 0.444\\nsamples = 12\\nvalue = [8, 4]'),\n",
       " Text(46.9577882670263, 123.54545454545455, 'X[12] <= 1655.5\\ngini = 0.49\\nsamples = 7\\nvalue = [3, 4]'),\n",
       " Text(46.05475387727579, 113.66181818181819, 'X[2] <= 54.0\\ngini = 0.375\\nsamples = 4\\nvalue = [3, 1]'),\n",
       " Text(45.15171948752529, 103.77818181818182, 'gini = 0.0\\nsamples = 1\\nvalue = [0, 1]'),\n",
       " Text(46.9577882670263, 103.77818181818182, 'gini = 0.0\\nsamples = 3\\nvalue = [3, 0]'),\n",
       " Text(47.860822656776804, 113.66181818181819, 'gini = 0.0\\nsamples = 3\\nvalue = [0, 3]'),\n",
       " Text(48.76385704652731, 123.54545454545455, 'gini = 0.0\\nsamples = 5\\nvalue = [5, 0]'),\n",
       " Text(48.76385704652731, 143.31272727272727, 'gini = 0.0\\nsamples = 1\\nvalue = [0, 1]'),\n",
       " Text(63.77680377612947, 163.07999999999998, 'X[12] <= 1176.0\\ngini = 0.399\\nsamples = 120\\nvalue = [33, 87]'),\n",
       " Text(62.87376938637896, 153.19636363636363, 'gini = 0.0\\nsamples = 2\\nvalue = [2, 0]'),\n",
       " Text(64.67983816587997, 153.19636363636363, 'X[10] <= 2650.0\\ngini = 0.387\\nsamples = 118\\nvalue = [31, 87]'),\n",
       " Text(63.77680377612947, 143.31272727272727, 'X[9] <= 1750.0\\ngini = 0.375\\nsamples = 116\\nvalue = [29, 87]'),\n",
       " Text(58.019959541469994, 133.42909090909092, 'X[0] <= 1.5\\ngini = 0.444\\nsamples = 60\\nvalue = [20, 40]'),\n",
       " Text(53.730546190155096, 123.54545454545455, 'X[7] <= 61.0\\ngini = 0.499\\nsamples = 27\\nvalue = [13, 14]'),\n",
       " Text(50.569925826028324, 113.66181818181819, 'X[3] <= 34.5\\ngini = 0.43\\nsamples = 16\\nvalue = [11, 5]'),\n",
       " Text(48.76385704652731, 103.77818181818182, 'X[3] <= 22.0\\ngini = 0.18\\nsamples = 10\\nvalue = [9, 1]'),\n",
       " Text(47.860822656776804, 93.89454545454547, 'gini = 0.0\\nsamples = 1\\nvalue = [0, 1]'),\n",
       " Text(49.666891436277815, 93.89454545454547, 'gini = 0.0\\nsamples = 9\\nvalue = [9, 0]'),\n",
       " Text(52.375994605529336, 103.77818181818182, 'X[0] <= 0.5\\ngini = 0.444\\nsamples = 6\\nvalue = [2, 4]'),\n",
       " Text(51.472960215778826, 93.89454545454547, 'X[7] <= 47.5\\ngini = 0.444\\nsamples = 3\\nvalue = [2, 1]'),\n",
       " Text(50.569925826028324, 84.01090909090911, 'gini = 0.0\\nsamples = 2\\nvalue = [2, 0]'),\n",
       " Text(52.375994605529336, 84.01090909090911, 'gini = 0.0\\nsamples = 1\\nvalue = [0, 1]'),\n",
       " Text(53.27902899527984, 93.89454545454547, 'gini = 0.0\\nsamples = 3\\nvalue = [0, 3]'),\n",
       " Text(56.89116655428186, 113.66181818181819, 'X[12] <= 2193.5\\ngini = 0.298\\nsamples = 11\\nvalue = [2, 9]'),\n",
       " Text(55.98813216453136, 103.77818181818182, 'X[12] <= 1412.5\\ngini = 0.18\\nsamples = 10\\nvalue = [1, 9]'),\n",
       " Text(55.08509777478085, 93.89454545454547, 'X[11] <= 1250.0\\ngini = 0.5\\nsamples = 2\\nvalue = [1, 1]'),\n",
       " Text(54.18206338503035, 84.01090909090911, 'gini = 0.0\\nsamples = 1\\nvalue = [0, 1]'),\n",
       " Text(55.98813216453136, 84.01090909090911, 'gini = 0.0\\nsamples = 1\\nvalue = [1, 0]'),\n",
       " Text(56.89116655428186, 93.89454545454547, 'gini = 0.0\\nsamples = 8\\nvalue = [0, 8]'),\n",
       " Text(57.79420094403237, 103.77818181818182, 'gini = 0.0\\nsamples = 1\\nvalue = [1, 0]'),\n",
       " Text(62.3093728927849, 123.54545454545455, 'X[7] <= 91.0\\ngini = 0.334\\nsamples = 33\\nvalue = [7, 26]'),\n",
       " Text(61.40633850303439, 113.66181818181819, 'X[2] <= 42.0\\ngini = 0.271\\nsamples = 31\\nvalue = [5, 26]'),\n",
       " Text(59.60026972353338, 103.77818181818182, 'X[4] <= 0.5\\ngini = 0.444\\nsamples = 3\\nvalue = [2, 1]'),\n",
       " Text(58.69723533378288, 93.89454545454547, 'gini = 0.0\\nsamples = 2\\nvalue = [2, 0]'),\n",
       " Text(60.50330411328389, 93.89454545454547, 'gini = 0.0\\nsamples = 1\\nvalue = [0, 1]'),\n",
       " Text(63.2124072825354, 103.77818181818182, 'X[11] <= 1325.0\\ngini = 0.191\\nsamples = 28\\nvalue = [3, 25]'),\n",
       " Text(62.3093728927849, 93.89454545454547, 'gini = 0.0\\nsamples = 15\\nvalue = [0, 15]'),\n",
       " Text(64.11544167228591, 93.89454545454547, 'X[12] <= 1410.5\\ngini = 0.355\\nsamples = 13\\nvalue = [3, 10]'),\n",
       " Text(63.2124072825354, 84.01090909090911, 'gini = 0.0\\nsamples = 1\\nvalue = [1, 0]'),\n",
       " Text(65.01847606203641, 84.01090909090911, 'X[8] <= 140.5\\ngini = 0.278\\nsamples = 12\\nvalue = [2, 10]'),\n",
       " Text(64.11544167228591, 74.12727272727273, 'X[7] <= 45.5\\ngini = 0.48\\nsamples = 5\\nvalue = [2, 3]'),\n",
       " Text(63.2124072825354, 64.24363636363637, 'gini = 0.0\\nsamples = 3\\nvalue = [0, 3]'),\n",
       " Text(65.01847606203641, 64.24363636363637, 'gini = 0.0\\nsamples = 2\\nvalue = [2, 0]'),\n",
       " Text(65.92151045178692, 74.12727272727273, 'gini = 0.0\\nsamples = 7\\nvalue = [0, 7]'),\n",
       " Text(63.2124072825354, 113.66181818181819, 'gini = 0.0\\nsamples = 2\\nvalue = [2, 0]'),\n",
       " Text(69.53364801078894, 133.42909090909092, 'X[3] <= 20.5\\ngini = 0.27\\nsamples = 56\\nvalue = [9, 47]'),\n",
       " Text(68.63061362103844, 123.54545454545455, 'gini = 0.0\\nsamples = 2\\nvalue = [2, 0]'),\n",
       " Text(70.43668240053945, 123.54545454545455, 'X[7] <= 82.5\\ngini = 0.226\\nsamples = 54\\nvalue = [7, 47]'),\n",
       " Text(68.63061362103844, 113.66181818181819, 'X[8] <= 420.5\\ngini = 0.177\\nsamples = 51\\nvalue = [5, 46]'),\n",
       " Text(67.72757923128793, 103.77818181818182, 'X[3] <= 31.5\\ngini = 0.147\\nsamples = 50\\nvalue = [4, 46]'),\n",
       " Text(66.82454484153743, 93.89454545454547, 'gini = 0.0\\nsamples = 27\\nvalue = [0, 27]'),\n",
       " Text(68.63061362103844, 93.89454545454547, 'X[8] <= 117.5\\ngini = 0.287\\nsamples = 23\\nvalue = [4, 19]'),\n",
       " Text(67.72757923128793, 84.01090909090911, 'gini = 0.0\\nsamples = 1\\nvalue = [1, 0]'),\n",
       " Text(69.53364801078894, 84.01090909090911, 'X[11] <= 1577.5\\ngini = 0.236\\nsamples = 22\\nvalue = [3, 19]'),\n",
       " Text(67.72757923128793, 74.12727272727273, 'X[3] <= 32.5\\ngini = 0.111\\nsamples = 17\\nvalue = [1, 16]'),\n",
       " Text(66.82454484153743, 64.24363636363637, 'X[8] <= 174.5\\ngini = 0.375\\nsamples = 4\\nvalue = [1, 3]'),\n",
       " Text(65.92151045178692, 54.360000000000014, 'gini = 0.0\\nsamples = 3\\nvalue = [0, 3]'),\n",
       " Text(67.72757923128793, 54.360000000000014, 'gini = 0.0\\nsamples = 1\\nvalue = [1, 0]'),\n",
       " Text(68.63061362103844, 64.24363636363637, 'gini = 0.0\\nsamples = 13\\nvalue = [0, 13]'),\n",
       " Text(71.33971679028996, 74.12727272727273, 'X[9] <= 10500.0\\ngini = 0.48\\nsamples = 5\\nvalue = [2, 3]'),\n",
       " Text(70.43668240053945, 64.24363636363637, 'gini = 0.0\\nsamples = 2\\nvalue = [2, 0]'),\n",
       " Text(72.24275118004046, 64.24363636363637, 'gini = 0.0\\nsamples = 3\\nvalue = [0, 3]'),\n",
       " Text(69.53364801078894, 103.77818181818182, 'gini = 0.0\\nsamples = 1\\nvalue = [1, 0]'),\n",
       " Text(72.24275118004046, 113.66181818181819, 'X[9] <= 6500.0\\ngini = 0.444\\nsamples = 3\\nvalue = [2, 1]'),\n",
       " Text(71.33971679028996, 103.77818181818182, 'gini = 0.0\\nsamples = 2\\nvalue = [2, 0]'),\n",
       " Text(73.14578556979097, 103.77818181818182, 'gini = 0.0\\nsamples = 1\\nvalue = [0, 1]'),\n",
       " Text(65.58287255563049, 143.31272727272727, 'gini = 0.0\\nsamples = 2\\nvalue = [2, 0]'),\n",
       " Text(115.4164373314228, 182.84727272727272, 'X[9] <= 4400.0\\ngini = 0.5\\nsamples = 375\\nvalue = [184, 191]'),\n",
       " Text(96.28075059002023, 172.96363636363637, 'X[2] <= 27.0\\ngini = 0.491\\nsamples = 248\\nvalue = [141, 107]'),\n",
       " Text(83.36136210384356, 163.07999999999998, 'X[12] <= 696.5\\ngini = 0.451\\nsamples = 35\\nvalue = [12, 23]'),\n",
       " Text(80.20074173971679, 153.19636363636363, 'X[11] <= 257.5\\ngini = 0.492\\nsamples = 16\\nvalue = [9, 7]'),\n",
       " Text(78.39467296021579, 143.31272727272727, 'X[8] <= 48.5\\ngini = 0.444\\nsamples = 9\\nvalue = [3, 6]'),\n",
       " Text(77.49163857046527, 133.42909090909092, 'gini = 0.0\\nsamples = 2\\nvalue = [2, 0]'),\n",
       " Text(79.29770734996629, 133.42909090909092, 'X[9] <= 3750.0\\ngini = 0.245\\nsamples = 7\\nvalue = [1, 6]'),\n",
       " Text(78.39467296021579, 123.54545454545455, 'gini = 0.0\\nsamples = 6\\nvalue = [0, 6]'),\n",
       " Text(80.20074173971679, 123.54545454545455, 'gini = 0.0\\nsamples = 1\\nvalue = [1, 0]'),\n",
       " Text(82.00681051921781, 143.31272727272727, 'X[9] <= 2250.0\\ngini = 0.245\\nsamples = 7\\nvalue = [6, 1]'),\n",
       " Text(81.10377612946729, 133.42909090909092, 'gini = 0.0\\nsamples = 6\\nvalue = [6, 0]'),\n",
       " Text(82.90984490896831, 133.42909090909092, 'gini = 0.0\\nsamples = 1\\nvalue = [0, 1]'),\n",
       " Text(86.52198246797033, 153.19636363636363, 'X[3] <= 48.0\\ngini = 0.266\\nsamples = 19\\nvalue = [3, 16]'),\n",
       " Text(85.61894807821983, 143.31272727272727, 'X[12] <= 962.0\\ngini = 0.111\\nsamples = 17\\nvalue = [1, 16]'),\n",
       " Text(84.71591368846933, 133.42909090909092, 'X[4] <= 0.5\\ngini = 0.444\\nsamples = 3\\nvalue = [1, 2]'),\n",
       " Text(83.81287929871881, 123.54545454545455, 'gini = 0.0\\nsamples = 2\\nvalue = [0, 2]'),\n",
       " Text(85.61894807821983, 123.54545454545455, 'gini = 0.0\\nsamples = 1\\nvalue = [1, 0]'),\n",
       " Text(86.52198246797033, 133.42909090909092, 'gini = 0.0\\nsamples = 14\\nvalue = [0, 14]'),\n",
       " Text(87.42501685772083, 143.31272727272727, 'gini = 0.0\\nsamples = 2\\nvalue = [2, 0]'),\n",
       " Text(109.2001390761969, 163.07999999999998, 'X[7] <= 78.0\\ngini = 0.478\\nsamples = 213\\nvalue = [129, 84]'),\n",
       " Text(103.71491065407957, 153.19636363636363, 'X[8] <= 189.5\\ngini = 0.487\\nsamples = 195\\nvalue = [113, 82]'),\n",
       " Text(98.16266014834795, 143.31272727272727, 'X[0] <= 2.5\\ngini = 0.476\\nsamples = 179\\nvalue = [109, 70]'),\n",
       " Text(92.47636547538774, 133.42909090909092, 'X[9] <= 3250.0\\ngini = 0.455\\nsamples = 154\\nvalue = [100, 54]'),\n",
       " Text(87.42501685772083, 123.54545454545455, 'X[8] <= 91.0\\ngini = 0.475\\nsamples = 131\\nvalue = [80, 51]'),\n",
       " Text(81.83749157113958, 113.66181818181819, 'X[3] <= 33.5\\ngini = 0.436\\nsamples = 78\\nvalue = [53, 25]'),\n",
       " Text(78.78975050573163, 103.77818181818182, 'X[11] <= 1425.0\\ngini = 0.476\\nsamples = 59\\nvalue = [36, 23]'),\n",
       " Text(77.88671611598112, 93.89454545454547, 'X[11] <= 545.0\\ngini = 0.444\\nsamples = 54\\nvalue = [36, 18]'),\n",
       " Text(74.04881995954148, 84.01090909090911, 'X[11] <= 275.0\\ngini = 0.408\\nsamples = 7\\nvalue = [2, 5]'),\n",
       " Text(73.14578556979097, 74.12727272727273, 'gini = 0.0\\nsamples = 1\\nvalue = [1, 0]'),\n",
       " Text(74.95185434929198, 74.12727272727273, 'X[12] <= 712.5\\ngini = 0.278\\nsamples = 6\\nvalue = [1, 5]'),\n",
       " Text(74.04881995954148, 64.24363636363637, 'X[0] <= 0.5\\ngini = 0.5\\nsamples = 2\\nvalue = [1, 1]'),\n",
       " Text(73.14578556979097, 54.360000000000014, 'gini = 0.0\\nsamples = 1\\nvalue = [1, 0]'),\n",
       " Text(74.95185434929198, 54.360000000000014, 'gini = 0.0\\nsamples = 1\\nvalue = [0, 1]'),\n",
       " Text(75.85488873904248, 64.24363636363637, 'gini = 0.0\\nsamples = 4\\nvalue = [0, 4]'),\n",
       " Text(81.72461227242077, 84.01090909090911, 'X[0] <= 1.5\\ngini = 0.4\\nsamples = 47\\nvalue = [34, 13]'),\n",
       " Text(79.4670262980445, 74.12727272727273, 'X[9] <= 1250.0\\ngini = 0.313\\nsamples = 36\\nvalue = [29, 7]'),\n",
       " Text(77.6609575185435, 64.24363636363637, 'X[12] <= 1312.5\\ngini = 0.257\\nsamples = 33\\nvalue = [28, 5]'),\n",
       " Text(76.757923128793, 54.360000000000014, 'X[12] <= 1310.5\\ngini = 0.401\\nsamples = 18\\nvalue = [13, 5]'),\n",
       " Text(75.85488873904248, 44.47636363636366, 'X[8] <= 68.5\\ngini = 0.36\\nsamples = 17\\nvalue = [13, 4]'),\n",
       " Text(74.04881995954148, 34.592727272727274, 'X[11] <= 625.0\\ngini = 0.18\\nsamples = 10\\nvalue = [9, 1]'),\n",
       " Text(73.14578556979097, 24.709090909090918, 'X[12] <= 865.0\\ngini = 0.5\\nsamples = 2\\nvalue = [1, 1]'),\n",
       " Text(72.24275118004046, 14.825454545454562, 'gini = 0.0\\nsamples = 1\\nvalue = [1, 0]'),\n",
       " Text(74.04881995954148, 14.825454545454562, 'gini = 0.0\\nsamples = 1\\nvalue = [0, 1]'),\n",
       " Text(74.95185434929198, 24.709090909090918, 'gini = 0.0\\nsamples = 8\\nvalue = [8, 0]'),\n",
       " Text(77.6609575185435, 34.592727272727274, 'X[3] <= 28.0\\ngini = 0.49\\nsamples = 7\\nvalue = [4, 3]'),\n",
       " Text(76.757923128793, 24.709090909090918, 'X[12] <= 912.5\\ngini = 0.48\\nsamples = 5\\nvalue = [2, 3]'),\n",
       " Text(75.85488873904248, 14.825454545454562, 'X[8] <= 73.0\\ngini = 0.444\\nsamples = 3\\nvalue = [2, 1]'),\n",
       " Text(74.95185434929198, 4.941818181818206, 'gini = 0.0\\nsamples = 2\\nvalue = [2, 0]'),\n",
       " Text(76.757923128793, 4.941818181818206, 'gini = 0.0\\nsamples = 1\\nvalue = [0, 1]'),\n",
       " Text(77.6609575185435, 14.825454545454562, 'gini = 0.0\\nsamples = 2\\nvalue = [0, 2]'),\n",
       " Text(78.563991908294, 24.709090909090918, 'gini = 0.0\\nsamples = 2\\nvalue = [2, 0]'),\n",
       " Text(77.6609575185435, 44.47636363636366, 'gini = 0.0\\nsamples = 1\\nvalue = [0, 1]'),\n",
       " Text(78.563991908294, 54.360000000000014, 'gini = 0.0\\nsamples = 15\\nvalue = [15, 0]'),\n",
       " Text(81.27309507754552, 64.24363636363637, 'X[11] <= 1150.0\\ngini = 0.444\\nsamples = 3\\nvalue = [1, 2]'),\n",
       " Text(80.37006068779502, 54.360000000000014, 'gini = 0.0\\nsamples = 2\\nvalue = [0, 2]'),\n",
       " Text(82.17612946729602, 54.360000000000014, 'gini = 0.0\\nsamples = 1\\nvalue = [1, 0]'),\n",
       " Text(83.98219824679704, 74.12727272727273, 'X[11] <= 850.0\\ngini = 0.496\\nsamples = 11\\nvalue = [5, 6]'),\n",
       " Text(83.07916385704652, 64.24363636363637, 'gini = 0.0\\nsamples = 3\\nvalue = [3, 0]'),\n",
       " Text(84.88523263654754, 64.24363636363637, 'X[9] <= 1250.0\\ngini = 0.375\\nsamples = 8\\nvalue = [2, 6]'),\n",
       " Text(83.98219824679704, 54.360000000000014, 'gini = 0.0\\nsamples = 6\\nvalue = [0, 6]'),\n",
       " Text(85.78826702629804, 54.360000000000014, 'gini = 0.0\\nsamples = 2\\nvalue = [2, 0]'),\n",
       " Text(79.69278489548213, 93.89454545454547, 'gini = 0.0\\nsamples = 5\\nvalue = [0, 5]'),\n",
       " Text(84.88523263654754, 103.77818181818182, 'X[3] <= 45.5\\ngini = 0.188\\nsamples = 19\\nvalue = [17, 2]'),\n",
       " Text(83.98219824679704, 93.89454545454547, 'gini = 0.0\\nsamples = 13\\nvalue = [13, 0]'),\n",
       " Text(85.78826702629804, 93.89454545454547, 'X[3] <= 47.5\\ngini = 0.444\\nsamples = 6\\nvalue = [4, 2]'),\n",
       " Text(84.88523263654754, 84.01090909090911, 'gini = 0.0\\nsamples = 1\\nvalue = [0, 1]'),\n",
       " Text(86.69130141604856, 84.01090909090911, 'X[8] <= 77.5\\ngini = 0.32\\nsamples = 5\\nvalue = [4, 1]'),\n",
       " Text(85.78826702629804, 74.12727272727273, 'gini = 0.0\\nsamples = 4\\nvalue = [4, 0]'),\n",
       " Text(87.59433580579906, 74.12727272727273, 'gini = 0.0\\nsamples = 1\\nvalue = [0, 1]'),\n",
       " Text(93.01254214430209, 113.66181818181819, 'X[8] <= 167.0\\ngini = 0.5\\nsamples = 53\\nvalue = [27, 26]'),\n",
       " Text(92.10950775455159, 103.77818181818182, 'X[12] <= 730.0\\ngini = 0.497\\nsamples = 48\\nvalue = [22, 26]'),\n",
       " Text(91.20647336480108, 93.89454545454547, 'gini = 0.0\\nsamples = 4\\nvalue = [4, 0]'),\n",
       " Text(93.01254214430209, 93.89454545454547, 'X[7] <= 54.5\\ngini = 0.483\\nsamples = 44\\nvalue = [18, 26]'),\n",
       " Text(91.20647336480108, 84.01090909090911, 'X[7] <= 47.5\\ngini = 0.499\\nsamples = 31\\nvalue = [15, 16]'),\n",
       " Text(90.30343897505058, 74.12727272727273, 'X[3] <= 31.0\\ngini = 0.483\\nsamples = 27\\nvalue = [11, 16]'),\n",
       " Text(88.49737019554956, 64.24363636363637, 'X[11] <= 950.0\\ngini = 0.415\\nsamples = 17\\nvalue = [5, 12]'),\n",
       " Text(87.59433580579906, 54.360000000000014, 'gini = 0.0\\nsamples = 6\\nvalue = [0, 6]'),\n",
       " Text(89.40040458530007, 54.360000000000014, 'X[8] <= 144.5\\ngini = 0.496\\nsamples = 11\\nvalue = [5, 6]'),\n",
       " Text(88.49737019554956, 44.47636363636366, 'X[8] <= 115.5\\ngini = 0.408\\nsamples = 7\\nvalue = [5, 2]'),\n",
       " Text(87.59433580579906, 34.592727272727274, 'X[0] <= 0.5\\ngini = 0.444\\nsamples = 3\\nvalue = [1, 2]'),\n",
       " Text(86.69130141604856, 24.709090909090918, 'gini = 0.0\\nsamples = 1\\nvalue = [1, 0]'),\n",
       " Text(88.49737019554956, 24.709090909090918, 'gini = 0.0\\nsamples = 2\\nvalue = [0, 2]'),\n",
       " Text(89.40040458530007, 34.592727272727274, 'gini = 0.0\\nsamples = 4\\nvalue = [4, 0]'),\n",
       " Text(90.30343897505058, 44.47636363636366, 'gini = 0.0\\nsamples = 4\\nvalue = [0, 4]'),\n",
       " Text(92.10950775455159, 64.24363636363637, 'X[1] <= 0.5\\ngini = 0.48\\nsamples = 10\\nvalue = [6, 4]'),\n",
       " Text(91.20647336480108, 54.360000000000014, 'gini = 0.0\\nsamples = 2\\nvalue = [0, 2]'),\n",
       " Text(93.01254214430209, 54.360000000000014, 'X[7] <= 46.0\\ngini = 0.375\\nsamples = 8\\nvalue = [6, 2]'),\n",
       " Text(92.10950775455159, 44.47636363636366, 'X[8] <= 154.0\\ngini = 0.245\\nsamples = 7\\nvalue = [6, 1]'),\n",
       " Text(91.20647336480108, 34.592727272727274, 'gini = 0.0\\nsamples = 6\\nvalue = [6, 0]'),\n",
       " Text(93.01254214430209, 34.592727272727274, 'gini = 0.0\\nsamples = 1\\nvalue = [0, 1]'),\n",
       " Text(93.9155765340526, 44.47636363636366, 'gini = 0.0\\nsamples = 1\\nvalue = [0, 1]'),\n",
       " Text(92.10950775455159, 74.12727272727273, 'gini = 0.0\\nsamples = 4\\nvalue = [4, 0]'),\n",
       " Text(94.8186109238031, 84.01090909090911, 'X[3] <= 24.5\\ngini = 0.355\\nsamples = 13\\nvalue = [3, 10]'),\n",
       " Text(93.9155765340526, 74.12727272727273, 'gini = 0.0\\nsamples = 2\\nvalue = [2, 0]'),\n",
       " Text(95.72164531355361, 74.12727272727273, 'X[3] <= 43.5\\ngini = 0.165\\nsamples = 11\\nvalue = [1, 10]'),\n",
       " Text(94.8186109238031, 64.24363636363637, 'gini = 0.0\\nsamples = 9\\nvalue = [0, 9]'),\n",
       " Text(96.62467970330411, 64.24363636363637, 'X[2] <= 54.0\\ngini = 0.5\\nsamples = 2\\nvalue = [1, 1]'),\n",
       " Text(95.72164531355361, 54.360000000000014, 'gini = 0.0\\nsamples = 1\\nvalue = [1, 0]'),\n",
       " Text(97.52771409305463, 54.360000000000014, 'gini = 0.0\\nsamples = 1\\nvalue = [0, 1]'),\n",
       " Text(93.9155765340526, 103.77818181818182, 'gini = 0.0\\nsamples = 5\\nvalue = [5, 0]'),\n",
       " Text(97.52771409305463, 123.54545454545455, 'X[3] <= 22.5\\ngini = 0.227\\nsamples = 23\\nvalue = [20, 3]'),\n",
       " Text(96.62467970330411, 113.66181818181819, 'gini = 0.0\\nsamples = 1\\nvalue = [0, 1]'),\n",
       " Text(98.43074848280513, 113.66181818181819, 'X[10] <= 2890.0\\ngini = 0.165\\nsamples = 22\\nvalue = [20, 2]'),\n",
       " Text(96.62467970330411, 103.77818181818182, 'X[12] <= 1619.5\\ngini = 0.095\\nsamples = 20\\nvalue = [19, 1]'),\n",
       " Text(95.72164531355361, 93.89454545454547, 'gini = 0.0\\nsamples = 14\\nvalue = [14, 0]'),\n",
       " Text(97.52771409305463, 93.89454545454547, 'X[12] <= 1710.0\\ngini = 0.278\\nsamples = 6\\nvalue = [5, 1]'),\n",
       " Text(96.62467970330411, 84.01090909090911, 'gini = 0.0\\nsamples = 1\\nvalue = [0, 1]'),\n",
       " Text(98.43074848280513, 84.01090909090911, 'gini = 0.0\\nsamples = 5\\nvalue = [5, 0]'),\n",
       " Text(100.23681726230613, 103.77818181818182, 'X[8] <= 141.0\\ngini = 0.5\\nsamples = 2\\nvalue = [1, 1]'),\n",
       " Text(99.33378287255563, 93.89454545454547, 'gini = 0.0\\nsamples = 1\\nvalue = [0, 1]'),\n",
       " Text(101.13985165205665, 93.89454545454547, 'gini = 0.0\\nsamples = 1\\nvalue = [1, 0]'),\n",
       " Text(103.84895482130817, 133.42909090909092, 'X[12] <= 1340.0\\ngini = 0.461\\nsamples = 25\\nvalue = [9, 16]'),\n",
       " Text(102.04288604180715, 123.54545454545455, 'X[8] <= 10.5\\ngini = 0.153\\nsamples = 12\\nvalue = [1, 11]'),\n",
       " Text(101.13985165205665, 113.66181818181819, 'gini = 0.0\\nsamples = 1\\nvalue = [1, 0]'),\n",
       " Text(102.94592043155765, 113.66181818181819, 'gini = 0.0\\nsamples = 11\\nvalue = [0, 11]'),\n",
       " Text(105.65502360080917, 123.54545454545455, 'X[9] <= 3500.0\\ngini = 0.473\\nsamples = 13\\nvalue = [8, 5]'),\n",
       " Text(104.75198921105867, 113.66181818181819, 'X[11] <= 1650.0\\ngini = 0.32\\nsamples = 10\\nvalue = [8, 2]'),\n",
       " Text(103.84895482130817, 103.77818181818182, 'X[12] <= 1643.0\\ngini = 0.198\\nsamples = 9\\nvalue = [8, 1]'),\n",
       " Text(102.94592043155765, 93.89454545454547, 'gini = 0.0\\nsamples = 6\\nvalue = [6, 0]'),\n",
       " Text(104.75198921105867, 93.89454545454547, 'X[4] <= 0.5\\ngini = 0.444\\nsamples = 3\\nvalue = [2, 1]'),\n",
       " Text(103.84895482130817, 84.01090909090911, 'gini = 0.0\\nsamples = 2\\nvalue = [2, 0]'),\n",
       " Text(105.65502360080917, 84.01090909090911, 'gini = 0.0\\nsamples = 1\\nvalue = [0, 1]'),\n",
       " Text(105.65502360080917, 103.77818181818182, 'gini = 0.0\\nsamples = 1\\nvalue = [0, 1]'),\n",
       " Text(106.55805799055967, 113.66181818181819, 'gini = 0.0\\nsamples = 3\\nvalue = [0, 3]'),\n",
       " Text(109.2671611598112, 143.31272727272727, 'X[9] <= 750.0\\ngini = 0.375\\nsamples = 16\\nvalue = [4, 12]'),\n",
       " Text(108.3641267700607, 133.42909090909092, 'X[12] <= 1493.5\\ngini = 0.49\\nsamples = 7\\nvalue = [4, 3]'),\n",
       " Text(107.46109238031019, 123.54545454545455, 'gini = 0.0\\nsamples = 4\\nvalue = [4, 0]'),\n",
       " Text(109.2671611598112, 123.54545454545455, 'gini = 0.0\\nsamples = 3\\nvalue = [0, 3]'),\n",
       " Text(110.1701955495617, 133.42909090909092, 'gini = 0.0\\nsamples = 9\\nvalue = [0, 9]'),\n",
       " Text(114.68536749831424, 153.19636363636363, 'X[8] <= 19.0\\ngini = 0.198\\nsamples = 18\\nvalue = [16, 2]'),\n",
       " Text(112.87929871881322, 143.31272727272727, 'X[0] <= 0.5\\ngini = 0.5\\nsamples = 2\\nvalue = [1, 1]'),\n",
       " Text(111.97626432906272, 133.42909090909092, 'gini = 0.0\\nsamples = 1\\nvalue = [1, 0]'),\n",
       " Text(113.78233310856372, 133.42909090909092, 'gini = 0.0\\nsamples = 1\\nvalue = [0, 1]'),\n",
       " Text(116.49143627781524, 143.31272727272727, 'X[3] <= 32.5\\ngini = 0.117\\nsamples = 16\\nvalue = [15, 1]'),\n",
       " Text(115.58840188806474, 133.42909090909092, 'X[11] <= 1125.0\\ngini = 0.444\\nsamples = 3\\nvalue = [2, 1]'),\n",
       " Text(114.68536749831424, 123.54545454545455, 'gini = 0.0\\nsamples = 2\\nvalue = [2, 0]'),\n",
       " Text(116.49143627781524, 123.54545454545455, 'gini = 0.0\\nsamples = 1\\nvalue = [0, 1]'),\n",
       " Text(117.39447066756576, 133.42909090909092, 'gini = 0.0\\nsamples = 13\\nvalue = [13, 0]'),\n",
       " Text(134.55212407282536, 172.96363636363637, 'X[11] <= 1225.0\\ngini = 0.448\\nsamples = 127\\nvalue = [43, 84]'),\n",
       " Text(129.5854349291976, 163.07999999999998, 'X[10] <= 2950.0\\ngini = 0.372\\nsamples = 85\\nvalue = [21, 64]'),\n",
       " Text(125.5217801753203, 153.19636363636363, 'X[8] <= 49.5\\ngini = 0.314\\nsamples = 77\\nvalue = [15, 62]'),\n",
       " Text(121.00660822656778, 143.31272727272727, 'X[8] <= 39.5\\ngini = 0.48\\nsamples = 20\\nvalue = [8, 12]'),\n",
       " Text(120.10357383681726, 133.42909090909092, 'X[11] <= 950.0\\ngini = 0.415\\nsamples = 17\\nvalue = [5, 12]'),\n",
       " Text(118.29750505731626, 123.54545454545455, 'X[12] <= 798.5\\ngini = 0.278\\nsamples = 12\\nvalue = [2, 10]'),\n",
       " Text(117.39447066756576, 113.66181818181819, 'gini = 0.0\\nsamples = 1\\nvalue = [1, 0]'),\n",
       " Text(119.20053944706676, 113.66181818181819, 'X[2] <= 54.0\\ngini = 0.165\\nsamples = 11\\nvalue = [1, 10]'),\n",
       " Text(118.29750505731626, 103.77818181818182, 'gini = 0.0\\nsamples = 10\\nvalue = [0, 10]'),\n",
       " Text(120.10357383681726, 103.77818181818182, 'gini = 0.0\\nsamples = 1\\nvalue = [1, 0]'),\n",
       " Text(121.90964261631828, 123.54545454545455, 'X[12] <= 1320.0\\ngini = 0.48\\nsamples = 5\\nvalue = [3, 2]'),\n",
       " Text(121.00660822656778, 113.66181818181819, 'gini = 0.0\\nsamples = 2\\nvalue = [2, 0]'),\n",
       " Text(122.81267700606878, 113.66181818181819, 'X[3] <= 48.5\\ngini = 0.444\\nsamples = 3\\nvalue = [1, 2]'),\n",
       " Text(121.90964261631828, 103.77818181818182, 'gini = 0.0\\nsamples = 2\\nvalue = [0, 2]'),\n",
       " Text(123.71571139581928, 103.77818181818182, 'gini = 0.0\\nsamples = 1\\nvalue = [1, 0]'),\n",
       " Text(121.90964261631828, 133.42909090909092, 'gini = 0.0\\nsamples = 3\\nvalue = [3, 0]'),\n",
       " Text(130.03695212407283, 143.31272727272727, 'X[10] <= 1150.0\\ngini = 0.215\\nsamples = 57\\nvalue = [7, 50]'),\n",
       " Text(128.23088334457182, 133.42909090909092, 'X[7] <= 100.0\\ngini = 0.12\\nsamples = 47\\nvalue = [3, 44]'),\n",
       " Text(127.3278489548213, 123.54545454545455, 'X[8] <= 82.5\\ngini = 0.083\\nsamples = 46\\nvalue = [2, 44]'),\n",
       " Text(126.4248145650708, 113.66181818181819, 'X[4] <= 0.5\\ngini = 0.32\\nsamples = 10\\nvalue = [2, 8]'),\n",
       " Text(125.5217801753203, 103.77818181818182, 'gini = 0.0\\nsamples = 8\\nvalue = [0, 8]'),\n",
       " Text(127.3278489548213, 103.77818181818182, 'gini = 0.0\\nsamples = 2\\nvalue = [2, 0]'),\n",
       " Text(128.23088334457182, 113.66181818181819, 'gini = 0.0\\nsamples = 36\\nvalue = [0, 36]'),\n",
       " Text(129.13391773432232, 123.54545454545455, 'gini = 0.0\\nsamples = 1\\nvalue = [1, 0]'),\n",
       " Text(131.84302090357383, 133.42909090909092, 'X[9] <= 6550.0\\ngini = 0.48\\nsamples = 10\\nvalue = [4, 6]'),\n",
       " Text(130.93998651382333, 123.54545454545455, 'X[8] <= 113.5\\ngini = 0.444\\nsamples = 6\\nvalue = [4, 2]'),\n",
       " Text(130.03695212407283, 113.66181818181819, 'gini = 0.0\\nsamples = 2\\nvalue = [0, 2]'),\n",
       " Text(131.84302090357383, 113.66181818181819, 'gini = 0.0\\nsamples = 4\\nvalue = [4, 0]'),\n",
       " Text(132.74605529332436, 123.54545454545455, 'gini = 0.0\\nsamples = 4\\nvalue = [0, 4]'),\n",
       " Text(133.64908968307486, 153.19636363636363, 'X[2] <= 42.0\\ngini = 0.375\\nsamples = 8\\nvalue = [6, 2]'),\n",
       " Text(132.74605529332436, 143.31272727272727, 'gini = 0.0\\nsamples = 5\\nvalue = [5, 0]'),\n",
       " Text(134.55212407282536, 143.31272727272727, 'X[8] <= 165.0\\ngini = 0.444\\nsamples = 3\\nvalue = [1, 2]'),\n",
       " Text(133.64908968307486, 133.42909090909092, 'gini = 0.0\\nsamples = 2\\nvalue = [0, 2]'),\n",
       " Text(135.45515846257587, 133.42909090909092, 'gini = 0.0\\nsamples = 1\\nvalue = [1, 0]'),\n",
       " Text(139.51881321645314, 163.07999999999998, 'X[3] <= 25.5\\ngini = 0.499\\nsamples = 42\\nvalue = [22, 20]'),\n",
       " Text(137.26122724207687, 153.19636363636363, 'X[8] <= 390.0\\ngini = 0.198\\nsamples = 9\\nvalue = [1, 8]'),\n",
       " Text(136.35819285232637, 143.31272727272727, 'gini = 0.0\\nsamples = 8\\nvalue = [0, 8]'),\n",
       " Text(138.16426163182737, 143.31272727272727, 'gini = 0.0\\nsamples = 1\\nvalue = [1, 0]'),\n",
       " Text(141.7763991908294, 153.19636363636363, 'X[9] <= 18000.0\\ngini = 0.463\\nsamples = 33\\nvalue = [21, 12]'),\n",
       " Text(139.9703304113284, 143.31272727272727, 'X[11] <= 3437.5\\ngini = 0.365\\nsamples = 25\\nvalue = [19, 6]'),\n",
       " Text(139.06729602157787, 133.42909090909092, 'X[7] <= 97.5\\ngini = 0.33\\nsamples = 24\\nvalue = [19, 5]'),\n",
       " Text(138.16426163182737, 123.54545454545455, 'X[0] <= 2.5\\ngini = 0.287\\nsamples = 23\\nvalue = [19, 4]'),\n",
       " Text(136.35819285232637, 113.66181818181819, 'X[8] <= 62.5\\ngini = 0.188\\nsamples = 19\\nvalue = [17, 2]'),\n",
       " Text(135.45515846257587, 103.77818181818182, 'X[12] <= 1711.0\\ngini = 0.48\\nsamples = 5\\nvalue = [3, 2]'),\n",
       " Text(134.55212407282536, 93.89454545454547, 'gini = 0.0\\nsamples = 2\\nvalue = [0, 2]'),\n",
       " Text(136.35819285232637, 93.89454545454547, 'gini = 0.0\\nsamples = 3\\nvalue = [3, 0]'),\n",
       " Text(137.26122724207687, 103.77818181818182, 'gini = 0.0\\nsamples = 14\\nvalue = [14, 0]'),\n",
       " Text(139.9703304113284, 113.66181818181819, 'X[3] <= 43.0\\ngini = 0.5\\nsamples = 4\\nvalue = [2, 2]'),\n",
       " Text(139.06729602157787, 103.77818181818182, 'gini = 0.0\\nsamples = 2\\nvalue = [0, 2]'),\n",
       " Text(140.8733648010789, 103.77818181818182, 'gini = 0.0\\nsamples = 2\\nvalue = [2, 0]'),\n",
       " Text(139.9703304113284, 123.54545454545455, 'gini = 0.0\\nsamples = 1\\nvalue = [0, 1]'),\n",
       " Text(140.8733648010789, 133.42909090909092, 'gini = 0.0\\nsamples = 1\\nvalue = [0, 1]'),\n",
       " Text(143.5824679703304, 143.31272727272727, 'X[8] <= 86.0\\ngini = 0.375\\nsamples = 8\\nvalue = [2, 6]'),\n",
       " Text(142.6794335805799, 133.42909090909092, 'gini = 0.0\\nsamples = 5\\nvalue = [0, 5]'),\n",
       " Text(144.48550236008091, 133.42909090909092, 'X[9] <= 22500.0\\ngini = 0.444\\nsamples = 3\\nvalue = [2, 1]'),\n",
       " Text(143.5824679703304, 123.54545454545455, 'gini = 0.0\\nsamples = 1\\nvalue = [0, 1]'),\n",
       " Text(145.38853674983142, 123.54545454545455, 'gini = 0.0\\nsamples = 2\\nvalue = [2, 0]'),\n",
       " Text(165.93256911665543, 192.73090909090908, 'X[6] <= 0.5\\ngini = 0.392\\nsamples = 157\\nvalue = [115, 42]'),\n",
       " Text(155.77343223196223, 182.84727272727272, 'X[1] <= 0.5\\ngini = 0.469\\nsamples = 88\\nvalue = [55, 33]'),\n",
       " Text(149.90370869858396, 172.96363636363637, 'X[8] <= 144.5\\ngini = 0.477\\nsamples = 28\\nvalue = [11, 17]'),\n",
       " Text(147.19460552933245, 163.07999999999998, 'X[10] <= 250.0\\ngini = 0.444\\nsamples = 12\\nvalue = [8, 4]'),\n",
       " Text(146.29157113958195, 153.19636363636363, 'X[3] <= 41.5\\ngini = 0.444\\nsamples = 6\\nvalue = [2, 4]'),\n",
       " Text(145.38853674983142, 143.31272727272727, 'gini = 0.0\\nsamples = 3\\nvalue = [0, 3]'),\n",
       " Text(147.19460552933245, 143.31272727272727, 'X[8] <= 74.0\\ngini = 0.444\\nsamples = 3\\nvalue = [2, 1]'),\n",
       " Text(146.29157113958195, 133.42909090909092, 'gini = 0.0\\nsamples = 1\\nvalue = [0, 1]'),\n",
       " Text(148.09763991908295, 133.42909090909092, 'gini = 0.0\\nsamples = 2\\nvalue = [2, 0]'),\n",
       " Text(148.09763991908295, 153.19636363636363, 'gini = 0.0\\nsamples = 6\\nvalue = [6, 0]'),\n",
       " Text(152.61281186783546, 163.07999999999998, 'X[11] <= 1900.0\\ngini = 0.305\\nsamples = 16\\nvalue = [3, 13]'),\n",
       " Text(151.70977747808496, 153.19636363636363, 'X[7] <= 97.5\\ngini = 0.231\\nsamples = 15\\nvalue = [2, 13]'),\n",
       " Text(150.80674308833446, 143.31272727272727, 'X[8] <= 331.0\\ngini = 0.133\\nsamples = 14\\nvalue = [1, 13]'),\n",
       " Text(149.90370869858396, 133.42909090909092, 'gini = 0.0\\nsamples = 12\\nvalue = [0, 12]'),\n",
       " Text(151.70977747808496, 133.42909090909092, 'X[0] <= 1.0\\ngini = 0.5\\nsamples = 2\\nvalue = [1, 1]'),\n",
       " Text(150.80674308833446, 123.54545454545455, 'gini = 0.0\\nsamples = 1\\nvalue = [0, 1]'),\n",
       " Text(152.61281186783546, 123.54545454545455, 'gini = 0.0\\nsamples = 1\\nvalue = [1, 0]'),\n",
       " Text(152.61281186783546, 143.31272727272727, 'gini = 0.0\\nsamples = 1\\nvalue = [1, 0]'),\n",
       " Text(153.515846257586, 153.19636363636363, 'gini = 0.0\\nsamples = 1\\nvalue = [1, 0]'),\n",
       " Text(161.64315576534054, 172.96363636363637, 'X[3] <= 34.5\\ngini = 0.391\\nsamples = 60\\nvalue = [44, 16]'),\n",
       " Text(157.127983816588, 163.07999999999998, 'X[12] <= 1284.0\\ngini = 0.488\\nsamples = 26\\nvalue = [15, 11]'),\n",
       " Text(155.321915037087, 153.19636363636363, 'X[3] <= 24.5\\ngini = 0.32\\nsamples = 10\\nvalue = [2, 8]'),\n",
       " Text(154.4188806473365, 143.31272727272727, 'gini = 0.0\\nsamples = 2\\nvalue = [2, 0]'),\n",
       " Text(156.2249494268375, 143.31272727272727, 'gini = 0.0\\nsamples = 8\\nvalue = [0, 8]'),\n",
       " Text(158.934052596089, 153.19636363636363, 'X[3] <= 23.5\\ngini = 0.305\\nsamples = 16\\nvalue = [13, 3]'),\n",
       " Text(158.0310182063385, 143.31272727272727, 'gini = 0.0\\nsamples = 2\\nvalue = [0, 2]'),\n",
       " Text(159.83708698583953, 143.31272727272727, 'X[2] <= 45.0\\ngini = 0.133\\nsamples = 14\\nvalue = [13, 1]'),\n",
       " Text(158.934052596089, 133.42909090909092, 'X[4] <= 0.5\\ngini = 0.5\\nsamples = 2\\nvalue = [1, 1]'),\n",
       " Text(158.0310182063385, 123.54545454545455, 'gini = 0.0\\nsamples = 1\\nvalue = [0, 1]'),\n",
       " Text(159.83708698583953, 123.54545454545455, 'gini = 0.0\\nsamples = 1\\nvalue = [1, 0]'),\n",
       " Text(160.74012137559004, 133.42909090909092, 'gini = 0.0\\nsamples = 12\\nvalue = [12, 0]'),\n",
       " Text(166.15832771409305, 163.07999999999998, 'X[3] <= 54.0\\ngini = 0.251\\nsamples = 34\\nvalue = [29, 5]'),\n",
       " Text(165.25529332434255, 153.19636363636363, 'X[12] <= 2571.0\\ngini = 0.213\\nsamples = 33\\nvalue = [29, 4]'),\n",
       " Text(163.44922454484154, 143.31272727272727, 'X[2] <= 54.0\\ngini = 0.128\\nsamples = 29\\nvalue = [27, 2]'),\n",
       " Text(162.54619015509104, 133.42909090909092, 'gini = 0.0\\nsamples = 15\\nvalue = [15, 0]'),\n",
       " Text(164.35225893459204, 133.42909090909092, 'X[11] <= 1050.0\\ngini = 0.245\\nsamples = 14\\nvalue = [12, 2]'),\n",
       " Text(162.54619015509104, 123.54545454545455, 'X[8] <= 85.0\\ngini = 0.5\\nsamples = 2\\nvalue = [1, 1]'),\n",
       " Text(161.64315576534054, 113.66181818181819, 'gini = 0.0\\nsamples = 1\\nvalue = [0, 1]'),\n",
       " Text(163.44922454484154, 113.66181818181819, 'gini = 0.0\\nsamples = 1\\nvalue = [1, 0]'),\n",
       " Text(166.15832771409305, 123.54545454545455, 'X[8] <= 215.0\\ngini = 0.153\\nsamples = 12\\nvalue = [11, 1]'),\n",
       " Text(165.25529332434255, 113.66181818181819, 'gini = 0.0\\nsamples = 10\\nvalue = [10, 0]'),\n",
       " Text(167.06136210384358, 113.66181818181819, 'X[0] <= 2.0\\ngini = 0.5\\nsamples = 2\\nvalue = [1, 1]'),\n",
       " Text(166.15832771409305, 103.77818181818182, 'gini = 0.0\\nsamples = 1\\nvalue = [0, 1]'),\n",
       " Text(167.96439649359408, 103.77818181818182, 'gini = 0.0\\nsamples = 1\\nvalue = [1, 0]'),\n",
       " Text(167.06136210384358, 143.31272727272727, 'X[11] <= 2900.0\\ngini = 0.5\\nsamples = 4\\nvalue = [2, 2]'),\n",
       " Text(166.15832771409305, 133.42909090909092, 'gini = 0.0\\nsamples = 2\\nvalue = [0, 2]'),\n",
       " Text(167.96439649359408, 133.42909090909092, 'gini = 0.0\\nsamples = 2\\nvalue = [2, 0]'),\n",
       " Text(167.06136210384358, 153.19636363636363, 'gini = 0.0\\nsamples = 1\\nvalue = [0, 1]'),\n",
       " Text(176.09170600134863, 182.84727272727272, 'X[11] <= 925.0\\ngini = 0.227\\nsamples = 69\\nvalue = [60, 9]'),\n",
       " Text(172.4795684423466, 172.96363636363637, 'X[11] <= 775.0\\ngini = 0.415\\nsamples = 17\\nvalue = [12, 5]'),\n",
       " Text(170.6734996628456, 163.07999999999998, 'X[12] <= 562.5\\ngini = 0.165\\nsamples = 11\\nvalue = [10, 1]'),\n",
       " Text(169.77046527309508, 153.19636363636363, 'X[12] <= 512.5\\ngini = 0.444\\nsamples = 3\\nvalue = [2, 1]'),\n",
       " Text(168.86743088334458, 143.31272727272727, 'gini = 0.0\\nsamples = 2\\nvalue = [2, 0]'),\n",
       " Text(170.6734996628456, 143.31272727272727, 'gini = 0.0\\nsamples = 1\\nvalue = [0, 1]'),\n",
       " Text(171.5765340525961, 153.19636363636363, 'gini = 0.0\\nsamples = 8\\nvalue = [8, 0]'),\n",
       " Text(174.28563722184762, 163.07999999999998, 'X[7] <= 67.5\\ngini = 0.444\\nsamples = 6\\nvalue = [2, 4]'),\n",
       " Text(173.38260283209712, 153.19636363636363, 'gini = 0.0\\nsamples = 3\\nvalue = [0, 3]'),\n",
       " Text(175.18867161159812, 153.19636363636363, 'X[1] <= 0.5\\ngini = 0.444\\nsamples = 3\\nvalue = [2, 1]'),\n",
       " Text(174.28563722184762, 143.31272727272727, 'gini = 0.0\\nsamples = 1\\nvalue = [0, 1]'),\n",
       " Text(176.09170600134863, 143.31272727272727, 'gini = 0.0\\nsamples = 2\\nvalue = [2, 0]'),\n",
       " Text(179.70384356035063, 172.96363636363637, 'X[3] <= 57.5\\ngini = 0.142\\nsamples = 52\\nvalue = [48, 4]'),\n",
       " Text(177.89777478084963, 163.07999999999998, 'X[12] <= 1651.5\\ngini = 0.113\\nsamples = 50\\nvalue = [47, 3]'),\n",
       " Text(176.99474039109913, 153.19636363636363, 'gini = 0.0\\nsamples = 24\\nvalue = [24, 0]'),\n",
       " Text(178.80080917060013, 153.19636363636363, 'X[12] <= 1665.5\\ngini = 0.204\\nsamples = 26\\nvalue = [23, 3]'),\n",
       " Text(177.89777478084963, 143.31272727272727, 'gini = 0.0\\nsamples = 1\\nvalue = [0, 1]'),\n",
       " Text(179.70384356035063, 143.31272727272727, 'X[3] <= 32.0\\ngini = 0.147\\nsamples = 25\\nvalue = [23, 2]'),\n",
       " Text(178.80080917060013, 133.42909090909092, 'X[2] <= 42.0\\ngini = 0.375\\nsamples = 8\\nvalue = [6, 2]'),\n",
       " Text(177.89777478084963, 123.54545454545455, 'gini = 0.0\\nsamples = 1\\nvalue = [0, 1]'),\n",
       " Text(179.70384356035063, 123.54545454545455, 'X[3] <= 28.0\\ngini = 0.245\\nsamples = 7\\nvalue = [6, 1]'),\n",
       " Text(178.80080917060013, 113.66181818181819, 'gini = 0.0\\nsamples = 5\\nvalue = [5, 0]'),\n",
       " Text(180.60687795010116, 113.66181818181819, 'X[9] <= 4500.0\\ngini = 0.5\\nsamples = 2\\nvalue = [1, 1]'),\n",
       " Text(179.70384356035063, 103.77818181818182, 'gini = 0.0\\nsamples = 1\\nvalue = [0, 1]'),\n",
       " Text(181.50991233985167, 103.77818181818182, 'gini = 0.0\\nsamples = 1\\nvalue = [1, 0]'),\n",
       " Text(180.60687795010116, 133.42909090909092, 'gini = 0.0\\nsamples = 17\\nvalue = [17, 0]'),\n",
       " Text(181.50991233985167, 163.07999999999998, 'X[3] <= 61.5\\ngini = 0.5\\nsamples = 2\\nvalue = [1, 1]'),\n",
       " Text(180.60687795010116, 153.19636363636363, 'gini = 0.0\\nsamples = 1\\nvalue = [0, 1]'),\n",
       " Text(182.41294672960217, 153.19636363636363, 'gini = 0.0\\nsamples = 1\\nvalue = [1, 0]'),\n",
       " Text(279.8375923223618, 202.61454545454546, 'X[5] <= 1.5\\ngini = 0.286\\nsamples = 1281\\nvalue = [221, 1060]'),\n",
       " Text(243.27451033589008, 192.73090909090908, 'X[8] <= 96.5\\ngini = 0.221\\nsamples = 1089\\nvalue = [138, 951]'),\n",
       " Text(213.99093054619016, 182.84727272727272, 'X[9] <= 4250.0\\ngini = 0.384\\nsamples = 305\\nvalue = [79, 226]'),\n",
       " Text(204.02933243425488, 172.96363636363637, 'X[11] <= 1162.5\\ngini = 0.454\\nsamples = 195\\nvalue = [68, 127]'),\n",
       " Text(194.7167902899528, 163.07999999999998, 'X[12] <= 928.5\\ngini = 0.398\\nsamples = 142\\nvalue = [39, 103]'),\n",
       " Text(186.47660148347944, 153.19636363636363, 'X[3] <= 27.5\\ngini = 0.498\\nsamples = 34\\nvalue = [18, 16]'),\n",
       " Text(183.31598111935267, 143.31272727272727, 'X[11] <= 162.5\\ngini = 0.32\\nsamples = 10\\nvalue = [8, 2]'),\n",
       " Text(182.41294672960217, 133.42909090909092, 'gini = 0.0\\nsamples = 1\\nvalue = [0, 1]'),\n",
       " Text(184.21901550910317, 133.42909090909092, 'X[8] <= 55.5\\ngini = 0.198\\nsamples = 9\\nvalue = [8, 1]'),\n",
       " Text(183.31598111935267, 123.54545454545455, 'X[2] <= 48.0\\ngini = 0.5\\nsamples = 2\\nvalue = [1, 1]'),\n",
       " Text(182.41294672960217, 113.66181818181819, 'gini = 0.0\\nsamples = 1\\nvalue = [1, 0]'),\n",
       " Text(184.21901550910317, 113.66181818181819, 'gini = 0.0\\nsamples = 1\\nvalue = [0, 1]'),\n",
       " Text(185.12204989885367, 123.54545454545455, 'gini = 0.0\\nsamples = 7\\nvalue = [7, 0]'),\n",
       " Text(189.6372218476062, 143.31272727272727, 'X[4] <= 0.5\\ngini = 0.486\\nsamples = 24\\nvalue = [10, 14]'),\n",
       " Text(188.7341874578557, 133.42909090909092, 'X[0] <= 5.5\\ngini = 0.484\\nsamples = 17\\nvalue = [10, 7]'),\n",
       " Text(186.92811867835468, 123.54545454545455, 'X[12] <= 367.5\\ngini = 0.32\\nsamples = 5\\nvalue = [1, 4]'),\n",
       " Text(186.02508428860418, 113.66181818181819, 'X[3] <= 41.5\\ngini = 0.5\\nsamples = 2\\nvalue = [1, 1]'),\n",
       " Text(185.12204989885367, 103.77818181818182, 'gini = 0.0\\nsamples = 1\\nvalue = [0, 1]'),\n",
       " Text(186.92811867835468, 103.77818181818182, 'gini = 0.0\\nsamples = 1\\nvalue = [1, 0]'),\n",
       " Text(187.8311530681052, 113.66181818181819, 'gini = 0.0\\nsamples = 3\\nvalue = [0, 3]'),\n",
       " Text(190.54025623735672, 123.54545454545455, 'X[8] <= 70.0\\ngini = 0.375\\nsamples = 12\\nvalue = [9, 3]'),\n",
       " Text(189.6372218476062, 113.66181818181819, 'gini = 0.0\\nsamples = 6\\nvalue = [6, 0]'),\n",
       " Text(191.44329062710722, 113.66181818181819, 'X[10] <= 50.0\\ngini = 0.5\\nsamples = 6\\nvalue = [3, 3]'),\n",
       " Text(190.54025623735672, 103.77818181818182, 'X[3] <= 55.0\\ngini = 0.375\\nsamples = 4\\nvalue = [1, 3]'),\n",
       " Text(189.6372218476062, 93.89454545454547, 'gini = 0.0\\nsamples = 3\\nvalue = [0, 3]'),\n",
       " Text(191.44329062710722, 93.89454545454547, 'gini = 0.0\\nsamples = 1\\nvalue = [1, 0]'),\n",
       " Text(192.34632501685772, 103.77818181818182, 'gini = 0.0\\nsamples = 2\\nvalue = [2, 0]'),\n",
       " Text(190.54025623735672, 133.42909090909092, 'gini = 0.0\\nsamples = 7\\nvalue = [0, 7]'),\n",
       " Text(202.95697909642618, 153.19636363636363, 'X[0] <= 11.5\\ngini = 0.313\\nsamples = 108\\nvalue = [21, 87]'),\n",
       " Text(201.15091031692515, 143.31272727272727, 'X[10] <= 675.0\\ngini = 0.405\\nsamples = 71\\nvalue = [20, 51]'),\n",
       " Text(200.24787592717465, 133.42909090909092, 'X[6] <= 0.5\\ngini = 0.386\\nsamples = 69\\nvalue = [18, 51]'),\n",
       " Text(196.409979770735, 123.54545454545455, 'X[8] <= 50.5\\ngini = 0.25\\nsamples = 41\\nvalue = [6, 35]'),\n",
       " Text(195.5069453809845, 113.66181818181819, 'gini = 0.0\\nsamples = 1\\nvalue = [1, 0]'),\n",
       " Text(197.31301416048552, 113.66181818181819, 'X[3] <= 27.5\\ngini = 0.219\\nsamples = 40\\nvalue = [5, 35]'),\n",
       " Text(195.05542818610925, 103.77818181818182, 'X[8] <= 80.5\\ngini = 0.346\\nsamples = 18\\nvalue = [4, 14]'),\n",
       " Text(193.24935940660822, 93.89454545454547, 'X[7] <= 48.0\\ngini = 0.153\\nsamples = 12\\nvalue = [1, 11]'),\n",
       " Text(192.34632501685772, 84.01090909090911, 'gini = 0.0\\nsamples = 11\\nvalue = [0, 11]'),\n",
       " Text(194.15239379635875, 84.01090909090911, 'gini = 0.0\\nsamples = 1\\nvalue = [1, 0]'),\n",
       " Text(196.86149696561026, 93.89454545454547, 'X[9] <= 2750.0\\ngini = 0.5\\nsamples = 6\\nvalue = [3, 3]'),\n",
       " Text(195.95846257585976, 84.01090909090911, 'X[12] <= 1143.0\\ngini = 0.375\\nsamples = 4\\nvalue = [3, 1]'),\n",
       " Text(195.05542818610925, 74.12727272727273, 'gini = 0.0\\nsamples = 1\\nvalue = [0, 1]'),\n",
       " Text(196.86149696561026, 74.12727272727273, 'gini = 0.0\\nsamples = 3\\nvalue = [3, 0]'),\n",
       " Text(197.76453135536076, 84.01090909090911, 'gini = 0.0\\nsamples = 2\\nvalue = [0, 2]'),\n",
       " Text(199.57060013486176, 103.77818181818182, 'X[3] <= 56.5\\ngini = 0.087\\nsamples = 22\\nvalue = [1, 21]'),\n",
       " Text(198.66756574511126, 93.89454545454547, 'gini = 0.0\\nsamples = 20\\nvalue = [0, 20]'),\n",
       " Text(200.47363452461227, 93.89454545454547, 'X[11] <= 825.0\\ngini = 0.5\\nsamples = 2\\nvalue = [1, 1]'),\n",
       " Text(199.57060013486176, 84.01090909090911, 'gini = 0.0\\nsamples = 1\\nvalue = [0, 1]'),\n",
       " Text(201.3766689143628, 84.01090909090911, 'gini = 0.0\\nsamples = 1\\nvalue = [1, 0]'),\n",
       " Text(204.0857720836143, 123.54545454545455, 'X[11] <= 550.0\\ngini = 0.49\\nsamples = 28\\nvalue = [12, 16]'),\n",
       " Text(202.2797033041133, 113.66181818181819, 'X[9] <= 3000.0\\ngini = 0.32\\nsamples = 5\\nvalue = [4, 1]'),\n",
       " Text(201.3766689143628, 103.77818181818182, 'gini = 0.0\\nsamples = 4\\nvalue = [4, 0]'),\n",
       " Text(203.1827376938638, 103.77818181818182, 'gini = 0.0\\nsamples = 1\\nvalue = [0, 1]'),\n",
       " Text(205.8918408631153, 113.66181818181819, 'X[11] <= 887.5\\ngini = 0.454\\nsamples = 23\\nvalue = [8, 15]'),\n",
       " Text(204.9888064733648, 103.77818181818182, 'gini = 0.0\\nsamples = 8\\nvalue = [0, 8]'),\n",
       " Text(206.7948752528658, 103.77818181818182, 'X[12] <= 1207.0\\ngini = 0.498\\nsamples = 15\\nvalue = [8, 7]'),\n",
       " Text(204.9888064733648, 93.89454545454547, 'X[3] <= 25.5\\ngini = 0.278\\nsamples = 6\\nvalue = [5, 1]'),\n",
       " Text(204.0857720836143, 84.01090909090911, 'X[2] <= 48.0\\ngini = 0.5\\nsamples = 2\\nvalue = [1, 1]'),\n",
       " Text(203.1827376938638, 74.12727272727273, 'gini = 0.0\\nsamples = 1\\nvalue = [1, 0]'),\n",
       " Text(204.9888064733648, 74.12727272727273, 'gini = 0.0\\nsamples = 1\\nvalue = [0, 1]'),\n",
       " Text(205.8918408631153, 84.01090909090911, 'gini = 0.0\\nsamples = 4\\nvalue = [4, 0]'),\n",
       " Text(208.60094403236684, 93.89454545454547, 'X[4] <= 0.5\\ngini = 0.444\\nsamples = 9\\nvalue = [3, 6]'),\n",
       " Text(207.69790964261634, 84.01090909090911, 'X[8] <= 86.0\\ngini = 0.245\\nsamples = 7\\nvalue = [1, 6]'),\n",
       " Text(206.7948752528658, 74.12727272727273, 'gini = 0.0\\nsamples = 6\\nvalue = [0, 6]'),\n",
       " Text(208.60094403236684, 74.12727272727273, 'gini = 0.0\\nsamples = 1\\nvalue = [1, 0]'),\n",
       " Text(209.50397842211734, 84.01090909090911, 'gini = 0.0\\nsamples = 2\\nvalue = [2, 0]'),\n",
       " Text(202.05394470667565, 133.42909090909092, 'gini = 0.0\\nsamples = 2\\nvalue = [2, 0]'),\n",
       " Text(204.76304787592719, 143.31272727272727, 'X[10] <= 1300.0\\ngini = 0.053\\nsamples = 37\\nvalue = [1, 36]'),\n",
       " Text(203.86001348617668, 133.42909090909092, 'gini = 0.0\\nsamples = 36\\nvalue = [0, 36]'),\n",
       " Text(205.6660822656777, 133.42909090909092, 'gini = 0.0\\nsamples = 1\\nvalue = [1, 0]'),\n",
       " Text(213.341874578557, 163.07999999999998, 'X[7] <= 71.0\\ngini = 0.496\\nsamples = 53\\nvalue = [29, 24]'),\n",
       " Text(210.8585300067431, 153.19636363636363, 'X[8] <= 65.5\\ngini = 0.493\\nsamples = 41\\nvalue = [18, 23]'),\n",
       " Text(208.60094403236684, 143.31272727272727, 'X[2] <= 42.0\\ngini = 0.298\\nsamples = 11\\nvalue = [9, 2]'),\n",
       " Text(207.69790964261634, 133.42909090909092, 'X[3] <= 25.0\\ngini = 0.444\\nsamples = 3\\nvalue = [1, 2]'),\n",
       " Text(206.7948752528658, 123.54545454545455, 'gini = 0.0\\nsamples = 1\\nvalue = [1, 0]'),\n",
       " Text(208.60094403236684, 123.54545454545455, 'gini = 0.0\\nsamples = 2\\nvalue = [0, 2]'),\n",
       " Text(209.50397842211734, 133.42909090909092, 'gini = 0.0\\nsamples = 8\\nvalue = [8, 0]'),\n",
       " Text(213.11611598111935, 143.31272727272727, 'X[3] <= 44.5\\ngini = 0.42\\nsamples = 30\\nvalue = [9, 21]'),\n",
       " Text(212.21308159136885, 133.42909090909092, 'X[3] <= 32.0\\ngini = 0.476\\nsamples = 23\\nvalue = [9, 14]'),\n",
       " Text(210.40701281186784, 123.54545454545455, 'X[3] <= 26.0\\ngini = 0.26\\nsamples = 13\\nvalue = [2, 11]'),\n",
       " Text(209.50397842211734, 113.66181818181819, 'X[12] <= 1645.5\\ngini = 0.48\\nsamples = 5\\nvalue = [2, 3]'),\n",
       " Text(208.60094403236684, 103.77818181818182, 'gini = 0.0\\nsamples = 3\\nvalue = [0, 3]'),\n",
       " Text(210.40701281186784, 103.77818181818182, 'gini = 0.0\\nsamples = 2\\nvalue = [2, 0]'),\n",
       " Text(211.31004720161835, 113.66181818181819, 'gini = 0.0\\nsamples = 8\\nvalue = [0, 8]'),\n",
       " Text(214.01915037086985, 123.54545454545455, 'X[12] <= 1577.5\\ngini = 0.42\\nsamples = 10\\nvalue = [7, 3]'),\n",
       " Text(213.11611598111935, 113.66181818181819, 'X[8] <= 68.0\\ngini = 0.5\\nsamples = 6\\nvalue = [3, 3]'),\n",
       " Text(212.21308159136885, 103.77818181818182, 'gini = 0.0\\nsamples = 1\\nvalue = [0, 1]'),\n",
       " Text(214.01915037086985, 103.77818181818182, 'X[9] <= 1250.0\\ngini = 0.48\\nsamples = 5\\nvalue = [3, 2]'),\n",
       " Text(213.11611598111935, 93.89454545454547, 'gini = 0.0\\nsamples = 2\\nvalue = [2, 0]'),\n",
       " Text(214.92218476062038, 93.89454545454547, 'X[12] <= 1322.5\\ngini = 0.444\\nsamples = 3\\nvalue = [1, 2]'),\n",
       " Text(214.01915037086985, 84.01090909090911, 'gini = 0.0\\nsamples = 1\\nvalue = [1, 0]'),\n",
       " Text(215.82521915037088, 84.01090909090911, 'gini = 0.0\\nsamples = 2\\nvalue = [0, 2]'),\n",
       " Text(214.92218476062038, 113.66181818181819, 'gini = 0.0\\nsamples = 4\\nvalue = [4, 0]'),\n",
       " Text(214.01915037086985, 133.42909090909092, 'gini = 0.0\\nsamples = 7\\nvalue = [0, 7]'),\n",
       " Text(215.82521915037088, 153.19636363636363, 'X[8] <= 84.0\\ngini = 0.153\\nsamples = 12\\nvalue = [11, 1]'),\n",
       " Text(214.92218476062038, 143.31272727272727, 'gini = 0.0\\nsamples = 9\\nvalue = [9, 0]'),\n",
       " Text(216.7282535401214, 143.31272727272727, 'X[8] <= 86.0\\ngini = 0.444\\nsamples = 3\\nvalue = [2, 1]'),\n",
       " Text(215.82521915037088, 133.42909090909092, 'gini = 0.0\\nsamples = 1\\nvalue = [0, 1]'),\n",
       " Text(217.6312879298719, 133.42909090909092, 'gini = 0.0\\nsamples = 2\\nvalue = [2, 0]'),\n",
       " Text(223.95252865812543, 172.96363636363637, 'X[11] <= 1115.0\\ngini = 0.18\\nsamples = 110\\nvalue = [11, 99]'),\n",
       " Text(220.3403910991234, 163.07999999999998, 'X[7] <= 71.0\\ngini = 0.029\\nsamples = 67\\nvalue = [1, 66]'),\n",
       " Text(219.4373567093729, 153.19636363636363, 'gini = 0.0\\nsamples = 51\\nvalue = [0, 51]'),\n",
       " Text(221.24342548887392, 153.19636363636363, 'X[0] <= 7.0\\ngini = 0.117\\nsamples = 16\\nvalue = [1, 15]'),\n",
       " Text(220.3403910991234, 143.31272727272727, 'X[12] <= 1184.5\\ngini = 0.444\\nsamples = 3\\nvalue = [1, 2]'),\n",
       " Text(219.4373567093729, 133.42909090909092, 'gini = 0.0\\nsamples = 1\\nvalue = [1, 0]'),\n",
       " Text(221.24342548887392, 133.42909090909092, 'gini = 0.0\\nsamples = 2\\nvalue = [0, 2]'),\n",
       " Text(222.14645987862443, 143.31272727272727, 'gini = 0.0\\nsamples = 13\\nvalue = [0, 13]'),\n",
       " Text(227.56466621712744, 163.07999999999998, 'X[6] <= 0.5\\ngini = 0.357\\nsamples = 43\\nvalue = [10, 33]'),\n",
       " Text(224.85556304787593, 153.19636363636363, 'X[12] <= 1405.5\\ngini = 0.488\\nsamples = 19\\nvalue = [8, 11]'),\n",
       " Text(223.95252865812543, 143.31272727272727, 'gini = 0.0\\nsamples = 2\\nvalue = [2, 0]'),\n",
       " Text(225.75859743762643, 143.31272727272727, 'X[8] <= 90.0\\ngini = 0.457\\nsamples = 17\\nvalue = [6, 11]'),\n",
       " Text(224.85556304787593, 133.42909090909092, 'X[8] <= 64.5\\ngini = 0.391\\nsamples = 15\\nvalue = [4, 11]'),\n",
       " Text(223.04949426837493, 123.54545454545455, 'X[12] <= 2395.5\\ngini = 0.48\\nsamples = 5\\nvalue = [3, 2]'),\n",
       " Text(222.14645987862443, 113.66181818181819, 'gini = 0.0\\nsamples = 3\\nvalue = [3, 0]'),\n",
       " Text(223.95252865812543, 113.66181818181819, 'gini = 0.0\\nsamples = 2\\nvalue = [0, 2]'),\n",
       " Text(226.66163182737694, 123.54545454545455, 'X[0] <= 27.5\\ngini = 0.18\\nsamples = 10\\nvalue = [1, 9]'),\n",
       " Text(225.75859743762643, 113.66181818181819, 'gini = 0.0\\nsamples = 9\\nvalue = [0, 9]'),\n",
       " Text(227.56466621712744, 113.66181818181819, 'gini = 0.0\\nsamples = 1\\nvalue = [1, 0]'),\n",
       " Text(226.66163182737694, 133.42909090909092, 'gini = 0.0\\nsamples = 2\\nvalue = [2, 0]'),\n",
       " Text(230.27376938637897, 153.19636363636363, 'X[9] <= 62500.0\\ngini = 0.153\\nsamples = 24\\nvalue = [2, 22]'),\n",
       " Text(229.37073499662847, 143.31272727272727, 'X[3] <= 57.0\\ngini = 0.083\\nsamples = 23\\nvalue = [1, 22]'),\n",
       " Text(228.46770060687797, 133.42909090909092, 'gini = 0.0\\nsamples = 20\\nvalue = [0, 20]'),\n",
       " Text(230.27376938637897, 133.42909090909092, 'X[9] <= 15500.0\\ngini = 0.444\\nsamples = 3\\nvalue = [1, 2]'),\n",
       " Text(229.37073499662847, 123.54545454545455, 'gini = 0.0\\nsamples = 1\\nvalue = [1, 0]'),\n",
       " Text(231.17680377612947, 123.54545454545455, 'gini = 0.0\\nsamples = 2\\nvalue = [0, 2]'),\n",
       " Text(231.17680377612947, 143.31272727272727, 'gini = 0.0\\nsamples = 1\\nvalue = [1, 0]'),\n",
       " Text(272.55809012559, 182.84727272727272, 'X[11] <= 1530.0\\ngini = 0.139\\nsamples = 784\\nvalue = [59, 725]'),\n",
       " Text(254.79062394639246, 172.96363636363637, 'X[0] <= 5.5\\ngini = 0.114\\nsamples = 706\\nvalue = [43, 663]'),\n",
       " Text(242.01321645313556, 163.07999999999998, 'X[9] <= 2050.0\\ngini = 0.262\\nsamples = 116\\nvalue = [18, 98]'),\n",
       " Text(237.72380310182064, 153.19636363636363, 'X[8] <= 161.5\\ngini = 0.398\\nsamples = 51\\nvalue = [14, 37]'),\n",
       " Text(235.91773432231963, 143.31272727272727, 'X[9] <= 500.0\\ngini = 0.456\\nsamples = 37\\nvalue = [13, 24]'),\n",
       " Text(235.01469993256913, 133.42909090909092, 'X[12] <= 1575.0\\ngini = 0.415\\nsamples = 34\\nvalue = [10, 24]'),\n",
       " Text(232.98287255563048, 123.54545454545455, 'X[11] <= 1275.0\\ngini = 0.476\\nsamples = 23\\nvalue = [9, 14]'),\n",
       " Text(232.07983816587998, 113.66181818181819, 'X[3] <= 28.5\\ngini = 0.444\\nsamples = 21\\nvalue = [7, 14]'),\n",
       " Text(228.9192178017532, 103.77818181818182, 'X[3] <= 22.5\\ngini = 0.5\\nsamples = 12\\nvalue = [6, 6]'),\n",
       " Text(228.0161834120027, 93.89454545454547, 'gini = 0.0\\nsamples = 2\\nvalue = [0, 2]'),\n",
       " Text(229.8222521915037, 93.89454545454547, 'X[2] <= 42.0\\ngini = 0.48\\nsamples = 10\\nvalue = [6, 4]'),\n",
       " Text(228.0161834120027, 84.01090909090911, 'X[3] <= 26.5\\ngini = 0.32\\nsamples = 5\\nvalue = [4, 1]'),\n",
       " Text(227.1131490222522, 74.12727272727273, 'gini = 0.0\\nsamples = 3\\nvalue = [3, 0]'),\n",
       " Text(228.9192178017532, 74.12727272727273, 'X[8] <= 113.0\\ngini = 0.5\\nsamples = 2\\nvalue = [1, 1]'),\n",
       " Text(228.0161834120027, 64.24363636363637, 'gini = 0.0\\nsamples = 1\\nvalue = [0, 1]'),\n",
       " Text(229.8222521915037, 64.24363636363637, 'gini = 0.0\\nsamples = 1\\nvalue = [1, 0]'),\n",
       " Text(231.62832097100474, 84.01090909090911, 'X[12] <= 1292.0\\ngini = 0.48\\nsamples = 5\\nvalue = [2, 3]'),\n",
       " Text(230.7252865812542, 74.12727272727273, 'gini = 0.0\\nsamples = 2\\nvalue = [0, 2]'),\n",
       " Text(232.53135536075524, 74.12727272727273, 'X[11] <= 1175.0\\ngini = 0.444\\nsamples = 3\\nvalue = [2, 1]'),\n",
       " Text(231.62832097100474, 64.24363636363637, 'gini = 0.0\\nsamples = 2\\nvalue = [2, 0]'),\n",
       " Text(233.43438975050574, 64.24363636363637, 'gini = 0.0\\nsamples = 1\\nvalue = [0, 1]'),\n",
       " Text(235.24045853000675, 103.77818181818182, 'X[8] <= 105.5\\ngini = 0.198\\nsamples = 9\\nvalue = [1, 8]'),\n",
       " Text(234.33742414025625, 93.89454545454547, 'X[12] <= 1000.0\\ngini = 0.5\\nsamples = 2\\nvalue = [1, 1]'),\n",
       " Text(233.43438975050574, 84.01090909090911, 'gini = 0.0\\nsamples = 1\\nvalue = [0, 1]'),\n",
       " Text(235.24045853000675, 84.01090909090911, 'gini = 0.0\\nsamples = 1\\nvalue = [1, 0]'),\n",
       " Text(236.14349291975725, 93.89454545454547, 'gini = 0.0\\nsamples = 7\\nvalue = [0, 7]'),\n",
       " Text(233.88590694538098, 113.66181818181819, 'gini = 0.0\\nsamples = 2\\nvalue = [2, 0]'),\n",
       " Text(237.04652730950775, 123.54545454545455, 'X[4] <= 0.5\\ngini = 0.165\\nsamples = 11\\nvalue = [1, 10]'),\n",
       " Text(236.14349291975725, 113.66181818181819, 'gini = 0.0\\nsamples = 8\\nvalue = [0, 8]'),\n",
       " Text(237.94956169925825, 113.66181818181819, 'X[12] <= 2075.0\\ngini = 0.444\\nsamples = 3\\nvalue = [1, 2]'),\n",
       " Text(237.04652730950775, 103.77818181818182, 'gini = 0.0\\nsamples = 1\\nvalue = [1, 0]'),\n",
       " Text(238.85259608900878, 103.77818181818182, 'gini = 0.0\\nsamples = 2\\nvalue = [0, 2]'),\n",
       " Text(236.82076871207013, 133.42909090909092, 'gini = 0.0\\nsamples = 3\\nvalue = [3, 0]'),\n",
       " Text(239.52987188132164, 143.31272727272727, 'X[8] <= 332.5\\ngini = 0.133\\nsamples = 14\\nvalue = [1, 13]'),\n",
       " Text(238.62683749157114, 133.42909090909092, 'gini = 0.0\\nsamples = 13\\nvalue = [0, 13]'),\n",
       " Text(240.43290627107217, 133.42909090909092, 'gini = 0.0\\nsamples = 1\\nvalue = [1, 0]'),\n",
       " Text(246.30262980445045, 153.19636363636363, 'X[12] <= 1049.0\\ngini = 0.116\\nsamples = 65\\nvalue = [4, 61]'),\n",
       " Text(244.04504383007418, 143.31272727272727, 'X[11] <= 850.0\\ngini = 0.337\\nsamples = 14\\nvalue = [3, 11]'),\n",
       " Text(242.23897505057317, 133.42909090909092, 'X[10] <= 750.5\\ngini = 0.165\\nsamples = 11\\nvalue = [1, 10]'),\n",
       " Text(241.33594066082267, 123.54545454545455, 'gini = 0.0\\nsamples = 8\\nvalue = [0, 8]'),\n",
       " Text(243.14200944032368, 123.54545454545455, 'X[9] <= 5750.0\\ngini = 0.444\\nsamples = 3\\nvalue = [1, 2]'),\n",
       " Text(242.23897505057317, 113.66181818181819, 'gini = 0.0\\nsamples = 1\\nvalue = [1, 0]'),\n",
       " Text(244.04504383007418, 113.66181818181819, 'gini = 0.0\\nsamples = 2\\nvalue = [0, 2]'),\n",
       " Text(245.85111260957518, 133.42909090909092, 'X[0] <= 4.5\\ngini = 0.444\\nsamples = 3\\nvalue = [2, 1]'),\n",
       " Text(244.94807821982468, 123.54545454545455, 'gini = 0.0\\nsamples = 2\\nvalue = [2, 0]'),\n",
       " Text(246.7541469993257, 123.54545454545455, 'gini = 0.0\\nsamples = 1\\nvalue = [0, 1]'),\n",
       " Text(248.56021577882672, 143.31272727272727, 'X[7] <= 77.0\\ngini = 0.038\\nsamples = 51\\nvalue = [1, 50]'),\n",
       " Text(247.65718138907621, 133.42909090909092, 'gini = 0.0\\nsamples = 49\\nvalue = [0, 49]'),\n",
       " Text(249.46325016857722, 133.42909090909092, 'X[6] <= 0.5\\ngini = 0.5\\nsamples = 2\\nvalue = [1, 1]'),\n",
       " Text(248.56021577882672, 123.54545454545455, 'gini = 0.0\\nsamples = 1\\nvalue = [1, 0]'),\n",
       " Text(250.36628455832772, 123.54545454545455, 'gini = 0.0\\nsamples = 1\\nvalue = [0, 1]'),\n",
       " Text(267.56803143964936, 163.07999999999998, 'X[12] <= 275.0\\ngini = 0.081\\nsamples = 590\\nvalue = [25, 565]'),\n",
       " Text(266.6649970498989, 153.19636363636363, 'gini = 0.0\\nsamples = 1\\nvalue = [1, 0]'),\n",
       " Text(268.4710658293999, 153.19636363636363, 'X[8] <= 107.5\\ngini = 0.078\\nsamples = 589\\nvalue = [24, 565]'),\n",
       " Text(255.3329737019555, 143.31272727272727, 'X[2] <= 54.0\\ngini = 0.221\\nsamples = 71\\nvalue = [9, 62]'),\n",
       " Text(253.07538772757923, 133.42909090909092, 'X[11] <= 1375.0\\ngini = 0.05\\nsamples = 39\\nvalue = [1, 38]'),\n",
       " Text(252.17235333782872, 123.54545454545455, 'gini = 0.0\\nsamples = 38\\nvalue = [0, 38]'),\n",
       " Text(253.97842211732976, 123.54545454545455, 'gini = 0.0\\nsamples = 1\\nvalue = [1, 0]'),\n",
       " Text(257.5905596763318, 133.42909090909092, 'X[12] <= 1098.0\\ngini = 0.375\\nsamples = 32\\nvalue = [8, 24]'),\n",
       " Text(255.78449089683076, 123.54545454545455, 'X[9] <= 3250.0\\ngini = 0.375\\nsamples = 4\\nvalue = [3, 1]'),\n",
       " Text(254.88145650708026, 113.66181818181819, 'gini = 0.0\\nsamples = 3\\nvalue = [3, 0]'),\n",
       " Text(256.68752528658126, 113.66181818181819, 'gini = 0.0\\nsamples = 1\\nvalue = [0, 1]'),\n",
       " Text(259.3966284558328, 123.54545454545455, 'X[10] <= 3100.0\\ngini = 0.293\\nsamples = 28\\nvalue = [5, 23]'),\n",
       " Text(258.49359406608227, 113.66181818181819, 'X[0] <= 31.5\\ngini = 0.252\\nsamples = 27\\nvalue = [4, 23]'),\n",
       " Text(257.5905596763318, 103.77818181818182, 'X[4] <= 0.5\\ngini = 0.204\\nsamples = 26\\nvalue = [3, 23]'),\n",
       " Text(255.78449089683076, 93.89454545454547, 'X[7] <= 80.0\\ngini = 0.087\\nsamples = 22\\nvalue = [1, 21]'),\n",
       " Text(254.88145650708026, 84.01090909090911, 'gini = 0.0\\nsamples = 20\\nvalue = [0, 20]'),\n",
       " Text(256.68752528658126, 84.01090909090911, 'X[9] <= 4000.0\\ngini = 0.5\\nsamples = 2\\nvalue = [1, 1]'),\n",
       " Text(255.78449089683076, 74.12727272727273, 'gini = 0.0\\nsamples = 1\\nvalue = [0, 1]'),\n",
       " Text(257.5905596763318, 74.12727272727273, 'gini = 0.0\\nsamples = 1\\nvalue = [1, 0]'),\n",
       " Text(259.3966284558328, 93.89454545454547, 'X[7] <= 45.5\\ngini = 0.5\\nsamples = 4\\nvalue = [2, 2]'),\n",
       " Text(258.49359406608227, 84.01090909090911, 'gini = 0.0\\nsamples = 2\\nvalue = [0, 2]'),\n",
       " Text(260.29966284558327, 84.01090909090911, 'gini = 0.0\\nsamples = 2\\nvalue = [2, 0]'),\n",
       " Text(259.3966284558328, 103.77818181818182, 'gini = 0.0\\nsamples = 1\\nvalue = [1, 0]'),\n",
       " Text(260.29966284558327, 113.66181818181819, 'gini = 0.0\\nsamples = 1\\nvalue = [1, 0]'),\n",
       " Text(281.60915795684423, 143.31272727272727, 'X[3] <= 22.5\\ngini = 0.056\\nsamples = 518\\nvalue = [15, 503]'),\n",
       " Text(278.6284389750506, 133.42909090909092, 'X[0] <= 7.5\\ngini = 0.5\\nsamples = 2\\nvalue = [1, 1]'),\n",
       " Text(277.72540458530005, 123.54545454545455, 'gini = 0.0\\nsamples = 1\\nvalue = [1, 0]'),\n",
       " Text(279.5314733648011, 123.54545454545455, 'gini = 0.0\\nsamples = 1\\nvalue = [0, 1]'),\n",
       " Text(284.58987693863793, 133.42909090909092, 'X[10] <= 6650.0\\ngini = 0.053\\nsamples = 516\\nvalue = [14, 502]'),\n",
       " Text(281.3375421443021, 123.54545454545455, 'X[12] <= 2859.5\\ngini = 0.049\\nsamples = 513\\nvalue = [13, 500]'),\n",
       " Text(277.541975724882, 113.66181818181819, 'X[8] <= 467.0\\ngini = 0.046\\nsamples = 510\\nvalue = [12, 498]'),\n",
       " Text(272.65994605529335, 103.77818181818182, 'X[7] <= 89.0\\ngini = 0.042\\nsamples = 507\\nvalue = [11, 496]'),\n",
       " Text(265.6049898853675, 93.89454545454547, 'X[0] <= 6.5\\ngini = 0.03\\nsamples = 464\\nvalue = [7, 457]'),\n",
       " Text(262.1057316250843, 84.01090909090911, 'X[11] <= 1275.0\\ngini = 0.139\\nsamples = 40\\nvalue = [3, 37]'),\n",
       " Text(261.2026972353338, 74.12727272727273, 'gini = 0.0\\nsamples = 33\\nvalue = [0, 33]'),\n",
       " Text(263.0087660148348, 74.12727272727273, 'X[9] <= 1000.0\\ngini = 0.49\\nsamples = 7\\nvalue = [3, 4]'),\n",
       " Text(262.1057316250843, 64.24363636363637, 'X[12] <= 1360.0\\ngini = 0.375\\nsamples = 4\\nvalue = [3, 1]'),\n",
       " Text(261.2026972353338, 54.360000000000014, 'gini = 0.0\\nsamples = 1\\nvalue = [0, 1]'),\n",
       " Text(263.0087660148348, 54.360000000000014, 'gini = 0.0\\nsamples = 3\\nvalue = [3, 0]'),\n",
       " Text(263.91180040458534, 64.24363636363637, 'gini = 0.0\\nsamples = 3\\nvalue = [0, 3]'),\n",
       " Text(269.10424814565073, 84.01090909090911, 'X[11] <= 225.0\\ngini = 0.019\\nsamples = 424\\nvalue = [4, 420]'),\n",
       " Text(266.6209035738368, 74.12727272727273, 'X[2] <= 45.0\\ngini = 0.278\\nsamples = 6\\nvalue = [1, 5]'),\n",
       " Text(265.71786918408634, 64.24363636363637, 'gini = 0.0\\nsamples = 5\\nvalue = [0, 5]'),\n",
       " Text(267.52393796358734, 64.24363636363637, 'gini = 0.0\\nsamples = 1\\nvalue = [1, 0]'),\n",
       " Text(271.5875927174646, 74.12727272727273, 'X[3] <= 61.5\\ngini = 0.014\\nsamples = 418\\nvalue = [3, 415]'),\n",
       " Text(269.33000674308835, 64.24363636363637, 'X[11] <= 1490.0\\ngini = 0.01\\nsamples = 408\\nvalue = [2, 406]'),\n",
       " Text(267.52393796358734, 54.360000000000014, 'X[0] <= 28.5\\ngini = 0.005\\nsamples = 388\\nvalue = [1, 387]'),\n",
       " Text(266.6209035738368, 44.47636363636366, 'gini = 0.0\\nsamples = 361\\nvalue = [0, 361]'),\n",
       " Text(268.4269723533378, 44.47636363636366, 'X[0] <= 29.5\\ngini = 0.071\\nsamples = 27\\nvalue = [1, 26]'),\n",
       " Text(267.52393796358734, 34.592727272727274, 'X[12] <= 1186.5\\ngini = 0.375\\nsamples = 4\\nvalue = [1, 3]'),\n",
       " Text(266.6209035738368, 24.709090909090918, 'gini = 0.0\\nsamples = 1\\nvalue = [1, 0]'),\n",
       " Text(268.4269723533378, 24.709090909090918, 'gini = 0.0\\nsamples = 3\\nvalue = [0, 3]'),\n",
       " Text(269.33000674308835, 34.592727272727274, 'gini = 0.0\\nsamples = 23\\nvalue = [0, 23]'),\n",
       " Text(271.13607552258935, 54.360000000000014, 'X[3] <= 55.5\\ngini = 0.095\\nsamples = 20\\nvalue = [1, 19]'),\n",
       " Text(270.2330411328388, 44.47636363636366, 'gini = 0.0\\nsamples = 16\\nvalue = [0, 16]'),\n",
       " Text(272.0391099123399, 44.47636363636366, 'X[0] <= 17.5\\ngini = 0.375\\nsamples = 4\\nvalue = [1, 3]'),\n",
       " Text(271.13607552258935, 34.592727272727274, 'gini = 0.0\\nsamples = 1\\nvalue = [1, 0]'),\n",
       " Text(272.94214430209036, 34.592727272727274, 'gini = 0.0\\nsamples = 3\\nvalue = [0, 3]'),\n",
       " Text(273.8451786918409, 64.24363636363637, 'X[1] <= 0.5\\ngini = 0.18\\nsamples = 10\\nvalue = [1, 9]'),\n",
       " Text(272.94214430209036, 54.360000000000014, 'gini = 0.0\\nsamples = 7\\nvalue = [0, 7]'),\n",
       " Text(274.74821308159136, 54.360000000000014, 'X[7] <= 67.5\\ngini = 0.444\\nsamples = 3\\nvalue = [1, 2]'),\n",
       " Text(273.8451786918409, 44.47636363636366, 'gini = 0.0\\nsamples = 1\\nvalue = [1, 0]'),\n",
       " Text(275.6512474713419, 44.47636363636366, 'gini = 0.0\\nsamples = 2\\nvalue = [0, 2]'),\n",
       " Text(279.71490222521913, 93.89454545454547, 'X[3] <= 55.5\\ngini = 0.169\\nsamples = 43\\nvalue = [4, 39]'),\n",
       " Text(278.81186783546866, 84.01090909090911, 'X[3] <= 28.5\\ngini = 0.133\\nsamples = 42\\nvalue = [3, 39]'),\n",
       " Text(276.55428186109236, 74.12727272727273, 'X[9] <= 5000.0\\ngini = 0.5\\nsamples = 2\\nvalue = [1, 1]'),\n",
       " Text(275.6512474713419, 64.24363636363637, 'gini = 0.0\\nsamples = 1\\nvalue = [0, 1]'),\n",
       " Text(277.4573162508429, 64.24363636363637, 'gini = 0.0\\nsamples = 1\\nvalue = [1, 0]'),\n",
       " Text(281.0694538098449, 74.12727272727273, 'X[8] <= 115.0\\ngini = 0.095\\nsamples = 40\\nvalue = [2, 38]'),\n",
       " Text(279.2633850303439, 64.24363636363637, 'X[9] <= 9750.0\\ngini = 0.5\\nsamples = 2\\nvalue = [1, 1]'),\n",
       " Text(278.3603506405934, 54.360000000000014, 'gini = 0.0\\nsamples = 1\\nvalue = [1, 0]'),\n",
       " Text(280.1664194200944, 54.360000000000014, 'gini = 0.0\\nsamples = 1\\nvalue = [0, 1]'),\n",
       " Text(282.8755225893459, 64.24363636363637, 'X[12] <= 465.0\\ngini = 0.051\\nsamples = 38\\nvalue = [1, 37]'),\n",
       " Text(281.97248819959543, 54.360000000000014, 'X[1] <= 0.5\\ngini = 0.5\\nsamples = 2\\nvalue = [1, 1]'),\n",
       " Text(281.0694538098449, 44.47636363636366, 'gini = 0.0\\nsamples = 1\\nvalue = [0, 1]'),\n",
       " Text(282.8755225893459, 44.47636363636366, 'gini = 0.0\\nsamples = 1\\nvalue = [1, 0]'),\n",
       " Text(283.77855697909644, 54.360000000000014, 'gini = 0.0\\nsamples = 36\\nvalue = [0, 36]'),\n",
       " Text(280.61793661496966, 84.01090909090911, 'gini = 0.0\\nsamples = 1\\nvalue = [1, 0]'),\n",
       " Text(282.42400539447067, 103.77818181818182, 'X[4] <= 0.5\\ngini = 0.444\\nsamples = 3\\nvalue = [1, 2]'),\n",
       " Text(281.5209710047202, 93.89454545454547, 'gini = 0.0\\nsamples = 2\\nvalue = [0, 2]'),\n",
       " Text(283.3270397842212, 93.89454545454547, 'gini = 0.0\\nsamples = 1\\nvalue = [1, 0]'),\n",
       " Text(285.1331085637222, 113.66181818181819, 'X[9] <= 6000.0\\ngini = 0.444\\nsamples = 3\\nvalue = [1, 2]'),\n",
       " Text(284.2300741739717, 103.77818181818182, 'gini = 0.0\\nsamples = 1\\nvalue = [1, 0]'),\n",
       " Text(286.0361429534727, 103.77818181818182, 'gini = 0.0\\nsamples = 2\\nvalue = [0, 2]'),\n",
       " Text(287.84221173297374, 123.54545454545455, 'X[3] <= 41.0\\ngini = 0.444\\nsamples = 3\\nvalue = [1, 2]'),\n",
       " Text(286.9391773432232, 113.66181818181819, 'gini = 0.0\\nsamples = 2\\nvalue = [0, 2]'),\n",
       " Text(288.7452461227242, 113.66181818181819, 'gini = 0.0\\nsamples = 1\\nvalue = [1, 0]'),\n",
       " Text(290.3255563047876, 172.96363636363637, 'X[12] <= 1692.0\\ngini = 0.326\\nsamples = 78\\nvalue = [16, 62]'),\n",
       " Text(286.0361429534727, 163.07999999999998, 'X[8] <= 175.5\\ngini = 0.463\\nsamples = 11\\nvalue = [7, 4]'),\n",
       " Text(285.1331085637222, 153.19636363636363, 'gini = 0.0\\nsamples = 6\\nvalue = [6, 0]'),\n",
       " Text(286.9391773432232, 153.19636363636363, 'X[12] <= 1574.5\\ngini = 0.32\\nsamples = 5\\nvalue = [1, 4]'),\n",
       " Text(286.0361429534727, 143.31272727272727, 'gini = 0.0\\nsamples = 1\\nvalue = [1, 0]'),\n",
       " Text(287.84221173297374, 143.31272727272727, 'gini = 0.0\\nsamples = 4\\nvalue = [0, 4]'),\n",
       " Text(294.6149696561025, 163.07999999999998, 'X[7] <= 49.0\\ngini = 0.233\\nsamples = 67\\nvalue = [9, 58]'),\n",
       " Text(291.45434929197575, 153.19636363636363, 'X[10] <= 200.0\\ngini = 0.408\\nsamples = 28\\nvalue = [8, 20]'),\n",
       " Text(289.64828051247474, 143.31272727272727, 'X[11] <= 1950.0\\ngini = 0.298\\nsamples = 22\\nvalue = [4, 18]'),\n",
       " Text(288.7452461227242, 133.42909090909092, 'gini = 0.0\\nsamples = 12\\nvalue = [0, 12]'),\n",
       " Text(290.5513149022252, 133.42909090909092, 'X[9] <= 5500.0\\ngini = 0.48\\nsamples = 10\\nvalue = [4, 6]'),\n",
       " Text(289.64828051247474, 123.54545454545455, 'gini = 0.0\\nsamples = 2\\nvalue = [2, 0]'),\n",
       " Text(291.45434929197575, 123.54545454545455, 'X[4] <= 0.5\\ngini = 0.375\\nsamples = 8\\nvalue = [2, 6]'),\n",
       " Text(290.5513149022252, 113.66181818181819, 'gini = 0.0\\nsamples = 6\\nvalue = [0, 6]'),\n",
       " Text(292.3573836817262, 113.66181818181819, 'gini = 0.0\\nsamples = 2\\nvalue = [2, 0]'),\n",
       " Text(293.26041807147675, 143.31272727272727, 'X[12] <= 2334.0\\ngini = 0.444\\nsamples = 6\\nvalue = [4, 2]'),\n",
       " Text(292.3573836817262, 133.42909090909092, 'gini = 0.0\\nsamples = 3\\nvalue = [3, 0]'),\n",
       " Text(294.1634524612273, 133.42909090909092, 'X[10] <= 1450.0\\ngini = 0.444\\nsamples = 3\\nvalue = [1, 2]'),\n",
       " Text(293.26041807147675, 123.54545454545455, 'gini = 0.0\\nsamples = 1\\nvalue = [1, 0]'),\n",
       " Text(295.06648685097775, 123.54545454545455, 'gini = 0.0\\nsamples = 2\\nvalue = [0, 2]'),\n",
       " Text(297.7755900202293, 153.19636363636363, 'X[8] <= 296.0\\ngini = 0.05\\nsamples = 39\\nvalue = [1, 38]'),\n",
       " Text(296.87255563047876, 143.31272727272727, 'gini = 0.0\\nsamples = 30\\nvalue = [0, 30]'),\n",
       " Text(298.67862440997976, 143.31272727272727, 'X[9] <= 9.0\\ngini = 0.198\\nsamples = 9\\nvalue = [1, 8]'),\n",
       " Text(297.7755900202293, 133.42909090909092, 'X[8] <= 310.0\\ngini = 0.5\\nsamples = 2\\nvalue = [1, 1]'),\n",
       " Text(296.87255563047876, 123.54545454545455, 'gini = 0.0\\nsamples = 1\\nvalue = [1, 0]'),\n",
       " Text(298.67862440997976, 123.54545454545455, 'gini = 0.0\\nsamples = 1\\nvalue = [0, 1]'),\n",
       " Text(299.5816587997303, 133.42909090909092, 'gini = 0.0\\nsamples = 7\\nvalue = [0, 7]'),\n",
       " Text(316.40067430883346, 192.73090909090908, 'X[8] <= 109.5\\ngini = 0.491\\nsamples = 192\\nvalue = [83, 109]'),\n",
       " Text(307.70896830748484, 182.84727272727272, 'X[11] <= 725.0\\ngini = 0.469\\nsamples = 72\\nvalue = [45, 27]'),\n",
       " Text(304.09683074848283, 172.96363636363637, 'X[10] <= 220.0\\ngini = 0.36\\nsamples = 17\\nvalue = [4, 13]'),\n",
       " Text(302.2907619689818, 163.07999999999998, 'X[11] <= 275.0\\ngini = 0.142\\nsamples = 13\\nvalue = [1, 12]'),\n",
       " Text(301.3877275792313, 153.19636363636363, 'X[8] <= 31.0\\ngini = 0.444\\nsamples = 3\\nvalue = [1, 2]'),\n",
       " Text(300.48469318948077, 143.31272727272727, 'gini = 0.0\\nsamples = 1\\nvalue = [1, 0]'),\n",
       " Text(302.2907619689818, 143.31272727272727, 'gini = 0.0\\nsamples = 2\\nvalue = [0, 2]'),\n",
       " Text(303.1937963587323, 153.19636363636363, 'gini = 0.0\\nsamples = 10\\nvalue = [0, 10]'),\n",
       " Text(305.90289952798383, 163.07999999999998, 'X[3] <= 32.5\\ngini = 0.375\\nsamples = 4\\nvalue = [3, 1]'),\n",
       " Text(304.9998651382333, 153.19636363636363, 'gini = 0.0\\nsamples = 1\\nvalue = [0, 1]'),\n",
       " Text(306.8059339177343, 153.19636363636363, 'gini = 0.0\\nsamples = 3\\nvalue = [3, 0]'),\n",
       " Text(311.32110586648685, 172.96363636363637, 'X[9] <= 17500.0\\ngini = 0.38\\nsamples = 55\\nvalue = [41, 14]'),\n",
       " Text(309.51503708698584, 163.07999999999998, 'X[12] <= 1042.5\\ngini = 0.31\\nsamples = 47\\nvalue = [38, 9]'),\n",
       " Text(308.61200269723537, 153.19636363636363, 'gini = 0.0\\nsamples = 10\\nvalue = [10, 0]'),\n",
       " Text(310.4180714767364, 153.19636363636363, 'X[12] <= 1133.5\\ngini = 0.368\\nsamples = 37\\nvalue = [28, 9]'),\n",
       " Text(309.51503708698584, 143.31272727272727, 'gini = 0.0\\nsamples = 3\\nvalue = [0, 3]'),\n",
       " Text(311.32110586648685, 143.31272727272727, 'X[0] <= 4.5\\ngini = 0.291\\nsamples = 34\\nvalue = [28, 6]'),\n",
       " Text(310.4180714767364, 133.42909090909092, 'gini = 0.0\\nsamples = 1\\nvalue = [0, 1]'),\n",
       " Text(312.2241402562374, 133.42909090909092, 'X[9] <= 9250.0\\ngini = 0.257\\nsamples = 33\\nvalue = [28, 5]'),\n",
       " Text(310.4180714767364, 123.54545454545455, 'X[12] <= 1549.5\\ngini = 0.185\\nsamples = 29\\nvalue = [26, 3]'),\n",
       " Text(309.51503708698584, 113.66181818181819, 'X[8] <= 18.0\\ngini = 0.355\\nsamples = 13\\nvalue = [10, 3]'),\n",
       " Text(308.61200269723537, 103.77818181818182, 'gini = 0.0\\nsamples = 1\\nvalue = [0, 1]'),\n",
       " Text(310.4180714767364, 103.77818181818182, 'X[12] <= 1539.5\\ngini = 0.278\\nsamples = 12\\nvalue = [10, 2]'),\n",
       " Text(309.51503708698584, 93.89454545454547, 'X[1] <= 0.5\\ngini = 0.165\\nsamples = 11\\nvalue = [10, 1]'),\n",
       " Text(308.61200269723537, 84.01090909090911, 'gini = 0.0\\nsamples = 1\\nvalue = [0, 1]'),\n",
       " Text(310.4180714767364, 84.01090909090911, 'gini = 0.0\\nsamples = 10\\nvalue = [10, 0]'),\n",
       " Text(311.32110586648685, 93.89454545454547, 'gini = 0.0\\nsamples = 1\\nvalue = [0, 1]'),\n",
       " Text(311.32110586648685, 113.66181818181819, 'gini = 0.0\\nsamples = 16\\nvalue = [16, 0]'),\n",
       " Text(314.0302090357384, 123.54545454545455, 'X[2] <= 42.0\\ngini = 0.5\\nsamples = 4\\nvalue = [2, 2]'),\n",
       " Text(313.12717464598785, 113.66181818181819, 'gini = 0.0\\nsamples = 2\\nvalue = [2, 0]'),\n",
       " Text(314.9332434254889, 113.66181818181819, 'gini = 0.0\\nsamples = 2\\nvalue = [0, 2]'),\n",
       " Text(313.12717464598785, 163.07999999999998, 'X[11] <= 975.0\\ngini = 0.469\\nsamples = 8\\nvalue = [3, 5]'),\n",
       " Text(312.2241402562374, 153.19636363636363, 'gini = 0.0\\nsamples = 2\\nvalue = [2, 0]'),\n",
       " Text(314.0302090357384, 153.19636363636363, 'X[7] <= 67.5\\ngini = 0.278\\nsamples = 6\\nvalue = [1, 5]'),\n",
       " Text(313.12717464598785, 143.31272727272727, 'gini = 0.0\\nsamples = 5\\nvalue = [0, 5]'),\n",
       " Text(314.9332434254889, 143.31272727272727, 'gini = 0.0\\nsamples = 1\\nvalue = [1, 0]'),\n",
       " Text(325.0923803101821, 182.84727272727272, 'X[9] <= 500.0\\ngini = 0.433\\nsamples = 120\\nvalue = [38, 82]'),\n",
       " Text(319.8999325691167, 172.96363636363637, 'X[0] <= 4.5\\ngini = 0.498\\nsamples = 36\\nvalue = [19, 17]'),\n",
       " Text(318.99689817936616, 163.07999999999998, 'gini = 0.0\\nsamples = 5\\nvalue = [5, 0]'),\n",
       " Text(320.80296695886716, 163.07999999999998, 'X[7] <= 74.5\\ngini = 0.495\\nsamples = 31\\nvalue = [14, 17]'),\n",
       " Text(317.6423465947404, 153.19636363636363, 'X[3] <= 30.5\\ngini = 0.475\\nsamples = 18\\nvalue = [11, 7]'),\n",
       " Text(316.7393122049899, 143.31272727272727, 'gini = 0.0\\nsamples = 3\\nvalue = [0, 3]'),\n",
       " Text(318.5453809844909, 143.31272727272727, 'X[8] <= 125.0\\ngini = 0.391\\nsamples = 15\\nvalue = [11, 4]'),\n",
       " Text(317.6423465947404, 133.42909090909092, 'X[2] <= 54.0\\ngini = 0.32\\nsamples = 5\\nvalue = [1, 4]'),\n",
       " Text(316.7393122049899, 123.54545454545455, 'gini = 0.0\\nsamples = 3\\nvalue = [0, 3]'),\n",
       " Text(318.5453809844909, 123.54545454545455, 'X[4] <= 0.5\\ngini = 0.5\\nsamples = 2\\nvalue = [1, 1]'),\n",
       " Text(317.6423465947404, 113.66181818181819, 'gini = 0.0\\nsamples = 1\\nvalue = [0, 1]'),\n",
       " Text(319.4484153742414, 113.66181818181819, 'gini = 0.0\\nsamples = 1\\nvalue = [1, 0]'),\n",
       " Text(319.4484153742414, 133.42909090909092, 'gini = 0.0\\nsamples = 10\\nvalue = [10, 0]'),\n",
       " Text(323.96358732299393, 153.19636363636363, 'X[7] <= 104.5\\ngini = 0.355\\nsamples = 13\\nvalue = [3, 10]'),\n",
       " Text(322.1575185434929, 143.31272727272727, 'X[11] <= 700.0\\ngini = 0.18\\nsamples = 10\\nvalue = [1, 9]'),\n",
       " Text(321.2544841537424, 133.42909090909092, 'X[2] <= 30.0\\ngini = 0.444\\nsamples = 3\\nvalue = [1, 2]'),\n",
       " Text(320.3514497639919, 123.54545454545455, 'gini = 0.0\\nsamples = 2\\nvalue = [0, 2]'),\n",
       " Text(322.1575185434929, 123.54545454545455, 'gini = 0.0\\nsamples = 1\\nvalue = [1, 0]'),\n",
       " Text(323.06055293324346, 133.42909090909092, 'gini = 0.0\\nsamples = 7\\nvalue = [0, 7]'),\n",
       " Text(325.76965610249493, 143.31272727272727, 'X[0] <= 23.0\\ngini = 0.444\\nsamples = 3\\nvalue = [2, 1]'),\n",
       " Text(324.86662171274446, 133.42909090909092, 'gini = 0.0\\nsamples = 2\\nvalue = [2, 0]'),\n",
       " Text(326.67269049224547, 133.42909090909092, 'gini = 0.0\\nsamples = 1\\nvalue = [0, 1]'),\n",
       " Text(330.2848280512475, 172.96363636363637, 'X[7] <= 89.5\\ngini = 0.35\\nsamples = 84\\nvalue = [19, 65]'),\n",
       " Text(327.57572488199594, 163.07999999999998, 'X[11] <= 862.5\\ngini = 0.29\\nsamples = 74\\nvalue = [13, 61]'),\n",
       " Text(326.67269049224547, 153.19636363636363, 'gini = 0.0\\nsamples = 24\\nvalue = [0, 24]'),\n",
       " Text(328.47875927174647, 153.19636363636363, 'X[12] <= 1075.0\\ngini = 0.385\\nsamples = 50\\nvalue = [13, 37]'),\n",
       " Text(327.57572488199594, 143.31272727272727, 'gini = 0.0\\nsamples = 4\\nvalue = [4, 0]'),\n",
       " Text(329.381793661497, 143.31272727272727, 'X[3] <= 56.0\\ngini = 0.315\\nsamples = 46\\nvalue = [9, 37]'),\n",
       " Text(328.47875927174647, 133.42909090909092, 'X[8] <= 125.0\\ngini = 0.268\\nsamples = 44\\nvalue = [7, 37]'),\n",
       " Text(326.2211732973702, 123.54545454545455, 'X[3] <= 36.5\\ngini = 0.48\\nsamples = 5\\nvalue = [3, 2]'),\n",
       " Text(325.3181389076197, 113.66181818181819, 'gini = 0.0\\nsamples = 2\\nvalue = [0, 2]'),\n",
       " Text(327.1242076871207, 113.66181818181819, 'gini = 0.0\\nsamples = 3\\nvalue = [3, 0]'),\n",
       " Text(330.7363452461227, 123.54545454545455, 'X[8] <= 295.0\\ngini = 0.184\\nsamples = 39\\nvalue = [4, 35]'),\n",
       " Text(328.9302764666217, 113.66181818181819, 'X[10] <= 2900.0\\ngini = 0.061\\nsamples = 32\\nvalue = [1, 31]'),\n",
       " Text(328.02724207687123, 103.77818181818182, 'gini = 0.0\\nsamples = 31\\nvalue = [0, 31]'),\n",
       " Text(329.83331085637224, 103.77818181818182, 'gini = 0.0\\nsamples = 1\\nvalue = [1, 0]'),\n",
       " Text(332.54241402562377, 113.66181818181819, 'X[3] <= 45.5\\ngini = 0.49\\nsamples = 7\\nvalue = [3, 4]'),\n",
       " Text(331.63937963587324, 103.77818181818182, 'X[10] <= 2150.0\\ngini = 0.375\\nsamples = 4\\nvalue = [3, 1]'),\n",
       " Text(330.7363452461227, 93.89454545454547, 'gini = 0.0\\nsamples = 3\\nvalue = [3, 0]'),\n",
       " Text(332.54241402562377, 93.89454545454547, 'gini = 0.0\\nsamples = 1\\nvalue = [0, 1]'),\n",
       " Text(333.44544841537424, 103.77818181818182, 'gini = 0.0\\nsamples = 3\\nvalue = [0, 3]'),\n",
       " Text(330.2848280512475, 133.42909090909092, 'gini = 0.0\\nsamples = 2\\nvalue = [2, 0]'),\n",
       " Text(332.993931220499, 163.07999999999998, 'X[9] <= 14000.0\\ngini = 0.48\\nsamples = 10\\nvalue = [6, 4]'),\n",
       " Text(332.0908968307485, 153.19636363636363, 'X[0] <= 13.0\\ngini = 0.375\\nsamples = 8\\nvalue = [6, 2]'),\n",
       " Text(331.187862440998, 143.31272727272727, 'gini = 0.0\\nsamples = 5\\nvalue = [5, 0]'),\n",
       " Text(332.993931220499, 143.31272727272727, 'X[11] <= 1187.5\\ngini = 0.444\\nsamples = 3\\nvalue = [1, 2]'),\n",
       " Text(332.0908968307485, 133.42909090909092, 'gini = 0.0\\nsamples = 1\\nvalue = [1, 0]'),\n",
       " Text(333.8969656102495, 133.42909090909092, 'gini = 0.0\\nsamples = 2\\nvalue = [0, 2]'),\n",
       " Text(333.8969656102495, 153.19636363636363, 'gini = 0.0\\nsamples = 2\\nvalue = [0, 2]')]"
      ]
     },
     "execution_count": 5,
     "metadata": {},
     "output_type": "execute_result"
    },
    {
     "data": {
      "image/png": "[encoded data removed]",
      "text/plain": [
       "<Figure size 432x288 with 1 Axes>"
      ]
     },
     "metadata": {
      "needs_background": "light"
     },
     "output_type": "display_data"
    }
   ],
   "source": [
    "from sklearn import tree\n",
    "clf = tree.DecisionTreeClassifier(random_state=1)\n",
    "clf = clf.fit(X_train, Y_train)\n",
    "tree.plot_tree(clf)"
   ]
  },
  {
   "cell_type": "markdown",
   "metadata": {},
   "source": [
    "Afin de consulter mieux l'abre contruit, on installe la bibliotheque `graphviz` et apres, on visualise cet abre. On sauvegarde l'image de l'abre dans fichier `CART.pdf`."
   ]
  },
  {
   "cell_type": "code",
   "execution_count": 6,
   "metadata": {
    "scrolled": false
   },
   "outputs": [
    {
     "data": {
      "text/plain": [
       "'CART.pdf'"
      ]
     },
     "execution_count": 6,
     "metadata": {},
     "output_type": "execute_result"
    }
   ],
   "source": [
    "import graphviz\n",
    "dot_data = tree.export_graphviz(clf, out_file=None, \n",
    "                                feature_names=df.columns[0:13],  \n",
    "                                class_names=['0', '1'],  \n",
    "                                filled=True, rounded=True,  \n",
    "                                special_characters=True)\n",
    "graph = graphviz.Source(dot_data)\n",
    "graph.render('CART')"
   ]
  },
  {
   "cell_type": "markdown",
   "metadata": {},
   "source": [
    "Deuxiemment, on train les donnees avec K-plus-proches-voisins avec la fonction `KNeighborsClassifier`."
   ]
  },
  {
   "cell_type": "code",
   "execution_count": 7,
   "metadata": {},
   "outputs": [],
   "source": [
    "from sklearn.neighbors import KNeighborsClassifier\n",
    "\n",
    "neigh = KNeighborsClassifier(n_neighbors=5)\n",
    "neigh = neigh.fit(X_train, Y_train)"
   ]
  },
  {
   "cell_type": "markdown",
   "metadata": {},
   "source": [
    "Finalement, on evalue la prediction de ces algorithmes par 3 valeurs: accuracy, Rappel et Precision."
   ]
  },
  {
   "cell_type": "code",
   "execution_count": 8,
   "metadata": {},
   "outputs": [
    {
     "name": "stdout",
     "output_type": "stream",
     "text": [
      "CART ------------------------------\n",
      "Precision:  0.8194174757281554\n",
      "Recall:  0.7992424242424242\n",
      "Accuracy:  0.7271480804387569\n",
      "-----------------------------------\n",
      "KNN -------------------------------\n",
      "Precision:  0.7709713024282561\n",
      "Recall:  0.8819444444444444\n",
      "Accuracy:  0.7248628884826326\n",
      "-----------------------------------\n"
     ]
    }
   ],
   "source": [
    "# Evaluation\n",
    "## CART\n",
    "tree_Y_pred = clf.predict(X_test)\n",
    "tree_precision = metrics.precision_score(Y_test, tree_Y_pred)\n",
    "tree_recall = metrics.recall_score(Y_test, tree_Y_pred)\n",
    "tree_accuracy = metrics.accuracy_score(Y_test, tree_Y_pred)\n",
    "print('CART ------------------------------')\n",
    "print(\"Precision: \", tree_precision)\n",
    "print(\"Recall: \", tree_recall)\n",
    "print(\"Accuracy: \", tree_accuracy)\n",
    "print('-----------------------------------')\n",
    "\n",
    "\n",
    "\n",
    "## K-plus-proches-voisins\n",
    "neigh_Y_pred = neigh.predict(X_test)\n",
    "neigh_precision = metrics.precision_score(Y_test, neigh_Y_pred)\n",
    "neigh_recall = metrics.recall_score(Y_test, neigh_Y_pred)\n",
    "neigh_accuracy = metrics.accuracy_score(Y_test, neigh_Y_pred)\n",
    "print('KNN -------------------------------')\n",
    "print(\"Precision: \", neigh_precision)\n",
    "print(\"Recall: \", neigh_recall)\n",
    "print(\"Accuracy: \", neigh_accuracy)\n",
    "print('-----------------------------------')"
   ]
  },
  {
   "cell_type": "markdown",
   "metadata": {},
   "source": [
    "Entre la `Presicion` et le `Rappel`, dans cette application de `credit scoring`, la `presicion` est le meilleur critère pour comparer les classifications. Car plus la `Précision` est élevée, plus le faux négatif est faible, ce qui signifie que le montant des créances irrécouvrables (pertes financières) est faible pour la banque. En outre, la `Précision` signifie la perte de client potentiel.\n",
    "\n",
    "En basant sur l'`Accuracy` et le `Rappel` des deux algorithmes, on peut voir que la classification de `CART` est préférable de détecter les bons clients et que la classification de `KNN` est préférable de réduire le taux de fausses évaluations des mauvais emprunteurs."
   ]
  },
  {
   "cell_type": "markdown",
   "metadata": {},
   "source": [
    "## I.3. Normalisation des variables continues  "
   ]
  },
  {
   "cell_type": "markdown",
   "metadata": {},
   "source": [
    "On commence normaliser des donnees avec `StandardScaler` de `sklearn`. Apres d'avoir normalise 2 tableau `X_train` et `X_test`, on a maintenant 2 tableau normalises `Xss_train` et `Xss_test`."
   ]
  },
  {
   "cell_type": "code",
   "execution_count": 9,
   "metadata": {},
   "outputs": [],
   "source": [
    "from sklearn.preprocessing import StandardScaler\n",
    "ss = StandardScaler()\n",
    "Xss_train = ss.fit_transform(X_train)\n",
    "Xss_test = ss.transform(X_test)\n",
    "\n",
    "# re-diviser training set et test set\n",
    "# (Xss_train, Xss_test, Yss_train, Yss_test) = train_test_split(Xss,Y,test_size=0.5, random_state=1)"
   ]
  },
  {
   "cell_type": "markdown",
   "metadata": {},
   "source": [
    "Avec les nouveaux sets, on train ces sets avec `CART` et `KNN` et ensuite, les evalue. On voit qu'avec `CART`, les 3 valeurs `Accuracy`, `Rappel` et `Precision` changent un peu (0.81941 vs 0.81830, 0.79924 vs 0.80113 et 0.72714 vs 0.72715). D'autre part, avec `KNN`, la `Precision` augmente 4% (0.77 -> 0.81), le `Rappel` reduit 2% (0.88 -> 0.86) et l'`Accuracy` augmente 3% (0.72 -> 0.75)"
   ]
  },
  {
   "cell_type": "code",
   "execution_count": 10,
   "metadata": {},
   "outputs": [],
   "source": [
    "clf_ss = tree.DecisionTreeClassifier(random_state=1)\n",
    "clf_ss = clf_ss.fit(Xss_train, Y_train)\n",
    "\n",
    "neigh_ss = KNeighborsClassifier(n_neighbors=5)\n",
    "neigh_ss = neigh_ss.fit(Xss_train, Y_train)"
   ]
  },
  {
   "cell_type": "code",
   "execution_count": 11,
   "metadata": {},
   "outputs": [
    {
     "name": "stdout",
     "output_type": "stream",
     "text": [
      "CART ------------------------------\n",
      "Precision:  0.8181818181818182\n",
      "Recall:  0.8011363636363636\n",
      "Accuracy:  0.7271480804387569\n",
      "-----------------------------------\n",
      "KNN -------------------------------\n",
      "Precision:  0.8106015485407981\n",
      "Recall:  0.8592171717171717\n",
      "Accuracy:  0.7527422303473492\n",
      "-----------------------------------\n"
     ]
    }
   ],
   "source": [
    "# Evaluation\n",
    "## CART\n",
    "tree_Y_pred = clf_ss.predict(Xss_test)\n",
    "tree_precision = metrics.precision_score(Y_test, tree_Y_pred)\n",
    "tree_recall = metrics.recall_score(Y_test, tree_Y_pred)\n",
    "tree_accuracy = metrics.accuracy_score(Y_test, tree_Y_pred)\n",
    "print('CART ------------------------------')\n",
    "print(\"Precision: \", tree_precision)\n",
    "print(\"Recall: \", tree_recall)\n",
    "print(\"Accuracy: \", tree_accuracy)\n",
    "print('-----------------------------------')\n",
    "\n",
    "\n",
    "\n",
    "## K-plus-proches-voisins\n",
    "neigh_Y_pred = neigh_ss.predict(Xss_test)\n",
    "neigh_precision = metrics.precision_score(Y_test, neigh_Y_pred)\n",
    "neigh_recall = metrics.recall_score(Y_test, neigh_Y_pred)\n",
    "neigh_accuracy = metrics.accuracy_score(Y_test, neigh_Y_pred)\n",
    "print('KNN -------------------------------')\n",
    "print(\"Precision: \", neigh_precision)\n",
    "print(\"Recall: \", neigh_recall)\n",
    "print(\"Accuracy: \", neigh_accuracy)\n",
    "print('-----------------------------------')"
   ]
  },
  {
   "cell_type": "markdown",
   "metadata": {},
   "source": [
    "On fait meme methode pour la normalisation de `MinMaxScaler`. Malgre les differences entre 2 methode (le `Rappel` augmente dans 2 algorithmes), generalement, on voit que les 2 methodes de la normalisation sont pareils."
   ]
  },
  {
   "cell_type": "code",
   "execution_count": 12,
   "metadata": {},
   "outputs": [],
   "source": [
    "from sklearn.preprocessing import MinMaxScaler\n",
    "mm = MinMaxScaler()\n",
    "\n",
    "Xmm_train = mm.fit_transform(X_train)\n",
    "Xmm_test = mm.transform(X_test)\n",
    "\n",
    "# re-diviser training set et test set\n",
    "# (Xmm_train, Xmm_test, Ymm_train, Ymm_test) = train_test_split(Xmm,Y,test_size=0.5, random_state=1)"
   ]
  },
  {
   "cell_type": "code",
   "execution_count": 13,
   "metadata": {},
   "outputs": [],
   "source": [
    "clf_mm = tree.DecisionTreeClassifier(random_state=1)\n",
    "clf_mm = clf_mm.fit(Xmm_train, Y_train)\n",
    "\n",
    "neigh_mm = KNeighborsClassifier(n_neighbors=5)\n",
    "neigh_mm = neigh_mm.fit(Xmm_train, Y_train)"
   ]
  },
  {
   "cell_type": "code",
   "execution_count": 14,
   "metadata": {},
   "outputs": [
    {
     "name": "stdout",
     "output_type": "stream",
     "text": [
      "CART ------------------------------\n",
      "Precision:  0.8197674418604651\n",
      "Recall:  0.8011363636363636\n",
      "Accuracy:  0.7285191956124314\n",
      "-----------------------------------\n",
      "KNN -------------------------------\n",
      "Precision:  0.8076692630317556\n",
      "Recall:  0.851010101010101\n",
      "Accuracy:  0.7454296160877514\n",
      "-----------------------------------\n"
     ]
    }
   ],
   "source": [
    "# Evaluation\n",
    "## CART\n",
    "tree_Y_pred = clf_mm.predict(Xmm_test)\n",
    "tree_precision = metrics.precision_score(Y_test, tree_Y_pred)\n",
    "tree_recall = metrics.recall_score(Y_test, tree_Y_pred)\n",
    "tree_accuracy = metrics.accuracy_score(Y_test, tree_Y_pred)\n",
    "print('CART ------------------------------')\n",
    "print(\"Precision: \", tree_precision)\n",
    "print(\"Recall: \", tree_recall)\n",
    "print(\"Accuracy: \", tree_accuracy)\n",
    "print('-----------------------------------')\n",
    "\n",
    "\n",
    "\n",
    "## K-plus-proches-voisins\n",
    "neigh_Y_pred = neigh_mm.predict(Xmm_test)\n",
    "neigh_precision = metrics.precision_score(Y_test, neigh_Y_pred)\n",
    "neigh_recall = metrics.recall_score(Y_test, neigh_Y_pred)\n",
    "neigh_accuracy = metrics.accuracy_score(Y_test, neigh_Y_pred)\n",
    "print('KNN -------------------------------')\n",
    "print(\"Precision: \", neigh_precision)\n",
    "print(\"Recall: \", neigh_recall)\n",
    "print(\"Accuracy: \", neigh_accuracy)\n",
    "print('-----------------------------------')"
   ]
  },
  {
   "cell_type": "markdown",
   "metadata": {},
   "source": [
    "##  I.4. Création de nouvelles variables caractéristiques par combinaisons linéaires des variables initiales"
   ]
  },
  {
   "cell_type": "markdown",
   "metadata": {},
   "source": [
    "On fait la reduction de dimension sur 2 tableaux `Xss_Train` et `Xss_test` en utilisant `PCA` pour obtenir 3 nouvelles components."
   ]
  },
  {
   "cell_type": "code",
   "execution_count": 15,
   "metadata": {},
   "outputs": [],
   "source": [
    "from sklearn.decomposition import PCA\n",
    "pca = PCA(n_components=3)\n",
    "Xpca_train = pca.fit_transform(Xss_train)\n",
    "\n",
    "Xpca_test = pca.transform(Xss_test)"
   ]
  },
  {
   "cell_type": "markdown",
   "metadata": {},
   "source": [
    "Apres de la creation de 2 nouveaux tableaux `Xpca_train` et `Xpca_test`, on commence train et evalue des donnees avec `CART` et `KNN`. On voit que les valuers de `Accuracy`, `Rappel` et `Precision` reduit fortement a cause de la reduction de dimension. "
   ]
  },
  {
   "cell_type": "code",
   "execution_count": 16,
   "metadata": {},
   "outputs": [],
   "source": [
    "clf_pca = tree.DecisionTreeClassifier(random_state=1)\n",
    "clf_pca = clf_pca.fit(Xpca_train, Y_train)\n",
    "\n",
    "neigh_pca = KNeighborsClassifier(n_neighbors=5)\n",
    "neigh_pca = neigh_pca.fit(Xpca_train, Y_train)"
   ]
  },
  {
   "cell_type": "code",
   "execution_count": 17,
   "metadata": {},
   "outputs": [
    {
     "name": "stdout",
     "output_type": "stream",
     "text": [
      "CART ------------------------------\n",
      "Precision:  0.7532133676092545\n",
      "Recall:  0.73989898989899\n",
      "Accuracy:  0.6361974405850092\n",
      "-----------------------------------\n",
      "KNN -------------------------------\n",
      "Precision:  0.7557422969187675\n",
      "Recall:  0.8516414141414141\n",
      "Accuracy:  0.693327239488117\n",
      "-----------------------------------\n"
     ]
    }
   ],
   "source": [
    "# Evaluation\n",
    "## CART\n",
    "tree_Y_pred = clf_pca.predict(Xpca_test)\n",
    "tree_precision = metrics.precision_score(Y_test, tree_Y_pred)\n",
    "tree_recall = metrics.recall_score(Y_test, tree_Y_pred)\n",
    "tree_accuracy = metrics.accuracy_score(Y_test, tree_Y_pred)\n",
    "print('CART ------------------------------')\n",
    "print(\"Precision: \", tree_precision)\n",
    "print(\"Recall: \", tree_recall)\n",
    "print(\"Accuracy: \", tree_accuracy)\n",
    "print('-----------------------------------')\n",
    "\n",
    "\n",
    "\n",
    "## K-plus-proches-voisins\n",
    "neigh_Y_pred = neigh_pca.predict(Xpca_test)\n",
    "neigh_precision = metrics.precision_score(Y_test, neigh_Y_pred)\n",
    "neigh_recall = metrics.recall_score(Y_test, neigh_Y_pred)\n",
    "neigh_accuracy = metrics.accuracy_score(Y_test, neigh_Y_pred)\n",
    "print('KNN -------------------------------')\n",
    "print(\"Precision: \", neigh_precision)\n",
    "print(\"Recall: \", neigh_recall)\n",
    "print(\"Accuracy: \", neigh_accuracy)\n",
    "print('-----------------------------------')"
   ]
  },
  {
   "cell_type": "markdown",
   "metadata": {},
   "source": [
    "##  I.5. Sélection de variables"
   ]
  },
  {
   "cell_type": "markdown",
   "metadata": {},
   "source": [
    "On trie les variables par leur importance grace a la fonction `feature_importances_` de `RandomForestClassifier`. D'apres le graphe, les 3 attributs les plus importants sont `Income`, `Seniority` et `Price`."
   ]
  },
  {
   "cell_type": "code",
   "execution_count": 18,
   "metadata": {},
   "outputs": [
    {
     "name": "stdout",
     "output_type": "stream",
     "text": [
      "Index(['Income', 'Seniority', 'Price', 'Amount', 'Age', 'Assets', 'Expenses',\n",
      "       'Records', 'Time', 'Job', 'Debt', 'Home', 'Marital'],\n",
      "      dtype='object')\n"
     ]
    },
    {
     "data": {
      "image/png": "[encoded data removed]",
      "text/plain": [
       "<Figure size 432x288 with 1 Axes>"
      ]
     },
     "metadata": {
      "needs_background": "light"
     },
     "output_type": "display_data"
    }
   ],
   "source": [
    "from sklearn.ensemble import RandomForestClassifier\n",
    "clf = RandomForestClassifier(n_estimators=100)\n",
    "clf.fit(Xss_train, Y_train)\n",
    "importances=clf.feature_importances_\n",
    "std = np.std([tree.feature_importances_ for tree in clf.estimators_],axis=0)\n",
    "sorted_idx = np.argsort(importances)[::-1]\n",
    "features = df.columns\n",
    "print(features[sorted_idx])\n",
    "padding = np.arange(Xss_train.size/len(Xss_train)) + 0.5\n",
    "plt.barh(padding, importances[sorted_idx],xerr=std[sorted_idx], align='center')\n",
    "plt.yticks(padding, features[sorted_idx])\n",
    "plt.xlabel(\"Relative Importance\")\n",
    "plt.title(\"Variable Importance\")\n",
    "plt.show()"
   ]
  },
  {
   "cell_type": "markdown",
   "metadata": {},
   "source": [
    "On veut savoir qu'avec combien de variable, l'accuracy de `KNN` est plus grande. Ainsi, on affiche l'accuracy avec la nombre variables de 0 a 12. On voit qu'avec 7 variables les plus importantes, l'accuracy est le meilleur."
   ]
  },
  {
   "cell_type": "code",
   "execution_count": 19,
   "metadata": {},
   "outputs": [
    {
     "data": {
      "image/png": "[encoded data removed]",
      "text/plain": [
       "<Figure size 432x288 with 1 Axes>"
      ]
     },
     "metadata": {
      "needs_background": "light"
     },
     "output_type": "display_data"
    }
   ],
   "source": [
    "KNN=KNeighborsClassifier(n_neighbors=5)\n",
    "scores=np.zeros(Xss_train.shape[1]+1)\n",
    "for f in np.arange(0, Xss_train.shape[1]+1):\n",
    "    X1_f = Xss_train[:,sorted_idx[:f+1]]\n",
    "    X2_f = Xss_test[:,sorted_idx[:f+1]]\n",
    "    KNN.fit(X1_f,Y_train)\n",
    "    YKNN=KNN.predict(X2_f)\n",
    "    scores[f]=np.round(metrics.accuracy_score(Y_test,YKNN),3)\n",
    "plt.plot(scores)\n",
    "plt.xlabel(\"Nombre de Variables\")\n",
    "plt.ylabel(\"Accuracy\")\n",
    "plt.title(\"Evolution de l'accuracy en fonction des variables\")\n",
    "plt.show()"
   ]
  },
  {
   "cell_type": "markdown",
   "metadata": {},
   "source": [
    "##  I.6. Paramétrage des classifieurs"
   ]
  },
  {
   "cell_type": "markdown",
   "metadata": {},
   "source": [
    "On cree une liste de parametres pour `CART` (avec `random_state` dans [0,20)) et pour `KNN` (avec `n_neighbors` dans [1,20))"
   ]
  },
  {
   "cell_type": "code",
   "execution_count": 20,
   "metadata": {},
   "outputs": [],
   "source": [
    "from sklearn.model_selection import GridSearchCV\n",
    "\n",
    "clf_param = {'random_state': range(20)}\n",
    "knn_param = {'n_neighbors': range(1, 20)}\n",
    "scores = ['precision', 'recall']"
   ]
  },
  {
   "cell_type": "markdown",
   "metadata": {},
   "source": [
    "On trouve le meilleur parametre pour la classification de CART par 2 l'indice: la `Precision` et le `Rappel`. `GridSearchCV` retourne le meilleur `random_state=18` pour tous les 2 indices."
   ]
  },
  {
   "cell_type": "code",
   "execution_count": 21,
   "metadata": {},
   "outputs": [
    {
     "name": "stdout",
     "output_type": "stream",
     "text": [
      "# Tuning hyper-parameters for precision\n",
      "\n",
      "Best parameters set found on development set:\n",
      "\n",
      "{'random_state': 18}\n",
      "\n",
      "Grid scores on development set:\n",
      "\n",
      "0.633 (+/-0.032) for {'random_state': 0}\n",
      "0.614 (+/-0.034) for {'random_state': 1}\n",
      "0.619 (+/-0.029) for {'random_state': 2}\n",
      "0.626 (+/-0.027) for {'random_state': 3}\n",
      "0.627 (+/-0.022) for {'random_state': 4}\n",
      "0.623 (+/-0.037) for {'random_state': 5}\n",
      "0.628 (+/-0.026) for {'random_state': 6}\n",
      "0.626 (+/-0.011) for {'random_state': 7}\n",
      "0.624 (+/-0.056) for {'random_state': 8}\n",
      "0.633 (+/-0.029) for {'random_state': 9}\n",
      "0.622 (+/-0.008) for {'random_state': 10}\n",
      "0.621 (+/-0.031) for {'random_state': 11}\n",
      "0.630 (+/-0.025) for {'random_state': 12}\n",
      "0.624 (+/-0.031) for {'random_state': 13}\n",
      "0.624 (+/-0.031) for {'random_state': 14}\n",
      "0.632 (+/-0.026) for {'random_state': 15}\n",
      "0.626 (+/-0.039) for {'random_state': 16}\n",
      "0.632 (+/-0.028) for {'random_state': 17}\n",
      "0.636 (+/-0.035) for {'random_state': 18}\n",
      "0.632 (+/-0.025) for {'random_state': 19}\n",
      "\n",
      "Detailed classification report:\n",
      "\n",
      "The model is trained on the full development set.\n",
      "The scores are computed on the full evaluation set.\n",
      "\n",
      "              precision    recall  f1-score   support\n",
      "\n",
      "         0.0       0.49      0.53      0.51       604\n",
      "         1.0       0.82      0.79      0.80      1584\n",
      "\n",
      "    accuracy                           0.72      2188\n",
      "   macro avg       0.65      0.66      0.66      2188\n",
      "weighted avg       0.73      0.72      0.72      2188\n",
      "\n",
      "\n",
      "# Tuning hyper-parameters for recall\n",
      "\n",
      "Best parameters set found on development set:\n",
      "\n",
      "{'random_state': 18}\n",
      "\n",
      "Grid scores on development set:\n",
      "\n",
      "0.637 (+/-0.033) for {'random_state': 0}\n",
      "0.617 (+/-0.034) for {'random_state': 1}\n",
      "0.623 (+/-0.037) for {'random_state': 2}\n",
      "0.632 (+/-0.031) for {'random_state': 3}\n",
      "0.633 (+/-0.028) for {'random_state': 4}\n",
      "0.627 (+/-0.035) for {'random_state': 5}\n",
      "0.633 (+/-0.027) for {'random_state': 6}\n",
      "0.630 (+/-0.015) for {'random_state': 7}\n",
      "0.628 (+/-0.060) for {'random_state': 8}\n",
      "0.638 (+/-0.029) for {'random_state': 9}\n",
      "0.627 (+/-0.010) for {'random_state': 10}\n",
      "0.627 (+/-0.031) for {'random_state': 11}\n",
      "0.634 (+/-0.029) for {'random_state': 12}\n",
      "0.628 (+/-0.033) for {'random_state': 13}\n",
      "0.630 (+/-0.033) for {'random_state': 14}\n",
      "0.637 (+/-0.033) for {'random_state': 15}\n",
      "0.629 (+/-0.040) for {'random_state': 16}\n",
      "0.637 (+/-0.029) for {'random_state': 17}\n",
      "0.642 (+/-0.034) for {'random_state': 18}\n",
      "0.638 (+/-0.028) for {'random_state': 19}\n",
      "\n",
      "Detailed classification report:\n",
      "\n",
      "The model is trained on the full development set.\n",
      "The scores are computed on the full evaluation set.\n",
      "\n",
      "              precision    recall  f1-score   support\n",
      "\n",
      "         0.0       0.49      0.53      0.51       604\n",
      "         1.0       0.82      0.79      0.80      1584\n",
      "\n",
      "    accuracy                           0.72      2188\n",
      "   macro avg       0.65      0.66      0.66      2188\n",
      "weighted avg       0.73      0.72      0.72      2188\n",
      "\n",
      "\n"
     ]
    }
   ],
   "source": [
    "for score in scores:\n",
    "    print(\"# Tuning hyper-parameters for %s\" % score)\n",
    "    print()\n",
    "\n",
    "    clf = GridSearchCV(tree.DecisionTreeClassifier(), clf_param, cv=5,\n",
    "                       scoring='%s_macro' % score)\n",
    "    clf.fit(Xss_train, Y_train)\n",
    "\n",
    "    print(\"Best parameters set found on development set:\")\n",
    "    print()\n",
    "    print(clf.best_params_)\n",
    "    print()\n",
    "    print(\"Grid scores on development set:\")\n",
    "    print()\n",
    "    means = clf.cv_results_['mean_test_score']\n",
    "    stds = clf.cv_results_['std_test_score']\n",
    "    for mean, std, params in zip(means, stds, clf.cv_results_['params']):\n",
    "        print(\"%0.3f (+/-%0.03f) for %r\"\n",
    "              % (mean, std * 2, params))\n",
    "    print()\n",
    "\n",
    "    print(\"Detailed classification report:\")\n",
    "    print()\n",
    "    print(\"The model is trained on the full development set.\")\n",
    "    print(\"The scores are computed on the full evaluation set.\")\n",
    "    print()\n",
    "    Y_true, Y_pred = Y_test, clf.predict(Xss_test)\n",
    "    print(metrics.classification_report(Y_true, Y_pred))\n",
    "    print()"
   ]
  },
  {
   "cell_type": "markdown",
   "metadata": {},
   "source": [
    "On fait le meme methode pour l'algorithme KNN. Les meilleurs nombres de voisins sont `19` (pour la `Precision`) et `14` (pour le `Rappel`)."
   ]
  },
  {
   "cell_type": "code",
   "execution_count": 22,
   "metadata": {},
   "outputs": [
    {
     "name": "stdout",
     "output_type": "stream",
     "text": [
      "# Tuning hyper-parameters for precision\n",
      "\n",
      "Best parameters set found on development set:\n",
      "\n",
      "{'n_neighbors': 19}\n",
      "\n",
      "Grid scores on development set:\n",
      "\n",
      "0.636 (+/-0.038) for {'n_neighbors': 1}\n",
      "0.645 (+/-0.019) for {'n_neighbors': 2}\n",
      "0.655 (+/-0.055) for {'n_neighbors': 3}\n",
      "0.659 (+/-0.029) for {'n_neighbors': 4}\n",
      "0.679 (+/-0.030) for {'n_neighbors': 5}\n",
      "0.669 (+/-0.031) for {'n_neighbors': 6}\n",
      "0.689 (+/-0.057) for {'n_neighbors': 7}\n",
      "0.683 (+/-0.061) for {'n_neighbors': 8}\n",
      "0.695 (+/-0.054) for {'n_neighbors': 9}\n",
      "0.689 (+/-0.048) for {'n_neighbors': 10}\n",
      "0.706 (+/-0.031) for {'n_neighbors': 11}\n",
      "0.698 (+/-0.035) for {'n_neighbors': 12}\n",
      "0.712 (+/-0.035) for {'n_neighbors': 13}\n",
      "0.710 (+/-0.038) for {'n_neighbors': 14}\n",
      "0.708 (+/-0.044) for {'n_neighbors': 15}\n",
      "0.710 (+/-0.032) for {'n_neighbors': 16}\n",
      "0.709 (+/-0.048) for {'n_neighbors': 17}\n",
      "0.702 (+/-0.051) for {'n_neighbors': 18}\n",
      "0.714 (+/-0.053) for {'n_neighbors': 19}\n",
      "\n",
      "Detailed classification report:\n",
      "\n",
      "The model is trained on the full development set.\n",
      "The scores are computed on the full evaluation set.\n",
      "\n",
      "              precision    recall  f1-score   support\n",
      "\n",
      "         0.0       0.63      0.45      0.53       604\n",
      "         1.0       0.81      0.90      0.85      1584\n",
      "\n",
      "    accuracy                           0.77      2188\n",
      "   macro avg       0.72      0.68      0.69      2188\n",
      "weighted avg       0.76      0.77      0.76      2188\n",
      "\n",
      "\n",
      "# Tuning hyper-parameters for recall\n",
      "\n",
      "Best parameters set found on development set:\n",
      "\n",
      "{'n_neighbors': 14}\n",
      "\n",
      "Grid scores on development set:\n",
      "\n",
      "0.636 (+/-0.044) for {'n_neighbors': 1}\n",
      "0.676 (+/-0.023) for {'n_neighbors': 2}\n",
      "0.640 (+/-0.057) for {'n_neighbors': 3}\n",
      "0.674 (+/-0.031) for {'n_neighbors': 4}\n",
      "0.645 (+/-0.027) for {'n_neighbors': 5}\n",
      "0.667 (+/-0.026) for {'n_neighbors': 6}\n",
      "0.649 (+/-0.056) for {'n_neighbors': 7}\n",
      "0.674 (+/-0.065) for {'n_neighbors': 8}\n",
      "0.656 (+/-0.059) for {'n_neighbors': 9}\n",
      "0.670 (+/-0.054) for {'n_neighbors': 10}\n",
      "0.663 (+/-0.042) for {'n_neighbors': 11}\n",
      "0.674 (+/-0.045) for {'n_neighbors': 12}\n",
      "0.667 (+/-0.050) for {'n_neighbors': 13}\n",
      "0.678 (+/-0.050) for {'n_neighbors': 14}\n",
      "0.657 (+/-0.051) for {'n_neighbors': 15}\n",
      "0.673 (+/-0.040) for {'n_neighbors': 16}\n",
      "0.656 (+/-0.046) for {'n_neighbors': 17}\n",
      "0.666 (+/-0.061) for {'n_neighbors': 18}\n",
      "0.662 (+/-0.064) for {'n_neighbors': 19}\n",
      "\n",
      "Detailed classification report:\n",
      "\n",
      "The model is trained on the full development set.\n",
      "The scores are computed on the full evaluation set.\n",
      "\n",
      "              precision    recall  f1-score   support\n",
      "\n",
      "         0.0       0.62      0.51      0.56       604\n",
      "         1.0       0.83      0.88      0.85      1584\n",
      "\n",
      "    accuracy                           0.78      2188\n",
      "   macro avg       0.72      0.70      0.71      2188\n",
      "weighted avg       0.77      0.78      0.77      2188\n",
      "\n",
      "\n"
     ]
    }
   ],
   "source": [
    "for score in scores:\n",
    "    print(\"# Tuning hyper-parameters for %s\" % score)\n",
    "    print()\n",
    "\n",
    "    knn = GridSearchCV(KNeighborsClassifier(), knn_param, cv=5,\n",
    "                       scoring='%s_macro' % score)\n",
    "    knn.fit(Xss_train, Y_train)\n",
    "\n",
    "    print(\"Best parameters set found on development set:\")\n",
    "    print()\n",
    "    print(knn.best_params_)\n",
    "    print()\n",
    "    print(\"Grid scores on development set:\")\n",
    "    print()\n",
    "    means = knn.cv_results_['mean_test_score']\n",
    "    stds = knn.cv_results_['std_test_score']\n",
    "    for mean, std, params in zip(means, stds, knn.cv_results_['params']):\n",
    "        print(\"%0.3f (+/-%0.03f) for %r\"\n",
    "              % (mean, std * 2, params))\n",
    "    print()\n",
    "\n",
    "    print(\"Detailed classification report:\")\n",
    "    print()\n",
    "    print(\"The model is trained on the full development set.\")\n",
    "    print(\"The scores are computed on the full evaluation set.\")\n",
    "    print()\n",
    "    Y_true, Y_pred = Y_test, knn.predict(Xss_test)\n",
    "    print(metrics.classification_report(Y_true, Y_pred))\n",
    "    print()"
   ]
  },
  {
   "cell_type": "markdown",
   "metadata": {},
   "source": [
    "##  I.7. Création d’un pipeline"
   ]
  },
  {
   "cell_type": "markdown",
   "metadata": {},
   "source": [
    "On cree 2 pipelines pour le `CART` et le `KNN`. Chaque pipeline contient 3 etapes:\n",
    "- Normaliser le tableau X avec `StandardScaler`\n",
    "- Reduire la dimension de X avec `PCA`\n",
    "- Classfier X et Y avec `CART`/`KNN`\n",
    "Finalement, on calcul l'`Acurracy` de l'algorithm par appeler la fonction `score` du pipline."
   ]
  },
  {
   "cell_type": "code",
   "execution_count": 23,
   "metadata": {},
   "outputs": [
    {
     "name": "stdout",
     "output_type": "stream",
     "text": [
      "CART's accuracy score:  0.6361974405850092\n"
     ]
    }
   ],
   "source": [
    "from sklearn.pipeline import Pipeline\n",
    "\n",
    "clf_pip = Pipeline([('ss', StandardScaler()),\n",
    "                    ('pca', PCA(n_components=3)),\n",
    "                    ('clf', tree.DecisionTreeClassifier(random_state=1))])\n",
    "clf_pip.fit(X_train, Y_train)\n",
    "\n",
    "tree_score =  clf_pip.score(X_test, Y_test)\n",
    "\n",
    "print('CART\\'s accuracy score: ',tree_score)"
   ]
  },
  {
   "cell_type": "code",
   "execution_count": 24,
   "metadata": {},
   "outputs": [
    {
     "name": "stdout",
     "output_type": "stream",
     "text": [
      "KNN's accuracy score:  0.693327239488117\n"
     ]
    }
   ],
   "source": [
    "knn_pip = Pipeline([('ss', StandardScaler()),\n",
    "                    ('pca', PCA(n_components=3)),\n",
    "                    ('knn', KNeighborsClassifier(n_neighbors=5))])\n",
    "knn_pip.fit(X_train, Y_train)\n",
    "\n",
    "tree_score =  knn_pip.score(X_test, Y_test)\n",
    "\n",
    "print('KNN\\'s accuracy score: ',tree_score)"
   ]
  },
  {
   "cell_type": "markdown",
   "metadata": {},
   "source": [
    "##  I.8. Comparaison de plusieurs algorithmes d’apprentissage"
   ]
  },
  {
   "cell_type": "markdown",
   "metadata": {},
   "source": [
    "On compare plusieurs algorithmes de la classification dans le dictionaire `clfs`. Pour chaque classifieur, on d'abord calcul l'`Accuracy` moyen de `cross validation` avec `KFold(n_splits=10)`. Ensuite, on calcul la `Precision` moyen avec `KFold(n_splits=5)`. Enfin, on veut camparer l'`AUC` et le `temps execute` des algorithmes."
   ]
  },
  {
   "cell_type": "code",
   "execution_count": 25,
   "metadata": {},
   "outputs": [],
   "source": [
    "from sklearn.naive_bayes import BernoulliNB\n",
    "from sklearn.naive_bayes import GaussianNB\n",
    "from sklearn.neural_network import MLPClassifier\n",
    "from sklearn.ensemble import BaggingClassifier\n",
    "from sklearn.ensemble import AdaBoostClassifier\n",
    "from sklearn.ensemble import RandomForestClassifier\n",
    "from sklearn.model_selection import KFold\n",
    "from sklearn.model_selection import cross_val_score\n",
    "import time\n",
    "\n",
    "clfs = {\n",
    "    'BerNB': BernoulliNB(),\n",
    "    'GaussianNB': GaussianNB(),\n",
    "    'tree CART': tree.DecisionTreeClassifier(random_state=1),\n",
    "    'MLP':MLPClassifier(solver='lbfgs', alpha=1e-5,hidden_layer_sizes=(20, 10), random_state=1),\n",
    "    'KNN': KNeighborsClassifier(n_neighbors=5),\n",
    "    'Bagging': BaggingClassifier(n_estimators=50, random_state=1),\n",
    "    'AdaBoost': AdaBoostClassifier(n_estimators=50, random_state=1),\n",
    "    'RF': RandomForestClassifier(n_estimators=50, random_state=1),\n",
    "}\n"
   ]
  },
  {
   "cell_type": "markdown",
   "metadata": {},
   "source": [
    "On cree la fonction `run_classifiers(clfs, X, Y, auc=True)` qui recoit un dictionaire des algorithmes de classification `clfs`, un ensemble d'attributs `X` et un ensemble de label `Y`. Cette fonction retourne un dictionaire de type `{clf: {valeurs d'evaluation}}` pour l'`Accuracy`, la `Precision`, l'`AUC` et le `temps execute`. On calcul l'`AUC`, l'`Accuracy` en utilisant `kf1` (`KFold` avec `n_splits=10`) et la `Precision` avec `kf2` (`KFold` avec `n_splits=5`).\n",
    "\n",
    "On implemente encore une fonction `print_result(results, ls_index)` qui recois le resultat de `run_classifiers` et une liste des indices souhaitee (dans `Accuracy`, `Precision`, `AUC` et `Execution time`) pour imprimmer effectivement les valeurs d'evaluation."
   ]
  },
  {
   "cell_type": "code",
   "execution_count": 26,
   "metadata": {},
   "outputs": [],
   "source": [
    "def run_classifiers(clfs, X, Y):\n",
    "    kf1 = KFold(n_splits=10, shuffle=True, random_state=0)\n",
    "    kf2 = KFold(n_splits=5, shuffle=True, random_state=0)\n",
    "    result = {}\n",
    "\n",
    "    for i in clfs:\n",
    "        time_start = time.time()\n",
    "        clf = clfs[i]\n",
    "        \n",
    "        # calculer l'Accuracy par cross_val_score\n",
    "        cv_acc_1 = cross_val_score(clf, X, Y, cv=kf1)\n",
    "        \n",
    "        # calculer la Precision par cross_val_score\n",
    "        cv_acc_2 = cross_val_score(clf, X, Y, cv=kf2, scoring='precision')\n",
    "        \n",
    "        # Calculer l'AUC par cross validation\n",
    "        aucs = []\n",
    "        for train, test in kf1.split(X, Y):\n",
    "            probas_ = clf.fit(X[train], Y[train]).predict_proba(X[test])\n",
    "            fpr, tpr, thresholds = metrics.roc_curve(Y[test], probas_[:, 1])\n",
    "            roc_auc = metrics.auc(fpr, tpr)\n",
    "            aucs.append(roc_auc)\n",
    "        result.update({i: {'Accuracy': (np.mean(cv_acc_1), np.std(cv_acc_1)), \n",
    "                           'AUC': (np.mean(aucs), np.std(aucs)),\n",
    "                           'Precision': (np.mean(cv_acc_2), np.std(cv_acc_2)), \n",
    "                           'Execution time': (time.time() - time_start, 0.0)}\n",
    "                      })\n",
    "        \n",
    "    return result\n",
    "\n",
    "def print_results(results, ls_index):\n",
    "    for i in results.keys():\n",
    "        print('------------------------------------------------------------------------')\n",
    "        print(i)\n",
    "        print('------------------------------------------------------------------------')\n",
    "        for index in ls_index:\n",
    "            try:\n",
    "                print(\"{0}: {1:.3f} +/- {2:.3f}\".format(index, results[i][index][0], results[i][index][1]))\n",
    "            except:\n",
    "                print('<<< {0} >>> n\\'est pas dans liste: Accuracy, AUC, Precision, Execution time'.format(index))\n",
    "    #     print(\"AUC: {0:.3f} +/- {1:.3f}\".format(np.mean(aucs), np.std(aucs)))\n",
    "    #     print(\"Precision: {0:.3f} +/- {1:.3f}\".format(np.mean(cv_acc_2), np.std(cv_acc_2)))\n",
    "    #     print(\"Execution time: {0:.3f}s\".format(time.time() - time_start))\n",
    "        print('------------------------------------------------------------------------')\n"
   ]
  },
  {
   "cell_type": "markdown",
   "metadata": {},
   "source": [
    "D'apres le resultat obtenu, on peut voir que `AdaBoost` et `Random Forest` sont 2 les algorithmes ayant l'`Accuracy` les meilleurs, par contre, `Multi-layer Perceptron` a l'`Accuracy` le plus bas. \n",
    "\n",
    "A propos de la `Precision`, ces algorithmes effectuent le performance parreil.\n",
    "\n",
    "Alors que les algorithmes `BerNB`, `GaussianNB`, `Decision tree CART` et `KNN` executent pendant inferieur a une seconde, `MLP`, `Bagging`, `AdaBoost` et `Random forest` executent plus de temps (superieur a une seconde). Specialement, le `Bagging` effectue tres long (superieur a `10s`).\n",
    "\n",
    "En comparant l'`AUC` de ces algorithmes, on peut les diviser en 2 groupes. Le 1er groupe (`Gaussian NB`, `Bagging`, `AdaBoost` et `Random Forest`) a l'`AUC` meilleur que le 2e groupe (`Bernoulli NB`, `Decision Tree CART`, `MLP` et `KNN`)."
   ]
  },
  {
   "cell_type": "code",
   "execution_count": 27,
   "metadata": {
    "scrolled": true
   },
   "outputs": [
    {
     "name": "stdout",
     "output_type": "stream",
     "text": [
      "------------------------------------------------------------------------\n",
      "BerNB\n",
      "------------------------------------------------------------------------\n",
      "Accuracy: 0.750 +/- 0.017\n",
      "AUC: 0.706 +/- 0.025\n",
      "Precision: 0.787 +/- 0.013\n",
      "Execution time: 0.136 +/- 0.000\n",
      "------------------------------------------------------------------------\n",
      "------------------------------------------------------------------------\n",
      "GaussianNB\n",
      "------------------------------------------------------------------------\n",
      "Accuracy: 0.772 +/- 0.022\n",
      "AUC: 0.791 +/- 0.026\n",
      "Precision: 0.833 +/- 0.013\n",
      "Execution time: 0.078 +/- 0.000\n",
      "------------------------------------------------------------------------\n",
      "------------------------------------------------------------------------\n",
      "tree CART\n",
      "------------------------------------------------------------------------\n",
      "Accuracy: 0.727 +/- 0.025\n",
      "AUC: 0.656 +/- 0.032\n",
      "Precision: 0.804 +/- 0.011\n",
      "Execution time: 0.475 +/- 0.000\n",
      "------------------------------------------------------------------------\n",
      "------------------------------------------------------------------------\n",
      "MLP\n",
      "------------------------------------------------------------------------\n",
      "Accuracy: 0.495 +/- 0.157\n",
      "AUC: 0.609 +/- 0.069\n",
      "Precision: 0.826 +/- 0.178\n",
      "Execution time: 1.964 +/- 0.000\n",
      "------------------------------------------------------------------------\n",
      "------------------------------------------------------------------------\n",
      "KNN\n",
      "------------------------------------------------------------------------\n",
      "Accuracy: 0.715 +/- 0.017\n",
      "AUC: 0.662 +/- 0.027\n",
      "Precision: 0.766 +/- 0.009\n",
      "Execution time: 0.549 +/- 0.000\n",
      "------------------------------------------------------------------------\n",
      "------------------------------------------------------------------------\n",
      "Bagging\n",
      "------------------------------------------------------------------------\n",
      "Accuracy: 0.776 +/- 0.014\n",
      "AUC: 0.818 +/- 0.021\n",
      "Precision: 0.826 +/- 0.005\n",
      "Execution time: 15.135 +/- 0.000\n",
      "------------------------------------------------------------------------\n",
      "------------------------------------------------------------------------\n",
      "AdaBoost\n",
      "------------------------------------------------------------------------\n",
      "Accuracy: 0.788 +/- 0.016\n",
      "AUC: 0.829 +/- 0.021\n",
      "Precision: 0.823 +/- 0.012\n",
      "Execution time: 4.587 +/- 0.000\n",
      "------------------------------------------------------------------------\n",
      "------------------------------------------------------------------------\n",
      "RF\n",
      "------------------------------------------------------------------------\n",
      "Accuracy: 0.782 +/- 0.014\n",
      "AUC: 0.823 +/- 0.015\n",
      "Precision: 0.821 +/- 0.009\n",
      "Execution time: 7.214 +/- 0.000\n",
      "------------------------------------------------------------------------\n"
     ]
    }
   ],
   "source": [
    "results = run_classifiers(clfs, X, Y)\n",
    "print_results(results, ['Accuracy', 'AUC', 'Precision', 'Execution time'])"
   ]
  },
  {
   "cell_type": "markdown",
   "metadata": {},
   "source": [
    "# II. Apprentissage supervisé : Données hétérogènes"
   ]
  },
  {
   "cell_type": "markdown",
   "metadata": {},
   "source": [
    "## II.1. Considérer les caractéristiques continues (numériques) du jeu de données sans les données manquantes"
   ]
  },
  {
   "cell_type": "markdown",
   "metadata": {},
   "source": [
    "### Chargement des données et préparation"
   ]
  },
  {
   "cell_type": "markdown",
   "metadata": {},
   "source": [
    "D'abord, on charge le jeu de donnees `credit.data` avec la fonction `read_csv()` de `pandas`. Ce dataset n'a pas encore des noms pour les colonnes, on ajoute donc le nom pour chaque colonne d'apres le site https://archive.ics.uci.edu/ml/datasets/Credit+Approval."
   ]
  },
  {
   "cell_type": "code",
   "execution_count": 28,
   "metadata": {
    "scrolled": true
   },
   "outputs": [
    {
     "data": {
      "text/html": [
       "<div>\n",
       "<style scoped>\n",
       "    .dataframe tbody tr th:only-of-type {\n",
       "        vertical-align: middle;\n",
       "    }\n",
       "\n",
       "    .dataframe tbody tr th {\n",
       "        vertical-align: top;\n",
       "    }\n",
       "\n",
       "    .dataframe thead th {\n",
       "        text-align: right;\n",
       "    }\n",
       "</style>\n",
       "<table border=\"1\" class=\"dataframe\">\n",
       "  <thead>\n",
       "    <tr style=\"text-align: right;\">\n",
       "      <th></th>\n",
       "      <th>A1</th>\n",
       "      <th>A2</th>\n",
       "      <th>A3</th>\n",
       "      <th>A4</th>\n",
       "      <th>A5</th>\n",
       "      <th>A6</th>\n",
       "      <th>A7</th>\n",
       "      <th>A8</th>\n",
       "      <th>A9</th>\n",
       "      <th>A10</th>\n",
       "      <th>A11</th>\n",
       "      <th>A12</th>\n",
       "      <th>A13</th>\n",
       "      <th>A14</th>\n",
       "      <th>A15</th>\n",
       "      <th>A16</th>\n",
       "    </tr>\n",
       "  </thead>\n",
       "  <tbody>\n",
       "    <tr>\n",
       "      <td>0</td>\n",
       "      <td>b</td>\n",
       "      <td>30.83</td>\n",
       "      <td>0.000</td>\n",
       "      <td>u</td>\n",
       "      <td>g</td>\n",
       "      <td>w</td>\n",
       "      <td>v</td>\n",
       "      <td>1.25</td>\n",
       "      <td>t</td>\n",
       "      <td>t</td>\n",
       "      <td>1</td>\n",
       "      <td>f</td>\n",
       "      <td>g</td>\n",
       "      <td>202</td>\n",
       "      <td>0</td>\n",
       "      <td>+</td>\n",
       "    </tr>\n",
       "    <tr>\n",
       "      <td>1</td>\n",
       "      <td>a</td>\n",
       "      <td>58.67</td>\n",
       "      <td>4.460</td>\n",
       "      <td>u</td>\n",
       "      <td>g</td>\n",
       "      <td>q</td>\n",
       "      <td>h</td>\n",
       "      <td>3.04</td>\n",
       "      <td>t</td>\n",
       "      <td>t</td>\n",
       "      <td>6</td>\n",
       "      <td>f</td>\n",
       "      <td>g</td>\n",
       "      <td>43</td>\n",
       "      <td>560</td>\n",
       "      <td>+</td>\n",
       "    </tr>\n",
       "    <tr>\n",
       "      <td>2</td>\n",
       "      <td>a</td>\n",
       "      <td>24.50</td>\n",
       "      <td>0.500</td>\n",
       "      <td>u</td>\n",
       "      <td>g</td>\n",
       "      <td>q</td>\n",
       "      <td>h</td>\n",
       "      <td>1.50</td>\n",
       "      <td>t</td>\n",
       "      <td>f</td>\n",
       "      <td>0</td>\n",
       "      <td>f</td>\n",
       "      <td>g</td>\n",
       "      <td>280</td>\n",
       "      <td>824</td>\n",
       "      <td>+</td>\n",
       "    </tr>\n",
       "    <tr>\n",
       "      <td>3</td>\n",
       "      <td>b</td>\n",
       "      <td>27.83</td>\n",
       "      <td>1.540</td>\n",
       "      <td>u</td>\n",
       "      <td>g</td>\n",
       "      <td>w</td>\n",
       "      <td>v</td>\n",
       "      <td>3.75</td>\n",
       "      <td>t</td>\n",
       "      <td>t</td>\n",
       "      <td>5</td>\n",
       "      <td>t</td>\n",
       "      <td>g</td>\n",
       "      <td>100</td>\n",
       "      <td>3</td>\n",
       "      <td>+</td>\n",
       "    </tr>\n",
       "    <tr>\n",
       "      <td>4</td>\n",
       "      <td>b</td>\n",
       "      <td>20.17</td>\n",
       "      <td>5.625</td>\n",
       "      <td>u</td>\n",
       "      <td>g</td>\n",
       "      <td>w</td>\n",
       "      <td>v</td>\n",
       "      <td>1.71</td>\n",
       "      <td>t</td>\n",
       "      <td>f</td>\n",
       "      <td>0</td>\n",
       "      <td>f</td>\n",
       "      <td>s</td>\n",
       "      <td>120</td>\n",
       "      <td>0</td>\n",
       "      <td>+</td>\n",
       "    </tr>\n",
       "  </tbody>\n",
       "</table>\n",
       "</div>"
      ],
      "text/plain": [
       "  A1     A2     A3 A4 A5 A6 A7    A8 A9 A10  A11 A12 A13  A14  A15 A16\n",
       "0  b  30.83  0.000  u  g  w  v  1.25  t   t    1   f   g  202    0   +\n",
       "1  a  58.67  4.460  u  g  q  h  3.04  t   t    6   f   g   43  560   +\n",
       "2  a  24.50  0.500  u  g  q  h  1.50  t   f    0   f   g  280  824   +\n",
       "3  b  27.83  1.540  u  g  w  v  3.75  t   t    5   t   g  100    3   +\n",
       "4  b  20.17  5.625  u  g  w  v  1.71  t   f    0   f   s  120    0   +"
      ]
     },
     "execution_count": 28,
     "metadata": {},
     "output_type": "execute_result"
    }
   ],
   "source": [
    "header = ['A'+str(i) for i in range(1,17)]\n",
    "df = pd.read_csv('./credit.data', sep='\\t', names=header)\n",
    "\n",
    "df.head(5)"
   ]
  },
  {
   "cell_type": "markdown",
   "metadata": {},
   "source": [
    "Ensuite, on remplace la valeur `?` par `np.nan` dans pandas dataframe `df` (fonction `replace()`), change le type des colonnes numeriques de `String` a `int/float` par appliquer la fonction `to_numeric()` a chaque ligne dans `df`, supprime les lignes contenant la valeur `nan` (fonction `dropna()`) et consulte la taille de l'echantillon (`shape`), le nombre d'exemples positifs/negatifs (fonction `hist()`)."
   ]
  },
  {
   "cell_type": "code",
   "execution_count": 29,
   "metadata": {},
   "outputs": [
    {
     "name": "stdout",
     "output_type": "stream",
     "text": [
      "(653, 16)\n"
     ]
    },
    {
     "data": {
      "text/plain": [
       "array([[<matplotlib.axes._subplots.AxesSubplot object at 0x7fb56431ff90>,\n",
       "        <matplotlib.axes._subplots.AxesSubplot object at 0x7fb56436f350>],\n",
       "       [<matplotlib.axes._subplots.AxesSubplot object at 0x7fb561459d10>,\n",
       "        <matplotlib.axes._subplots.AxesSubplot object at 0x7fb563f6e9d0>],\n",
       "       [<matplotlib.axes._subplots.AxesSubplot object at 0x7fb56141bd50>,\n",
       "        <matplotlib.axes._subplots.AxesSubplot object at 0x7fb561439a10>]],\n",
       "      dtype=object)"
      ]
     },
     "execution_count": 29,
     "metadata": {},
     "output_type": "execute_result"
    },
    {
     "data": {
      "image/png": "[encoded data removed]",
      "text/plain": [
       "<Figure size 720x720 with 6 Axes>"
      ]
     },
     "metadata": {
      "needs_background": "light"
     },
     "output_type": "display_data"
    }
   ],
   "source": [
    "df_with_nan = df.replace('?', np.nan)\n",
    "df_num = df_with_nan.apply(lambda r: pd.to_numeric(r, errors='ignore'))\n",
    "df_drop_nan = df_num.dropna()\n",
    "print(df_drop_nan.shape)\n",
    "df_drop_nan.hist(bins = 2, figsize=(10,10))"
   ]
  },
  {
   "cell_type": "markdown",
   "metadata": {},
   "source": [
    "Maintenant, on change le jeu de donnees en type `np.array` (`df.values`) et divise ce dataset en 2 tableaux: tableau des variables caracteristiques `X` et tableau de la variable a predire `Y`."
   ]
  },
  {
   "cell_type": "code",
   "execution_count": 30,
   "metadata": {},
   "outputs": [
    {
     "name": "stdout",
     "output_type": "stream",
     "text": [
      "X's type:  <class 'numpy.ndarray'>\n",
      "Y's type:  <class 'numpy.ndarray'>\n",
      "X's shape:  (653, 15)\n",
      "Y's shape:  (653,)\n"
     ]
    }
   ],
   "source": [
    "data = df_drop_nan.values\n",
    "X = data[:, 0:15]\n",
    "Y = data[:, 15]\n",
    "print('X\\'s type: ',type(X))\n",
    "print('Y\\'s type: ',type(Y))\n",
    "print('X\\'s shape: ',X.shape)\n",
    "print('Y\\'s shape: ',Y.shape)"
   ]
  },
  {
   "cell_type": "markdown",
   "metadata": {},
   "source": [
    "Dans cette partie, on considere seulement les caracteristiques continues. Ainsi, on juste garde les colonnes numeriques dans `X`. Pour le faire, On definit l'indice de ces colonnes dans la tableau `num_index` et supprime les colonnes avec l'indice ne pas ayant dans cette tableau. La nouvelle tableau `X_num` contient les variables numeriques de `X`. On change le type de la tableau a `float` avec la fonction `astype()`."
   ]
  },
  {
   "cell_type": "code",
   "execution_count": 31,
   "metadata": {},
   "outputs": [
    {
     "name": "stdout",
     "output_type": "stream",
     "text": [
      "float64\n"
     ]
    },
    {
     "data": {
      "text/plain": [
       "(653, 6)"
      ]
     },
     "execution_count": 31,
     "metadata": {},
     "output_type": "execute_result"
    }
   ],
   "source": [
    "num_index = [1,2,7,10,13,14]\n",
    "X_num = X[:,num_index]\n",
    "X_num = X_num.astype(float)\n",
    "print(X_num.dtype)\n",
    "X_num.shape"
   ]
  },
  {
   "cell_type": "markdown",
   "metadata": {},
   "source": [
    "Tableau Y maintenant contient un ensemble des valeur `+` et `-`. On a besoin de transformer ces valeurs au type numerique pour appliquer les algorithmes de classification de `sklearn`. Ainsi, on remplace le `+` par `1`, le `-` par `0` et convertit le type de la tableau de `String ` a `float`."
   ]
  },
  {
   "cell_type": "code",
   "execution_count": 32,
   "metadata": {},
   "outputs": [
    {
     "data": {
      "text/plain": [
       "array([1., 1., 1., 1., 1., 1., 1., 1., 1., 1., 1., 1., 1., 1., 1., 1., 1.,\n",
       "       1., 1., 1., 1., 1., 1., 1., 1., 1., 1., 1., 1., 1., 1., 1., 1., 1.,\n",
       "       1., 1., 1., 1., 1., 1., 1., 1., 1., 1., 1., 1., 1., 1., 1., 1., 1.,\n",
       "       1., 1., 1., 1., 1., 1., 1., 1., 1., 1., 1., 1., 1., 1., 1., 1., 1.,\n",
       "       1., 1., 0., 0., 0., 0., 0., 0., 0., 0., 0., 0., 0., 0., 0., 0., 0.,\n",
       "       0., 0., 0., 0., 0., 0., 0., 0., 0., 0., 0., 0., 0., 0., 0., 0., 0.,\n",
       "       0., 0., 0., 0., 0., 0., 0., 0., 0., 0., 1., 1., 1., 1., 1., 1., 1.,\n",
       "       1., 1., 1., 1., 1., 1., 1., 1., 1., 1., 1., 1., 1., 1., 1., 1., 1.,\n",
       "       1., 1., 1., 1., 1., 1., 1., 1., 1., 1., 1., 1., 1., 1., 1., 1., 1.,\n",
       "       1., 1., 1., 1., 1., 1., 1., 1., 1., 1., 1., 1., 1., 1., 1., 1., 1.,\n",
       "       1., 1., 1., 1., 1., 1., 1., 1., 1., 1., 1., 1., 1., 1., 1., 1., 1.,\n",
       "       1., 1., 1., 1., 1., 1., 1., 1., 1., 1., 1., 1., 1., 1., 1., 1., 1.,\n",
       "       1., 1., 1., 1., 1., 1., 1., 1., 1., 1., 1., 1., 1., 1., 1., 1., 1.,\n",
       "       1., 1., 1., 1., 1., 1., 1., 1., 1., 1., 1., 1., 1., 1., 1., 1., 1.,\n",
       "       1., 1., 1., 1., 1., 1., 1., 0., 0., 0., 0., 0., 0., 0., 0., 0., 0.,\n",
       "       0., 0., 0., 1., 1., 0., 0., 0., 0., 0., 0., 0., 0., 0., 0., 0., 0.,\n",
       "       0., 0., 0., 0., 0., 0., 0., 0., 0., 0., 0., 0., 0., 0., 0., 0., 0.,\n",
       "       0., 0., 0., 0., 0., 0., 0., 0., 0., 0., 0., 0., 0., 0., 0., 1., 1.,\n",
       "       1., 1., 1., 1., 1., 0., 0., 0., 0., 0., 0., 0., 0., 0., 0., 0., 0.,\n",
       "       0., 0., 0., 0., 0., 0., 0., 0., 0., 0., 0., 0., 0., 0., 0., 0., 0.,\n",
       "       0., 0., 0., 0., 0., 0., 0., 0., 0., 0., 0., 0., 0., 0., 0., 0., 0.,\n",
       "       0., 0., 0., 0., 0., 0., 0., 0., 0., 0., 0., 0., 0., 0., 0., 0., 0.,\n",
       "       0., 0., 0., 0., 0., 0., 0., 0., 0., 0., 0., 0., 0., 0., 0., 0., 0.,\n",
       "       0., 0., 0., 0., 0., 0., 0., 0., 0., 0., 0., 0., 0., 0., 0., 0., 0.,\n",
       "       0., 0., 0., 0., 0., 0., 0., 0., 0., 0., 0., 0., 0., 0., 0., 0., 0.,\n",
       "       0., 0., 0., 0., 0., 0., 0., 0., 0., 0., 0., 0., 0., 0., 0., 0., 0.,\n",
       "       0., 0., 0., 0., 0., 0., 0., 0., 0., 0., 0., 0., 0., 0., 0., 0., 0.,\n",
       "       0., 0., 0., 0., 0., 0., 1., 1., 1., 1., 1., 1., 1., 1., 1., 1., 1.,\n",
       "       1., 1., 1., 1., 1., 1., 1., 1., 1., 1., 1., 1., 1., 1., 1., 1., 1.,\n",
       "       1., 1., 0., 0., 0., 0., 0., 0., 0., 0., 0., 0., 0., 0., 0., 0., 0.,\n",
       "       0., 0., 0., 0., 0., 0., 0., 0., 1., 1., 1., 1., 1., 1., 1., 1., 1.,\n",
       "       1., 1., 1., 1., 1., 1., 1., 1., 1., 1., 1., 1., 1., 1., 1., 1., 1.,\n",
       "       1., 1., 1., 1., 1., 1., 1., 1., 1., 1., 1., 1., 1., 1., 1., 1., 1.,\n",
       "       1., 1., 1., 1., 1., 1., 1., 1., 1., 0., 0., 0., 0., 1., 0., 0., 0.,\n",
       "       0., 0., 0., 0., 0., 0., 0., 0., 0., 0., 1., 0., 0., 0., 0., 0., 0.,\n",
       "       0., 0., 0., 0., 0., 0., 0., 0., 0., 0., 0., 0., 0., 0., 0., 0., 0.,\n",
       "       0., 0., 0., 0., 0., 0., 0., 0., 0., 0., 0., 0., 0., 0., 0., 0., 0.,\n",
       "       0., 0., 0., 0., 0., 0., 0., 0., 0., 0., 0., 0., 0., 0., 0., 0., 0.,\n",
       "       0., 0., 0., 0., 0., 0., 0.])"
      ]
     },
     "execution_count": 32,
     "metadata": {},
     "output_type": "execute_result"
    }
   ],
   "source": [
    "Y[Y == '+'] = 1\n",
    "Y[Y == '-'] = 0\n",
    "Y = Y.astype(float)\n",
    "Y"
   ]
  },
  {
   "cell_type": "markdown",
   "metadata": {},
   "source": [
    "Apres du pre-traitement du jeu de donnees, on marche la fonction `run_classifiers()` avec `X_num` et `Y` pour compare le performance des algorithmes. D'apres l'`AUC`, on peut voir que dans ce cas, `Random Forest` est le meilleur et `MLP` est le mauvais. "
   ]
  },
  {
   "cell_type": "code",
   "execution_count": 33,
   "metadata": {},
   "outputs": [
    {
     "name": "stdout",
     "output_type": "stream",
     "text": [
      "------------------------------------------------------------------------\n",
      "BerNB\n",
      "------------------------------------------------------------------------\n",
      "AUC: 0.747 +/- 0.069\n",
      "------------------------------------------------------------------------\n",
      "------------------------------------------------------------------------\n",
      "GaussianNB\n",
      "------------------------------------------------------------------------\n",
      "AUC: 0.798 +/- 0.054\n",
      "------------------------------------------------------------------------\n",
      "------------------------------------------------------------------------\n",
      "tree CART\n",
      "------------------------------------------------------------------------\n",
      "AUC: 0.733 +/- 0.047\n",
      "------------------------------------------------------------------------\n",
      "------------------------------------------------------------------------\n",
      "MLP\n",
      "------------------------------------------------------------------------\n",
      "AUC: 0.509 +/- 0.167\n",
      "------------------------------------------------------------------------\n",
      "------------------------------------------------------------------------\n",
      "KNN\n",
      "------------------------------------------------------------------------\n",
      "AUC: 0.726 +/- 0.063\n",
      "------------------------------------------------------------------------\n",
      "------------------------------------------------------------------------\n",
      "Bagging\n",
      "------------------------------------------------------------------------\n",
      "AUC: 0.822 +/- 0.050\n",
      "------------------------------------------------------------------------\n",
      "------------------------------------------------------------------------\n",
      "AdaBoost\n",
      "------------------------------------------------------------------------\n",
      "AUC: 0.840 +/- 0.048\n",
      "------------------------------------------------------------------------\n",
      "------------------------------------------------------------------------\n",
      "RF\n",
      "------------------------------------------------------------------------\n",
      "AUC: 0.844 +/- 0.040\n",
      "------------------------------------------------------------------------\n"
     ]
    }
   ],
   "source": [
    "results_num = run_classifiers(clfs, X_num, Y)\n",
    "print_results(results_num, ['AUC'])"
   ]
  },
  {
   "cell_type": "markdown",
   "metadata": {},
   "source": [
    "### Normalisation des variables continues"
   ]
  },
  {
   "cell_type": "markdown",
   "metadata": {},
   "source": [
    "Avant de marcher la fonction `run_classifiers()`, on normalise la tableau X avec `StandardScaler` et `MinMaxScaler` de `sklearn`."
   ]
  },
  {
   "cell_type": "code",
   "execution_count": 34,
   "metadata": {},
   "outputs": [],
   "source": [
    "ss = StandardScaler()\n",
    "mm = MinMaxScaler()\n",
    "Xss = ss.fit_transform(X_num)\n",
    "Xmm = mm.fit_transform(X_num)"
   ]
  },
  {
   "cell_type": "markdown",
   "metadata": {},
   "source": [
    "Apres de la normalisation par `StandardScaler`, les classificateurs donnent un meilleur performance. Specialement, l'`AUC` de `MLP` ameliore fortement."
   ]
  },
  {
   "cell_type": "code",
   "execution_count": 35,
   "metadata": {
    "scrolled": true
   },
   "outputs": [
    {
     "name": "stdout",
     "output_type": "stream",
     "text": [
      "------------------------------------------------------------------------\n",
      "BerNB\n",
      "------------------------------------------------------------------------\n",
      "AUC: 0.804 +/- 0.048\n",
      "------------------------------------------------------------------------\n",
      "------------------------------------------------------------------------\n",
      "GaussianNB\n",
      "------------------------------------------------------------------------\n",
      "AUC: 0.798 +/- 0.054\n",
      "------------------------------------------------------------------------\n",
      "------------------------------------------------------------------------\n",
      "tree CART\n",
      "------------------------------------------------------------------------\n",
      "AUC: 0.736 +/- 0.046\n",
      "------------------------------------------------------------------------\n",
      "------------------------------------------------------------------------\n",
      "MLP\n",
      "------------------------------------------------------------------------\n",
      "AUC: 0.767 +/- 0.056\n",
      "------------------------------------------------------------------------\n",
      "------------------------------------------------------------------------\n",
      "KNN\n",
      "------------------------------------------------------------------------\n",
      "AUC: 0.810 +/- 0.054\n",
      "------------------------------------------------------------------------\n",
      "------------------------------------------------------------------------\n",
      "Bagging\n",
      "------------------------------------------------------------------------\n",
      "AUC: 0.823 +/- 0.049\n",
      "------------------------------------------------------------------------\n",
      "------------------------------------------------------------------------\n",
      "AdaBoost\n",
      "------------------------------------------------------------------------\n",
      "AUC: 0.840 +/- 0.048\n",
      "------------------------------------------------------------------------\n",
      "------------------------------------------------------------------------\n",
      "RF\n",
      "------------------------------------------------------------------------\n",
      "AUC: 0.845 +/- 0.040\n",
      "------------------------------------------------------------------------\n"
     ]
    }
   ],
   "source": [
    "results_ss = run_classifiers(clfs, Xss, Y)\n",
    "print_results(results_ss, ['AUC'])"
   ]
  },
  {
   "cell_type": "markdown",
   "metadata": {},
   "source": [
    "La normalisation de `MinMaxScaler` donne un resultat parreil que le `StandardScaler`."
   ]
  },
  {
   "cell_type": "code",
   "execution_count": 36,
   "metadata": {
    "scrolled": true
   },
   "outputs": [
    {
     "name": "stdout",
     "output_type": "stream",
     "text": [
      "------------------------------------------------------------------------\n",
      "BerNB\n",
      "------------------------------------------------------------------------\n",
      "AUC: 0.747 +/- 0.069\n",
      "------------------------------------------------------------------------\n",
      "------------------------------------------------------------------------\n",
      "GaussianNB\n",
      "------------------------------------------------------------------------\n",
      "AUC: 0.798 +/- 0.054\n",
      "------------------------------------------------------------------------\n",
      "------------------------------------------------------------------------\n",
      "tree CART\n",
      "------------------------------------------------------------------------\n",
      "AUC: 0.734 +/- 0.048\n",
      "------------------------------------------------------------------------\n",
      "------------------------------------------------------------------------\n",
      "MLP\n",
      "------------------------------------------------------------------------\n",
      "AUC: 0.822 +/- 0.048\n",
      "------------------------------------------------------------------------\n",
      "------------------------------------------------------------------------\n",
      "KNN\n",
      "------------------------------------------------------------------------\n",
      "AUC: 0.785 +/- 0.046\n",
      "------------------------------------------------------------------------\n",
      "------------------------------------------------------------------------\n",
      "Bagging\n",
      "------------------------------------------------------------------------\n",
      "AUC: 0.823 +/- 0.049\n",
      "------------------------------------------------------------------------\n",
      "------------------------------------------------------------------------\n",
      "AdaBoost\n",
      "------------------------------------------------------------------------\n",
      "AUC: 0.841 +/- 0.047\n",
      "------------------------------------------------------------------------\n",
      "------------------------------------------------------------------------\n",
      "RF\n",
      "------------------------------------------------------------------------\n",
      "AUC: 0.844 +/- 0.039\n",
      "------------------------------------------------------------------------\n"
     ]
    }
   ],
   "source": [
    "results_mm = run_classifiers(clfs, Xmm, Y)\n",
    "print_results(results_mm, ['AUC'])"
   ]
  },
  {
   "cell_type": "markdown",
   "metadata": {},
   "source": [
    "## II.2. Considérer la totalité de la base originale"
   ]
  },
  {
   "cell_type": "markdown",
   "metadata": {},
   "source": [
    "### Traitement de données manquantes "
   ]
  },
  {
   "cell_type": "markdown",
   "metadata": {},
   "source": [
    "D'abord, on transform le jeu de donnees a type de `np.array` et divise les caracteristiques variable / la variable a predire,dans 2 tableaux `X` et `Y`."
   ]
  },
  {
   "cell_type": "code",
   "execution_count": 37,
   "metadata": {},
   "outputs": [],
   "source": [
    "data = df.values\n",
    "X = data[:, 0:15]\n",
    "Y = data[:, 15]"
   ]
  },
  {
   "cell_type": "markdown",
   "metadata": {},
   "source": [
    "Dans la tableau `X`, on obtient la position des colonnes numeriques et categorielles (tableau `col_num` et `col_cat`). Puis, on divise le `X` en 2 tableaux `X_cat` contenant les colonnes categorielles et `X_num` qui contient les colonnes numeriques. Dans `X_cat`, il y a des valeurs de types `String`, on doit changer ces valeur a `float` (par assigner un indice par chaque valeur) pour pouvoir appliquer les fonctions de classification. Enfin, on utilise la fonction `Imputer()` de `sklearn` afin de remplacer les valeurs manquantes (par la valeur le plus frequente pour `X_cat` et la valeur moyenne pour `X_num`)."
   ]
  },
  {
   "cell_type": "code",
   "execution_count": 38,
   "metadata": {},
   "outputs": [
    {
     "name": "stdout",
     "output_type": "stream",
     "text": [
      "(688, 9)\n",
      "(688, 6)\n"
     ]
    }
   ],
   "source": [
    "from sklearn.preprocessing import Imputer\n",
    "\n",
    "col_num = [1,2,7,10,13,14]\n",
    "col_cat = [0,3,4,5,6,8,9,11,12]\n",
    "\n",
    "X_cat = np.copy(X[:, col_cat])\n",
    "for col_id in range(len(col_cat)):\n",
    "    unique_val, val_idx = np.unique(X_cat[:, col_id], return_inverse=True)\n",
    "    X_cat[:, col_id] = val_idx\n",
    "    \n",
    "imp_cat = Imputer(missing_values=0, strategy='most_frequent')\n",
    "X_cat[:, range(5)] = imp_cat.fit_transform(X_cat[:, range(5)])\n",
    "\n",
    "print(X_cat.shape)\n",
    "\n",
    "X_num = np.copy(X[:, col_num])\n",
    "X_num[X_num == '?'] = np.nan\n",
    "X_num = X_num.astype(float)\n",
    "imp_num = Imputer(missing_values=np.nan, strategy='mean')\n",
    "X_num = imp_num.fit_transform(X_num)\n",
    "\n",
    "print(X_num.shape)"
   ]
  },
  {
   "cell_type": "markdown",
   "metadata": {},
   "source": [
    "### Traitement de variables catégorielles "
   ]
  },
  {
   "cell_type": "markdown",
   "metadata": {},
   "source": [
    "Pour pouvoir utiliser les variables categorielles dans les algorithmes d’apprentissage supervise de la fonction `run_classifiers`, une solution consiste a transformer chaque variable categorielle avec `m` modalites en `m` variables binaires dont une seule sera active. Pour cela utiliser le module `OneHotEncoder` de `sklearn` pour encoder les 9 variables categorielles du jeu de donnees."
   ]
  },
  {
   "cell_type": "code",
   "execution_count": 39,
   "metadata": {},
   "outputs": [
    {
     "data": {
      "text/plain": [
       "(688, 40)"
      ]
     },
     "execution_count": 39,
     "metadata": {},
     "output_type": "execute_result"
    }
   ],
   "source": [
    "from sklearn.preprocessing import OneHotEncoder\n",
    "\n",
    "X_cat_bin = OneHotEncoder().fit_transform(X_cat).toarray()\n",
    "X_cat_bin.shape"
   ]
  },
  {
   "cell_type": "markdown",
   "metadata": {},
   "source": [
    "### Construction du jeu de données"
   ]
  },
  {
   "cell_type": "markdown",
   "metadata": {},
   "source": [
    "On finit l'etape de pre-traitement de donnees par combiner 2 tableaux `X_num` (apres d'etre normalise) et `X_cat` (apres d'etre applique `OneHotEncoder`) a la tableau `X_final`. A props de la tableau `Y`, on change aussi son type a `float` et ses valeurs (`+`, `-`) a (`1`, `0`)."
   ]
  },
  {
   "cell_type": "code",
   "execution_count": 40,
   "metadata": {
    "scrolled": true
   },
   "outputs": [
    {
     "name": "stdout",
     "output_type": "stream",
     "text": [
      "(688, 46)\n",
      "float64\n"
     ]
    }
   ],
   "source": [
    "ss = StandardScaler()\n",
    "\n",
    "Xss_num = ss.fit_transform(X_num)\n",
    "\n",
    "X_final = np.append(X_cat_bin, Xss_num, axis=1)\n",
    "\n",
    "Y[Y == '+'] = 1\n",
    "Y[Y == '-'] = 0\n",
    "Y = Y.astype(float)\n",
    "\n",
    "print(X_final.shape)\n",
    "print(Y.dtype)"
   ]
  },
  {
   "cell_type": "markdown",
   "metadata": {},
   "source": [
    "Enfin, on marche la fonction `run_classifiers()` avec les tableaux pre-traite `X_final` et `Y`. En comparant avec le resultat de la partie `II.1`, on peut voir que l'`AUC` de tous les algorithmes augmentent fortement."
   ]
  },
  {
   "cell_type": "code",
   "execution_count": 41,
   "metadata": {},
   "outputs": [
    {
     "name": "stdout",
     "output_type": "stream",
     "text": [
      "------------------------------------------------------------------------\n",
      "BerNB\n",
      "------------------------------------------------------------------------\n",
      "AUC: 0.923 +/- 0.033\n",
      "------------------------------------------------------------------------\n",
      "------------------------------------------------------------------------\n",
      "GaussianNB\n",
      "------------------------------------------------------------------------\n",
      "AUC: 0.878 +/- 0.044\n",
      "------------------------------------------------------------------------\n",
      "------------------------------------------------------------------------\n",
      "tree CART\n",
      "------------------------------------------------------------------------\n",
      "AUC: 0.832 +/- 0.039\n",
      "------------------------------------------------------------------------\n",
      "------------------------------------------------------------------------\n",
      "MLP\n",
      "------------------------------------------------------------------------\n",
      "AUC: 0.866 +/- 0.042\n",
      "------------------------------------------------------------------------\n",
      "------------------------------------------------------------------------\n",
      "KNN\n",
      "------------------------------------------------------------------------\n",
      "AUC: 0.900 +/- 0.037\n",
      "------------------------------------------------------------------------\n",
      "------------------------------------------------------------------------\n",
      "Bagging\n",
      "------------------------------------------------------------------------\n",
      "AUC: 0.929 +/- 0.023\n",
      "------------------------------------------------------------------------\n",
      "------------------------------------------------------------------------\n",
      "AdaBoost\n",
      "------------------------------------------------------------------------\n",
      "AUC: 0.916 +/- 0.032\n",
      "------------------------------------------------------------------------\n",
      "------------------------------------------------------------------------\n",
      "RF\n",
      "------------------------------------------------------------------------\n",
      "AUC: 0.929 +/- 0.023\n",
      "------------------------------------------------------------------------\n"
     ]
    }
   ],
   "source": [
    "results = run_classifiers(clfs, X_final, Y)\n",
    "print_results(results, ['AUC'])"
   ]
  },
  {
   "cell_type": "markdown",
   "metadata": {},
   "source": [
    "# III. Apprentissage supervisé sur des données textuelles : Feature engineering et Classification"
   ]
  },
  {
   "cell_type": "markdown",
   "metadata": {},
   "source": [
    "## III.0. Chargement des données et préparation"
   ]
  },
  {
   "cell_type": "markdown",
   "metadata": {},
   "source": [
    "On charge premierement le jeu de donnees `SMSSpamCollection.data` et le consulte sa taille (`shape`) et son type de donees (`dtypes`). On affiche aussi ses 5 de premieres lignes. "
   ]
  },
  {
   "cell_type": "code",
   "execution_count": 42,
   "metadata": {},
   "outputs": [
    {
     "name": "stdout",
     "output_type": "stream",
     "text": [
      "(5572, 2)\n",
      "0    object\n",
      "1    object\n",
      "dtype: object\n"
     ]
    },
    {
     "data": {
      "text/html": [
       "<div>\n",
       "<style scoped>\n",
       "    .dataframe tbody tr th:only-of-type {\n",
       "        vertical-align: middle;\n",
       "    }\n",
       "\n",
       "    .dataframe tbody tr th {\n",
       "        vertical-align: top;\n",
       "    }\n",
       "\n",
       "    .dataframe thead th {\n",
       "        text-align: right;\n",
       "    }\n",
       "</style>\n",
       "<table border=\"1\" class=\"dataframe\">\n",
       "  <thead>\n",
       "    <tr style=\"text-align: right;\">\n",
       "      <th></th>\n",
       "      <th>0</th>\n",
       "      <th>1</th>\n",
       "    </tr>\n",
       "  </thead>\n",
       "  <tbody>\n",
       "    <tr>\n",
       "      <td>0</td>\n",
       "      <td>ham</td>\n",
       "      <td>Go until jurong point, crazy.. Available only ...</td>\n",
       "    </tr>\n",
       "    <tr>\n",
       "      <td>1</td>\n",
       "      <td>ham</td>\n",
       "      <td>Ok lar... Joking wif u oni...</td>\n",
       "    </tr>\n",
       "    <tr>\n",
       "      <td>2</td>\n",
       "      <td>spam</td>\n",
       "      <td>Free entry in 2 a wkly comp to win FA Cup fina...</td>\n",
       "    </tr>\n",
       "    <tr>\n",
       "      <td>3</td>\n",
       "      <td>ham</td>\n",
       "      <td>U dun say so early hor... U c already then say...</td>\n",
       "    </tr>\n",
       "    <tr>\n",
       "      <td>4</td>\n",
       "      <td>ham</td>\n",
       "      <td>Nah I don't think he goes to usf, he lives aro...</td>\n",
       "    </tr>\n",
       "  </tbody>\n",
       "</table>\n",
       "</div>"
      ],
      "text/plain": [
       "      0                                                  1\n",
       "0   ham  Go until jurong point, crazy.. Available only ...\n",
       "1   ham                      Ok lar... Joking wif u oni...\n",
       "2  spam  Free entry in 2 a wkly comp to win FA Cup fina...\n",
       "3   ham  U dun say so early hor... U c already then say...\n",
       "4   ham  Nah I don't think he goes to usf, he lives aro..."
      ]
     },
     "execution_count": 42,
     "metadata": {},
     "output_type": "execute_result"
    }
   ],
   "source": [
    "df = df = pd.read_csv('./SMSSpamCollection.data', sep='\\t', header = None)\n",
    "\n",
    "print(df.shape)\n",
    "print(df.dtypes)\n",
    "df.head(5)"
   ]
  },
  {
   "cell_type": "markdown",
   "metadata": {},
   "source": [
    "Deuxiemment, on transforme le type du dataset a `np.array`, le divise a 2 tableaux `X`, `Y` et convertit le type de tableau `Y`, change les valeurs (`ham`, `spam`) dans `Y` a (`0`,`1`)."
   ]
  },
  {
   "cell_type": "code",
   "execution_count": 43,
   "metadata": {},
   "outputs": [],
   "source": [
    "data = df.values\n",
    "\n",
    "Y = data[:, 0]\n",
    "Y[Y == 'ham'] = 0\n",
    "Y[Y == 'spam'] = 1\n",
    "Y = Y.astype(float)\n",
    "\n",
    "X = data[:,1]"
   ]
  },
  {
   "cell_type": "markdown",
   "metadata": {},
   "source": [
    "Comme le temps d'execution de NLP est tres long, on supprimme quelques algorithmes dans `clfs` (partie `I.8`) pour economiser le temps. Debut cette partie, on utilise le `clfs_2` au lieu du `clfs` afin de consulter la performance des methode d'traitement de donnees."
   ]
  },
  {
   "cell_type": "code",
   "execution_count": 44,
   "metadata": {},
   "outputs": [],
   "source": [
    "clfs_2 = {\n",
    "    'BerNB': BernoulliNB(),\n",
    "    'GaussianNB': GaussianNB(),\n",
    "#     'KNN': KNeighborsClassifier(n_neighbors=5),\n",
    "    'RF': RandomForestClassifier(n_estimators=50, random_state=1)\n",
    "}\n"
   ]
  },
  {
   "cell_type": "markdown",
   "metadata": {},
   "source": [
    "## III.1. CountVectorizer"
   ]
  },
  {
   "cell_type": "markdown",
   "metadata": {},
   "source": [
    "On utilise `CountVectorizer()` de `sklearn` afin de splitter chaque texte en differents mots cles (termes), supprimer les mots cles vides et calculer la matrice de co-occurences. On transforme le `X` pour obtenir le `XcountVec`."
   ]
  },
  {
   "cell_type": "code",
   "execution_count": 45,
   "metadata": {},
   "outputs": [
    {
     "data": {
      "text/plain": [
       "array([[0, 0, 0, ..., 0, 0, 0],\n",
       "       [0, 0, 0, ..., 0, 0, 0],\n",
       "       [0, 0, 0, ..., 0, 0, 0],\n",
       "       ...,\n",
       "       [0, 0, 0, ..., 0, 0, 0],\n",
       "       [0, 0, 0, ..., 0, 0, 0],\n",
       "       [0, 0, 0, ..., 0, 0, 0]])"
      ]
     },
     "execution_count": 45,
     "metadata": {},
     "output_type": "execute_result"
    }
   ],
   "source": [
    "from sklearn.feature_extraction.text import CountVectorizer\n",
    "\n",
    "vectorizer = CountVectorizer()\n",
    "XcountVec = vectorizer.fit_transform(X).toarray()\n",
    "XcountVec"
   ]
  },
  {
   "cell_type": "markdown",
   "metadata": {},
   "source": [
    "En utilisant la tableau `XcountVec`, on marche la fonction `run_classifiers()` et consulte le resultat par les indices l`Accuracy`, l'`AUC` la `Precision` et le `temps d'execution`. On peut voir que tous les algorithmes donnent des bons resultats (sauf `GaussianNB` avec la `Precision` bas). "
   ]
  },
  {
   "cell_type": "code",
   "execution_count": 46,
   "metadata": {},
   "outputs": [
    {
     "name": "stdout",
     "output_type": "stream",
     "text": [
      "------------------------------------------------------------------------\n",
      "BerNB\n",
      "------------------------------------------------------------------------\n",
      "Accuracy: 0.982 +/- 0.002\n",
      "AUC: 0.995 +/- 0.003\n",
      "Precision: 0.981 +/- 0.012\n",
      "Execution time: 14.335 +/- 0.000\n",
      "------------------------------------------------------------------------\n",
      "------------------------------------------------------------------------\n",
      "GaussianNB\n",
      "------------------------------------------------------------------------\n",
      "Accuracy: 0.900 +/- 0.016\n",
      "AUC: 0.906 +/- 0.015\n",
      "Precision: 0.578 +/- 0.039\n",
      "Execution time: 23.687 +/- 0.000\n",
      "------------------------------------------------------------------------\n",
      "------------------------------------------------------------------------\n",
      "RF\n",
      "------------------------------------------------------------------------\n",
      "Accuracy: 0.977 +/- 0.006\n",
      "AUC: 0.993 +/- 0.005\n",
      "Precision: 0.999 +/- 0.003\n",
      "Execution time: 275.247 +/- 0.000\n",
      "------------------------------------------------------------------------\n"
     ]
    }
   ],
   "source": [
    "results = run_classifiers(clfs_2, XcountVec, Y)\n",
    "print_results(results, ['Accuracy', 'AUC', 'Precision', 'Execution time'])"
   ]
  },
  {
   "cell_type": "markdown",
   "metadata": {},
   "source": [
    "## III.2. Tf–idf term weighting"
   ]
  },
  {
   "cell_type": "markdown",
   "metadata": {},
   "source": [
    "On applique le `Tf-idf term weighting` comme une mesure statistique utilisee pour la normalisation et la ponderation de l’importance d’un terme contenu dans un document, relativement a toute la collection des documents (ici les `SMS`). On transforme `XcountVec` pour obtenir le `Xtfidf`."
   ]
  },
  {
   "cell_type": "code",
   "execution_count": 47,
   "metadata": {},
   "outputs": [
    {
     "data": {
      "text/plain": [
       "array([[0., 0., 0., ..., 0., 0., 0.],\n",
       "       [0., 0., 0., ..., 0., 0., 0.],\n",
       "       [0., 0., 0., ..., 0., 0., 0.],\n",
       "       ...,\n",
       "       [0., 0., 0., ..., 0., 0., 0.],\n",
       "       [0., 0., 0., ..., 0., 0., 0.],\n",
       "       [0., 0., 0., ..., 0., 0., 0.]])"
      ]
     },
     "execution_count": 47,
     "metadata": {},
     "output_type": "execute_result"
    }
   ],
   "source": [
    "from sklearn.feature_extraction.text import TfidfTransformer\n",
    "\n",
    "transformer = TfidfTransformer(smooth_idf=False)\n",
    "Xtfidf = transformer.fit_transform(XcountVec).toarray()\n",
    "Xtfidf"
   ]
  },
  {
   "cell_type": "markdown",
   "metadata": {},
   "source": [
    "On marche maintenant la fonction `run_classifiers()` et compare les resultats obtenus avec l'etape precedente. On peut voir ces resultats decroissent un peu."
   ]
  },
  {
   "cell_type": "code",
   "execution_count": 48,
   "metadata": {},
   "outputs": [
    {
     "name": "stdout",
     "output_type": "stream",
     "text": [
      "------------------------------------------------------------------------\n",
      "BerNB\n",
      "------------------------------------------------------------------------\n",
      "Accuracy: 0.982 +/- 0.002\n",
      "AUC: 0.995 +/- 0.003\n",
      "Precision: 0.981 +/- 0.012\n",
      "Execution time: 12.789 +/- 0.000\n",
      "------------------------------------------------------------------------\n",
      "------------------------------------------------------------------------\n",
      "GaussianNB\n",
      "------------------------------------------------------------------------\n",
      "Accuracy: 0.897 +/- 0.016\n",
      "AUC: 0.893 +/- 0.016\n",
      "Precision: 0.571 +/- 0.041\n",
      "Execution time: 20.947 +/- 0.000\n",
      "------------------------------------------------------------------------\n",
      "------------------------------------------------------------------------\n",
      "RF\n",
      "------------------------------------------------------------------------\n",
      "Accuracy: 0.978 +/- 0.005\n",
      "AUC: 0.991 +/- 0.005\n",
      "Precision: 1.000 +/- 0.000\n",
      "Execution time: 282.008 +/- 0.000\n",
      "------------------------------------------------------------------------\n"
     ]
    }
   ],
   "source": [
    "results = run_classifiers(clfs_2, Xtfidf, Y)\n",
    "print_results(results, ['Accuracy', 'AUC', 'Precision', 'Execution time'])"
   ]
  },
  {
   "cell_type": "markdown",
   "metadata": {},
   "source": [
    "## III.3. TruncatedSVD"
   ]
  },
  {
   "cell_type": "markdown",
   "metadata": {},
   "source": [
    "Pour diminuer la dimension de `X`, on applique `TruncatedSVD` en `Xtfidf`."
   ]
  },
  {
   "cell_type": "code",
   "execution_count": 49,
   "metadata": {},
   "outputs": [
    {
     "data": {
      "text/plain": [
       "array([[ 0.06731618,  0.00825149,  0.02146143, -0.03914455,  0.02303549],\n",
       "       [ 0.02964514,  0.095512  ,  0.23773838,  0.07591599, -0.0117622 ],\n",
       "       [ 0.09077274,  0.00074463, -0.00151597, -0.06930993, -0.11813649],\n",
       "       ...,\n",
       "       [ 0.11035178, -0.00399553,  0.00634861, -0.05590653,  0.04434917],\n",
       "       [ 0.19543606, -0.01279772,  0.02314606, -0.13057616,  0.00744434],\n",
       "       [ 0.07834232, -0.01400183,  0.01924183, -0.05864795, -0.02537809]])"
      ]
     },
     "execution_count": 49,
     "metadata": {},
     "output_type": "execute_result"
    }
   ],
   "source": [
    "from sklearn.decomposition import TruncatedSVD\n",
    "\n",
    "svd = TruncatedSVD(n_components=5, n_iter=7, random_state=42)\n",
    "Xsvd = svd.fit_transform(Xtfidf)\n",
    "Xsvd"
   ]
  },
  {
   "cell_type": "markdown",
   "metadata": {},
   "source": [
    "En utilisant le `Xsvd`, on voit que le temps d'execution decroit fortement (= 1/30 en comparant avec l'utilisation du `Xtfidf`) alors que les valeurs `Accuracy`, `AUC` et `Precision` decroit un peu."
   ]
  },
  {
   "cell_type": "code",
   "execution_count": 50,
   "metadata": {},
   "outputs": [
    {
     "name": "stdout",
     "output_type": "stream",
     "text": [
      "------------------------------------------------------------------------\n",
      "BerNB\n",
      "------------------------------------------------------------------------\n",
      "Accuracy: 0.889 +/- 0.017\n",
      "AUC: 0.884 +/- 0.021\n",
      "Precision: 0.668 +/- 0.063\n",
      "Execution time: 0.112 +/- 0.000\n",
      "------------------------------------------------------------------------\n",
      "------------------------------------------------------------------------\n",
      "GaussianNB\n",
      "------------------------------------------------------------------------\n",
      "Accuracy: 0.913 +/- 0.009\n",
      "AUC: 0.946 +/- 0.010\n",
      "Precision: 0.632 +/- 0.037\n",
      "Execution time: 0.070 +/- 0.000\n",
      "------------------------------------------------------------------------\n",
      "------------------------------------------------------------------------\n",
      "RF\n",
      "------------------------------------------------------------------------\n",
      "Accuracy: 0.961 +/- 0.009\n",
      "AUC: 0.967 +/- 0.009\n",
      "Precision: 0.889 +/- 0.028\n",
      "Execution time: 7.993 +/- 0.000\n",
      "------------------------------------------------------------------------\n"
     ]
    }
   ],
   "source": [
    "results = run_classifiers(clfs_2, Xsvd, Y)\n",
    "print_results(results, ['Accuracy', 'AUC', 'Precision', 'Execution time'])"
   ]
  },
  {
   "cell_type": "markdown",
   "metadata": {},
   "source": [
    "## III.4. Pipeline"
   ]
  },
  {
   "cell_type": "markdown",
   "metadata": {},
   "source": [
    "On veut a ce moment creer un pipeline pour faire tous les etape de pretraitement de la tableau `X`. Ainsi, on cree le pipeline `pip` qui va faire `CountVectorizer()`, `TfidfTransformer()` et `TruncatedSVD` en `X`. On obtient finalement la tableau `Xpip` pre-traitee."
   ]
  },
  {
   "cell_type": "code",
   "execution_count": 51,
   "metadata": {
    "scrolled": true
   },
   "outputs": [
    {
     "data": {
      "text/plain": [
       "array([[ 0.06731618,  0.00825149,  0.02146143, -0.03914455,  0.02303549],\n",
       "       [ 0.02964514,  0.095512  ,  0.23773838,  0.07591599, -0.0117622 ],\n",
       "       [ 0.09077274,  0.00074463, -0.00151597, -0.06930993, -0.11813649],\n",
       "       ...,\n",
       "       [ 0.11035178, -0.00399553,  0.00634861, -0.05590653,  0.04434917],\n",
       "       [ 0.19543606, -0.01279772,  0.02314606, -0.13057616,  0.00744434],\n",
       "       [ 0.07834232, -0.01400183,  0.01924183, -0.05864795, -0.02537809]])"
      ]
     },
     "execution_count": 51,
     "metadata": {},
     "output_type": "execute_result"
    }
   ],
   "source": [
    "vectorizer = CountVectorizer()\n",
    "transformer = TfidfTransformer(smooth_idf=False)\n",
    "svd = TruncatedSVD(n_components=5, n_iter=7, random_state=42)\n",
    "\n",
    "pip = Pipeline([('countVec', CountVectorizer()),\n",
    "                ('tfidf', TfidfTransformer(smooth_idf=False)),\n",
    "                ('svd', TruncatedSVD(n_components=5, n_iter=7, random_state=42))])\n",
    "\n",
    "Xpip = pip.fit_transform(X)\n",
    "Xpip"
   ]
  },
  {
   "cell_type": "markdown",
   "metadata": {},
   "source": [
    "En appliquant `run_classifiers` a `Xpip`, on voit que les resultats obtenus sont egaux que les resultats obtenus par `Xsvd`. Ainsi, on peut assurer le vrai du pipeline `pip`."
   ]
  },
  {
   "cell_type": "code",
   "execution_count": 52,
   "metadata": {},
   "outputs": [
    {
     "name": "stdout",
     "output_type": "stream",
     "text": [
      "------------------------------------------------------------------------\n",
      "BerNB\n",
      "------------------------------------------------------------------------\n",
      "Accuracy: 0.889 +/- 0.017\n",
      "AUC: 0.884 +/- 0.021\n",
      "Precision: 0.668 +/- 0.063\n",
      "Execution time: 0.107 +/- 0.000\n",
      "------------------------------------------------------------------------\n",
      "------------------------------------------------------------------------\n",
      "GaussianNB\n",
      "------------------------------------------------------------------------\n",
      "Accuracy: 0.913 +/- 0.009\n",
      "AUC: 0.946 +/- 0.010\n",
      "Precision: 0.632 +/- 0.037\n",
      "Execution time: 0.073 +/- 0.000\n",
      "------------------------------------------------------------------------\n",
      "------------------------------------------------------------------------\n",
      "RF\n",
      "------------------------------------------------------------------------\n",
      "Accuracy: 0.961 +/- 0.009\n",
      "AUC: 0.967 +/- 0.009\n",
      "Precision: 0.889 +/- 0.028\n",
      "Execution time: 8.102 +/- 0.000\n",
      "------------------------------------------------------------------------\n"
     ]
    }
   ],
   "source": [
    "results = run_classifiers(clfs_2, Xpip, Y)\n",
    "print_results(results, ['Accuracy', 'AUC', 'Precision', 'Execution time'])"
   ]
  },
  {
   "cell_type": "markdown",
   "metadata": {},
   "source": [
    "## III.5. Application sur un autre jeu de données"
   ]
  },
  {
   "cell_type": "markdown",
   "metadata": {},
   "source": [
    "On applique les etapes precedents a un autre jeu de donnees `yepl-text-by-stars.csv`. "
   ]
  },
  {
   "cell_type": "code",
   "execution_count": 53,
   "metadata": {
    "scrolled": true
   },
   "outputs": [
    {
     "data": {
      "text/html": [
       "<div>\n",
       "<style scoped>\n",
       "    .dataframe tbody tr th:only-of-type {\n",
       "        vertical-align: middle;\n",
       "    }\n",
       "\n",
       "    .dataframe tbody tr th {\n",
       "        vertical-align: top;\n",
       "    }\n",
       "\n",
       "    .dataframe thead th {\n",
       "        text-align: right;\n",
       "    }\n",
       "</style>\n",
       "<table border=\"1\" class=\"dataframe\">\n",
       "  <thead>\n",
       "    <tr style=\"text-align: right;\">\n",
       "      <th></th>\n",
       "      <th>Stars</th>\n",
       "      <th>Text</th>\n",
       "    </tr>\n",
       "  </thead>\n",
       "  <tbody>\n",
       "    <tr>\n",
       "      <td>0</td>\n",
       "      <td>1</td>\n",
       "      <td>Boarded my English Mastiff here over New Year'...</td>\n",
       "    </tr>\n",
       "    <tr>\n",
       "      <td>1</td>\n",
       "      <td>1</td>\n",
       "      <td>Another case of the Emperor's New Clothes.  So...</td>\n",
       "    </tr>\n",
       "    <tr>\n",
       "      <td>2</td>\n",
       "      <td>1</td>\n",
       "      <td>Came on Valentine's Day night having pre-bough...</td>\n",
       "    </tr>\n",
       "    <tr>\n",
       "      <td>3</td>\n",
       "      <td>1</td>\n",
       "      <td>2Nd time eating here today.1st time was great ...</td>\n",
       "    </tr>\n",
       "    <tr>\n",
       "      <td>4</td>\n",
       "      <td>1</td>\n",
       "      <td>Allegiant is a disaster.  Their fares are chea...</td>\n",
       "    </tr>\n",
       "    <tr>\n",
       "      <td>...</td>\n",
       "      <td>...</td>\n",
       "      <td>...</td>\n",
       "    </tr>\n",
       "    <tr>\n",
       "      <td>47366</td>\n",
       "      <td>5</td>\n",
       "      <td>This is our favorite coffee place in Montreal!...</td>\n",
       "    </tr>\n",
       "    <tr>\n",
       "      <td>47367</td>\n",
       "      <td>5</td>\n",
       "      <td>Had to visit the Carlos bakery and went on a s...</td>\n",
       "    </tr>\n",
       "    <tr>\n",
       "      <td>47368</td>\n",
       "      <td>5</td>\n",
       "      <td>Some of the best Tom Yum we've ever had. Also ...</td>\n",
       "    </tr>\n",
       "    <tr>\n",
       "      <td>47369</td>\n",
       "      <td>5</td>\n",
       "      <td>This is the best groomer in the valley, she is...</td>\n",
       "    </tr>\n",
       "    <tr>\n",
       "      <td>47370</td>\n",
       "      <td>5</td>\n",
       "      <td>I agree with the other reviewers: this is a gr...</td>\n",
       "    </tr>\n",
       "  </tbody>\n",
       "</table>\n",
       "<p>47371 rows × 2 columns</p>\n",
       "</div>"
      ],
      "text/plain": [
       "       Stars                                               Text\n",
       "0          1  Boarded my English Mastiff here over New Year'...\n",
       "1          1  Another case of the Emperor's New Clothes.  So...\n",
       "2          1  Came on Valentine's Day night having pre-bough...\n",
       "3          1  2Nd time eating here today.1st time was great ...\n",
       "4          1  Allegiant is a disaster.  Their fares are chea...\n",
       "...      ...                                                ...\n",
       "47366      5  This is our favorite coffee place in Montreal!...\n",
       "47367      5  Had to visit the Carlos bakery and went on a s...\n",
       "47368      5  Some of the best Tom Yum we've ever had. Also ...\n",
       "47369      5  This is the best groomer in the valley, she is...\n",
       "47370      5  I agree with the other reviewers: this is a gr...\n",
       "\n",
       "[47371 rows x 2 columns]"
      ]
     },
     "execution_count": 53,
     "metadata": {},
     "output_type": "execute_result"
    }
   ],
   "source": [
    "df = pd.read_csv('./yelp-text-by-stars.csv', sep=';', encoding='iso-8859-16')\n",
    "df"
   ]
  },
  {
   "cell_type": "markdown",
   "metadata": {},
   "source": [
    "D'abord, on transforme le type du jeu de donnees a `np.array` et le divise a 2 tableaux `X`, `Y`."
   ]
  },
  {
   "cell_type": "code",
   "execution_count": 54,
   "metadata": {},
   "outputs": [],
   "source": [
    "data = df.values\n",
    "\n",
    "Y = data[:,0].astype(float)\n",
    "X = data[:, 1]"
   ]
  },
  {
   "cell_type": "markdown",
   "metadata": {},
   "source": [
    "Ensuite, on continue a separe le training set (`X_train`, `Y_train`) et le test set (`X_test`, `Y_test`)."
   ]
  },
  {
   "cell_type": "code",
   "execution_count": 55,
   "metadata": {},
   "outputs": [],
   "source": [
    "(X_train, X_test, Y_train, Y_test) = train_test_split(X,Y,test_size=0.3, random_state=1)"
   ]
  },
  {
   "cell_type": "markdown",
   "metadata": {},
   "source": [
    "Puis, on transforme `X_train`, `X_test` avec le pipeline `pip`."
   ]
  },
  {
   "cell_type": "code",
   "execution_count": 57,
   "metadata": {},
   "outputs": [],
   "source": [
    "Xpip_train = pip.fit_transform(X_train)\n",
    "Xpip_test = pip.transform(X_test)"
   ]
  },
  {
   "cell_type": "markdown",
   "metadata": {},
   "source": [
    "Enfin, on applique les classificateurs dans `clfs_2` au `training set` et calcul l'`Accuracy` de chaque algorithme avec le `test set`. \n",
    "\n",
    "Note: Comme la tableau `Y` maintenant n'est pas binaire (la valeur entre `1` et `5`), on ne peut pas marcher la fonction `run_classifier()` pour appliquer rapidement les algorithmes de classification."
   ]
  },
  {
   "cell_type": "code",
   "execution_count": 58,
   "metadata": {},
   "outputs": [
    {
     "name": "stdout",
     "output_type": "stream",
     "text": [
      "BerNB's Accuracy: 0.453\n",
      "GaussianNB's Accuracy: 0.472\n",
      "RF's Accuracy: 0.468\n"
     ]
    }
   ],
   "source": [
    "for i in clfs_2:\n",
    "    clf = clfs_2[i]\n",
    "    clf.fit(Xpip_train, Y_train)\n",
    "    print('{0}\\'s Accuracy: {1:.3f}'.format(i, clf.score(Xpip_test, Y_test)))"
   ]
  },
  {
   "cell_type": "code",
   "execution_count": null,
   "metadata": {},
   "outputs": [],
   "source": []
  }
 ],
 "metadata": {
  "kernelspec": {
   "display_name": "Python 3",
   "language": "python",
   "name": "python3"
  },
  "language_info": {
   "codemirror_mode": {
    "name": "ipython",
    "version": 3
   },
   "file_extension": ".py",
   "mimetype": "text/x-python",
   "name": "python",
   "nbconvert_exporter": "python",
   "pygments_lexer": "ipython3",
   "version": "3.7.4"
  }
 },
 "nbformat": 4,
 "nbformat_minor": 2
}
