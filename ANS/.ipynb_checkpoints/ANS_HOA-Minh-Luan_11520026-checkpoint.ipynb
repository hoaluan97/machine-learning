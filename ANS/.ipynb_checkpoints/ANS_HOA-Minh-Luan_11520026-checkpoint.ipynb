{
 "cells": [
  {
   "cell_type": "code",
   "execution_count": 1,
   "metadata": {},
   "outputs": [],
   "source": [
    "import numpy as np\n",
    "np.set_printoptions(threshold=10000,suppress=True)\n",
    "import pandas as pd\n",
    "import warnings\n",
    "import matplotlib.pyplot as plt\n",
    "warnings.filterwarnings('ignore')"
   ]
  },
  {
   "cell_type": "markdown",
   "metadata": {},
   "source": [
    "# I. Réduction de dimensions et Visualisation des données"
   ]
  },
  {
   "cell_type": "markdown",
   "metadata": {},
   "source": [
    "# # Ex 1: Import jeu de donnees"
   ]
  },
  {
   "cell_type": "code",
   "execution_count": 2,
   "metadata": {},
   "outputs": [
    {
     "data": {
      "text/html": [
       "<div>\n",
       "<style scoped>\n",
       "    .dataframe tbody tr th:only-of-type {\n",
       "        vertical-align: middle;\n",
       "    }\n",
       "\n",
       "    .dataframe tbody tr th {\n",
       "        vertical-align: top;\n",
       "    }\n",
       "\n",
       "    .dataframe thead th {\n",
       "        text-align: right;\n",
       "    }\n",
       "</style>\n",
       "<table border=\"1\" class=\"dataframe\">\n",
       "  <thead>\n",
       "    <tr style=\"text-align: right;\">\n",
       "      <th></th>\n",
       "      <th>ville</th>\n",
       "      <th>janv</th>\n",
       "      <th>fev</th>\n",
       "      <th>mars</th>\n",
       "      <th>avril</th>\n",
       "      <th>mai</th>\n",
       "      <th>juin</th>\n",
       "      <th>juil</th>\n",
       "      <th>aout</th>\n",
       "      <th>sept</th>\n",
       "      <th>oct</th>\n",
       "      <th>nov</th>\n",
       "      <th>dec</th>\n",
       "    </tr>\n",
       "  </thead>\n",
       "  <tbody>\n",
       "    <tr>\n",
       "      <td>0</td>\n",
       "      <td>ajac</td>\n",
       "      <td>7.7</td>\n",
       "      <td>8.7</td>\n",
       "      <td>10.5</td>\n",
       "      <td>12.6</td>\n",
       "      <td>15.9</td>\n",
       "      <td>19.8</td>\n",
       "      <td>22.0</td>\n",
       "      <td>22.2</td>\n",
       "      <td>20.3</td>\n",
       "      <td>16.3</td>\n",
       "      <td>11.8</td>\n",
       "      <td>8.7</td>\n",
       "    </tr>\n",
       "    <tr>\n",
       "      <td>1</td>\n",
       "      <td>ange</td>\n",
       "      <td>4.2</td>\n",
       "      <td>4.9</td>\n",
       "      <td>7.9</td>\n",
       "      <td>10.4</td>\n",
       "      <td>13.6</td>\n",
       "      <td>17.0</td>\n",
       "      <td>18.7</td>\n",
       "      <td>18.4</td>\n",
       "      <td>16.1</td>\n",
       "      <td>11.7</td>\n",
       "      <td>7.6</td>\n",
       "      <td>4.9</td>\n",
       "    </tr>\n",
       "    <tr>\n",
       "      <td>2</td>\n",
       "      <td>ango</td>\n",
       "      <td>4.6</td>\n",
       "      <td>5.4</td>\n",
       "      <td>8.9</td>\n",
       "      <td>11.3</td>\n",
       "      <td>14.5</td>\n",
       "      <td>17.2</td>\n",
       "      <td>19.5</td>\n",
       "      <td>19.4</td>\n",
       "      <td>16.9</td>\n",
       "      <td>12.5</td>\n",
       "      <td>8.1</td>\n",
       "      <td>5.3</td>\n",
       "    </tr>\n",
       "    <tr>\n",
       "      <td>3</td>\n",
       "      <td>besa</td>\n",
       "      <td>1.1</td>\n",
       "      <td>2.2</td>\n",
       "      <td>6.4</td>\n",
       "      <td>9.7</td>\n",
       "      <td>13.6</td>\n",
       "      <td>16.9</td>\n",
       "      <td>18.7</td>\n",
       "      <td>18.3</td>\n",
       "      <td>15.5</td>\n",
       "      <td>10.4</td>\n",
       "      <td>5.7</td>\n",
       "      <td>2.0</td>\n",
       "    </tr>\n",
       "    <tr>\n",
       "      <td>4</td>\n",
       "      <td>biar</td>\n",
       "      <td>7.6</td>\n",
       "      <td>8.0</td>\n",
       "      <td>10.8</td>\n",
       "      <td>12.0</td>\n",
       "      <td>14.7</td>\n",
       "      <td>17.8</td>\n",
       "      <td>19.7</td>\n",
       "      <td>19.9</td>\n",
       "      <td>18.5</td>\n",
       "      <td>14.8</td>\n",
       "      <td>10.9</td>\n",
       "      <td>8.2</td>\n",
       "    </tr>\n",
       "    <tr>\n",
       "      <td>5</td>\n",
       "      <td>bord</td>\n",
       "      <td>5.6</td>\n",
       "      <td>6.6</td>\n",
       "      <td>10.3</td>\n",
       "      <td>12.8</td>\n",
       "      <td>15.8</td>\n",
       "      <td>19.3</td>\n",
       "      <td>20.9</td>\n",
       "      <td>21.0</td>\n",
       "      <td>18.6</td>\n",
       "      <td>13.8</td>\n",
       "      <td>9.1</td>\n",
       "      <td>6.2</td>\n",
       "    </tr>\n",
       "    <tr>\n",
       "      <td>6</td>\n",
       "      <td>bres</td>\n",
       "      <td>6.1</td>\n",
       "      <td>5.8</td>\n",
       "      <td>7.8</td>\n",
       "      <td>9.2</td>\n",
       "      <td>11.6</td>\n",
       "      <td>14.4</td>\n",
       "      <td>15.6</td>\n",
       "      <td>16.0</td>\n",
       "      <td>14.7</td>\n",
       "      <td>12.0</td>\n",
       "      <td>9.0</td>\n",
       "      <td>7.0</td>\n",
       "    </tr>\n",
       "    <tr>\n",
       "      <td>7</td>\n",
       "      <td>cler</td>\n",
       "      <td>2.6</td>\n",
       "      <td>3.7</td>\n",
       "      <td>7.5</td>\n",
       "      <td>10.3</td>\n",
       "      <td>13.8</td>\n",
       "      <td>17.3</td>\n",
       "      <td>19.4</td>\n",
       "      <td>19.1</td>\n",
       "      <td>16.2</td>\n",
       "      <td>11.2</td>\n",
       "      <td>6.6</td>\n",
       "      <td>3.6</td>\n",
       "    </tr>\n",
       "    <tr>\n",
       "      <td>8</td>\n",
       "      <td>dijo</td>\n",
       "      <td>1.3</td>\n",
       "      <td>2.6</td>\n",
       "      <td>6.9</td>\n",
       "      <td>10.4</td>\n",
       "      <td>14.3</td>\n",
       "      <td>17.7</td>\n",
       "      <td>19.6</td>\n",
       "      <td>19.0</td>\n",
       "      <td>15.9</td>\n",
       "      <td>10.5</td>\n",
       "      <td>5.7</td>\n",
       "      <td>2.1</td>\n",
       "    </tr>\n",
       "    <tr>\n",
       "      <td>9</td>\n",
       "      <td>embr</td>\n",
       "      <td>0.5</td>\n",
       "      <td>1.6</td>\n",
       "      <td>5.7</td>\n",
       "      <td>9.0</td>\n",
       "      <td>13.0</td>\n",
       "      <td>16.4</td>\n",
       "      <td>18.9</td>\n",
       "      <td>18.3</td>\n",
       "      <td>15.3</td>\n",
       "      <td>10.1</td>\n",
       "      <td>4.6</td>\n",
       "      <td>0.5</td>\n",
       "    </tr>\n",
       "    <tr>\n",
       "      <td>10</td>\n",
       "      <td>gren</td>\n",
       "      <td>1.5</td>\n",
       "      <td>3.2</td>\n",
       "      <td>7.7</td>\n",
       "      <td>10.6</td>\n",
       "      <td>14.5</td>\n",
       "      <td>17.8</td>\n",
       "      <td>20.1</td>\n",
       "      <td>19.5</td>\n",
       "      <td>16.7</td>\n",
       "      <td>11.4</td>\n",
       "      <td>6.5</td>\n",
       "      <td>2.3</td>\n",
       "    </tr>\n",
       "    <tr>\n",
       "      <td>11</td>\n",
       "      <td>lill</td>\n",
       "      <td>2.4</td>\n",
       "      <td>2.9</td>\n",
       "      <td>6.0</td>\n",
       "      <td>8.9</td>\n",
       "      <td>12.4</td>\n",
       "      <td>15.3</td>\n",
       "      <td>17.1</td>\n",
       "      <td>17.1</td>\n",
       "      <td>14.7</td>\n",
       "      <td>10.4</td>\n",
       "      <td>6.1</td>\n",
       "      <td>3.5</td>\n",
       "    </tr>\n",
       "    <tr>\n",
       "      <td>12</td>\n",
       "      <td>limo</td>\n",
       "      <td>3.1</td>\n",
       "      <td>3.9</td>\n",
       "      <td>7.4</td>\n",
       "      <td>9.9</td>\n",
       "      <td>13.3</td>\n",
       "      <td>16.8</td>\n",
       "      <td>18.4</td>\n",
       "      <td>17.8</td>\n",
       "      <td>15.3</td>\n",
       "      <td>10.7</td>\n",
       "      <td>6.7</td>\n",
       "      <td>3.8</td>\n",
       "    </tr>\n",
       "    <tr>\n",
       "      <td>13</td>\n",
       "      <td>lyon</td>\n",
       "      <td>2.1</td>\n",
       "      <td>3.3</td>\n",
       "      <td>7.7</td>\n",
       "      <td>10.9</td>\n",
       "      <td>14.9</td>\n",
       "      <td>18.5</td>\n",
       "      <td>20.7</td>\n",
       "      <td>20.1</td>\n",
       "      <td>16.9</td>\n",
       "      <td>11.4</td>\n",
       "      <td>6.7</td>\n",
       "      <td>3.1</td>\n",
       "    </tr>\n",
       "    <tr>\n",
       "      <td>14</td>\n",
       "      <td>mars</td>\n",
       "      <td>5.5</td>\n",
       "      <td>6.6</td>\n",
       "      <td>10.0</td>\n",
       "      <td>13.0</td>\n",
       "      <td>16.8</td>\n",
       "      <td>20.8</td>\n",
       "      <td>23.3</td>\n",
       "      <td>22.8</td>\n",
       "      <td>19.9</td>\n",
       "      <td>15.0</td>\n",
       "      <td>10.2</td>\n",
       "      <td>6.9</td>\n",
       "    </tr>\n",
       "    <tr>\n",
       "      <td>15</td>\n",
       "      <td>mont</td>\n",
       "      <td>5.6</td>\n",
       "      <td>6.7</td>\n",
       "      <td>9.9</td>\n",
       "      <td>12.8</td>\n",
       "      <td>16.2</td>\n",
       "      <td>20.1</td>\n",
       "      <td>22.7</td>\n",
       "      <td>22.3</td>\n",
       "      <td>19.3</td>\n",
       "      <td>14.6</td>\n",
       "      <td>10.0</td>\n",
       "      <td>6.5</td>\n",
       "    </tr>\n",
       "    <tr>\n",
       "      <td>16</td>\n",
       "      <td>nanc</td>\n",
       "      <td>0.8</td>\n",
       "      <td>1.6</td>\n",
       "      <td>5.5</td>\n",
       "      <td>9.2</td>\n",
       "      <td>13.3</td>\n",
       "      <td>16.5</td>\n",
       "      <td>18.3</td>\n",
       "      <td>17.7</td>\n",
       "      <td>14.7</td>\n",
       "      <td>9.4</td>\n",
       "      <td>5.2</td>\n",
       "      <td>1.8</td>\n",
       "    </tr>\n",
       "    <tr>\n",
       "      <td>17</td>\n",
       "      <td>nant</td>\n",
       "      <td>5.0</td>\n",
       "      <td>5.3</td>\n",
       "      <td>8.4</td>\n",
       "      <td>10.8</td>\n",
       "      <td>13.9</td>\n",
       "      <td>17.2</td>\n",
       "      <td>18.8</td>\n",
       "      <td>18.6</td>\n",
       "      <td>16.4</td>\n",
       "      <td>12.2</td>\n",
       "      <td>8.2</td>\n",
       "      <td>5.5</td>\n",
       "    </tr>\n",
       "    <tr>\n",
       "      <td>18</td>\n",
       "      <td>nice</td>\n",
       "      <td>7.5</td>\n",
       "      <td>8.5</td>\n",
       "      <td>10.8</td>\n",
       "      <td>13.3</td>\n",
       "      <td>16.7</td>\n",
       "      <td>20.1</td>\n",
       "      <td>22.7</td>\n",
       "      <td>22.5</td>\n",
       "      <td>20.3</td>\n",
       "      <td>16.0</td>\n",
       "      <td>11.5</td>\n",
       "      <td>8.2</td>\n",
       "    </tr>\n",
       "    <tr>\n",
       "      <td>19</td>\n",
       "      <td>nime</td>\n",
       "      <td>5.7</td>\n",
       "      <td>6.8</td>\n",
       "      <td>10.1</td>\n",
       "      <td>13.0</td>\n",
       "      <td>16.6</td>\n",
       "      <td>20.8</td>\n",
       "      <td>23.6</td>\n",
       "      <td>22.9</td>\n",
       "      <td>19.7</td>\n",
       "      <td>14.6</td>\n",
       "      <td>9.8</td>\n",
       "      <td>6.5</td>\n",
       "    </tr>\n",
       "    <tr>\n",
       "      <td>20</td>\n",
       "      <td>orle</td>\n",
       "      <td>2.7</td>\n",
       "      <td>3.6</td>\n",
       "      <td>6.9</td>\n",
       "      <td>9.8</td>\n",
       "      <td>13.4</td>\n",
       "      <td>16.6</td>\n",
       "      <td>18.4</td>\n",
       "      <td>18.2</td>\n",
       "      <td>15.6</td>\n",
       "      <td>10.9</td>\n",
       "      <td>6.6</td>\n",
       "      <td>3.6</td>\n",
       "    </tr>\n",
       "    <tr>\n",
       "      <td>21</td>\n",
       "      <td>pari</td>\n",
       "      <td>3.4</td>\n",
       "      <td>4.1</td>\n",
       "      <td>7.6</td>\n",
       "      <td>10.7</td>\n",
       "      <td>14.3</td>\n",
       "      <td>17.5</td>\n",
       "      <td>19.1</td>\n",
       "      <td>18.7</td>\n",
       "      <td>16.0</td>\n",
       "      <td>11.4</td>\n",
       "      <td>7.1</td>\n",
       "      <td>4.3</td>\n",
       "    </tr>\n",
       "    <tr>\n",
       "      <td>22</td>\n",
       "      <td>perp</td>\n",
       "      <td>7.5</td>\n",
       "      <td>8.4</td>\n",
       "      <td>11.3</td>\n",
       "      <td>13.9</td>\n",
       "      <td>17.1</td>\n",
       "      <td>21.1</td>\n",
       "      <td>23.8</td>\n",
       "      <td>23.3</td>\n",
       "      <td>20.5</td>\n",
       "      <td>15.9</td>\n",
       "      <td>11.5</td>\n",
       "      <td>8.6</td>\n",
       "    </tr>\n",
       "    <tr>\n",
       "      <td>23</td>\n",
       "      <td>reim</td>\n",
       "      <td>1.9</td>\n",
       "      <td>2.8</td>\n",
       "      <td>6.2</td>\n",
       "      <td>9.4</td>\n",
       "      <td>13.3</td>\n",
       "      <td>16.4</td>\n",
       "      <td>18.3</td>\n",
       "      <td>17.9</td>\n",
       "      <td>15.1</td>\n",
       "      <td>10.3</td>\n",
       "      <td>6.1</td>\n",
       "      <td>3.0</td>\n",
       "    </tr>\n",
       "    <tr>\n",
       "      <td>24</td>\n",
       "      <td>renn</td>\n",
       "      <td>4.8</td>\n",
       "      <td>5.3</td>\n",
       "      <td>7.9</td>\n",
       "      <td>10.1</td>\n",
       "      <td>13.1</td>\n",
       "      <td>16.2</td>\n",
       "      <td>17.9</td>\n",
       "      <td>17.8</td>\n",
       "      <td>15.7</td>\n",
       "      <td>11.6</td>\n",
       "      <td>7.8</td>\n",
       "      <td>5.4</td>\n",
       "    </tr>\n",
       "    <tr>\n",
       "      <td>25</td>\n",
       "      <td>roue</td>\n",
       "      <td>3.4</td>\n",
       "      <td>3.9</td>\n",
       "      <td>6.8</td>\n",
       "      <td>9.5</td>\n",
       "      <td>12.9</td>\n",
       "      <td>15.7</td>\n",
       "      <td>17.6</td>\n",
       "      <td>17.2</td>\n",
       "      <td>15.0</td>\n",
       "      <td>11.0</td>\n",
       "      <td>6.8</td>\n",
       "      <td>4.3</td>\n",
       "    </tr>\n",
       "    <tr>\n",
       "      <td>26</td>\n",
       "      <td>stqu</td>\n",
       "      <td>2.0</td>\n",
       "      <td>2.9</td>\n",
       "      <td>6.3</td>\n",
       "      <td>9.2</td>\n",
       "      <td>12.7</td>\n",
       "      <td>15.6</td>\n",
       "      <td>17.4</td>\n",
       "      <td>17.4</td>\n",
       "      <td>15.0</td>\n",
       "      <td>10.5</td>\n",
       "      <td>6.1</td>\n",
       "      <td>3.1</td>\n",
       "    </tr>\n",
       "    <tr>\n",
       "      <td>27</td>\n",
       "      <td>stra</td>\n",
       "      <td>0.4</td>\n",
       "      <td>1.5</td>\n",
       "      <td>5.6</td>\n",
       "      <td>9.8</td>\n",
       "      <td>14.0</td>\n",
       "      <td>17.2</td>\n",
       "      <td>19.0</td>\n",
       "      <td>18.3</td>\n",
       "      <td>15.1</td>\n",
       "      <td>9.5</td>\n",
       "      <td>4.9</td>\n",
       "      <td>1.3</td>\n",
       "    </tr>\n",
       "    <tr>\n",
       "      <td>28</td>\n",
       "      <td>toul</td>\n",
       "      <td>8.6</td>\n",
       "      <td>9.1</td>\n",
       "      <td>11.2</td>\n",
       "      <td>13.4</td>\n",
       "      <td>16.6</td>\n",
       "      <td>20.2</td>\n",
       "      <td>22.6</td>\n",
       "      <td>22.4</td>\n",
       "      <td>20.5</td>\n",
       "      <td>16.5</td>\n",
       "      <td>12.6</td>\n",
       "      <td>9.7</td>\n",
       "    </tr>\n",
       "    <tr>\n",
       "      <td>29</td>\n",
       "      <td>tlse</td>\n",
       "      <td>4.7</td>\n",
       "      <td>5.6</td>\n",
       "      <td>9.2</td>\n",
       "      <td>11.6</td>\n",
       "      <td>14.9</td>\n",
       "      <td>18.7</td>\n",
       "      <td>20.9</td>\n",
       "      <td>20.9</td>\n",
       "      <td>18.3</td>\n",
       "      <td>13.3</td>\n",
       "      <td>8.6</td>\n",
       "      <td>5.5</td>\n",
       "    </tr>\n",
       "    <tr>\n",
       "      <td>30</td>\n",
       "      <td>tour</td>\n",
       "      <td>3.5</td>\n",
       "      <td>4.4</td>\n",
       "      <td>7.7</td>\n",
       "      <td>10.6</td>\n",
       "      <td>13.9</td>\n",
       "      <td>17.4</td>\n",
       "      <td>19.1</td>\n",
       "      <td>18.7</td>\n",
       "      <td>16.2</td>\n",
       "      <td>11.7</td>\n",
       "      <td>7.2</td>\n",
       "      <td>4.3</td>\n",
       "    </tr>\n",
       "    <tr>\n",
       "      <td>31</td>\n",
       "      <td>vich</td>\n",
       "      <td>2.4</td>\n",
       "      <td>3.4</td>\n",
       "      <td>7.1</td>\n",
       "      <td>9.9</td>\n",
       "      <td>13.6</td>\n",
       "      <td>17.1</td>\n",
       "      <td>19.3</td>\n",
       "      <td>18.8</td>\n",
       "      <td>16.0</td>\n",
       "      <td>11.0</td>\n",
       "      <td>6.6</td>\n",
       "      <td>3.4</td>\n",
       "    </tr>\n",
       "  </tbody>\n",
       "</table>\n",
       "</div>"
      ],
      "text/plain": [
       "   ville  janv  fev  mars  avril   mai  juin  juil  aout  sept   oct   nov  \\\n",
       "0   ajac   7.7  8.7  10.5   12.6  15.9  19.8  22.0  22.2  20.3  16.3  11.8   \n",
       "1   ange   4.2  4.9   7.9   10.4  13.6  17.0  18.7  18.4  16.1  11.7   7.6   \n",
       "2   ango   4.6  5.4   8.9   11.3  14.5  17.2  19.5  19.4  16.9  12.5   8.1   \n",
       "3   besa   1.1  2.2   6.4    9.7  13.6  16.9  18.7  18.3  15.5  10.4   5.7   \n",
       "4   biar   7.6  8.0  10.8   12.0  14.7  17.8  19.7  19.9  18.5  14.8  10.9   \n",
       "5   bord   5.6  6.6  10.3   12.8  15.8  19.3  20.9  21.0  18.6  13.8   9.1   \n",
       "6   bres   6.1  5.8   7.8    9.2  11.6  14.4  15.6  16.0  14.7  12.0   9.0   \n",
       "7   cler   2.6  3.7   7.5   10.3  13.8  17.3  19.4  19.1  16.2  11.2   6.6   \n",
       "8   dijo   1.3  2.6   6.9   10.4  14.3  17.7  19.6  19.0  15.9  10.5   5.7   \n",
       "9   embr   0.5  1.6   5.7    9.0  13.0  16.4  18.9  18.3  15.3  10.1   4.6   \n",
       "10  gren   1.5  3.2   7.7   10.6  14.5  17.8  20.1  19.5  16.7  11.4   6.5   \n",
       "11  lill   2.4  2.9   6.0    8.9  12.4  15.3  17.1  17.1  14.7  10.4   6.1   \n",
       "12  limo   3.1  3.9   7.4    9.9  13.3  16.8  18.4  17.8  15.3  10.7   6.7   \n",
       "13  lyon   2.1  3.3   7.7   10.9  14.9  18.5  20.7  20.1  16.9  11.4   6.7   \n",
       "14  mars   5.5  6.6  10.0   13.0  16.8  20.8  23.3  22.8  19.9  15.0  10.2   \n",
       "15  mont   5.6  6.7   9.9   12.8  16.2  20.1  22.7  22.3  19.3  14.6  10.0   \n",
       "16  nanc   0.8  1.6   5.5    9.2  13.3  16.5  18.3  17.7  14.7   9.4   5.2   \n",
       "17  nant   5.0  5.3   8.4   10.8  13.9  17.2  18.8  18.6  16.4  12.2   8.2   \n",
       "18  nice   7.5  8.5  10.8   13.3  16.7  20.1  22.7  22.5  20.3  16.0  11.5   \n",
       "19  nime   5.7  6.8  10.1   13.0  16.6  20.8  23.6  22.9  19.7  14.6   9.8   \n",
       "20  orle   2.7  3.6   6.9    9.8  13.4  16.6  18.4  18.2  15.6  10.9   6.6   \n",
       "21  pari   3.4  4.1   7.6   10.7  14.3  17.5  19.1  18.7  16.0  11.4   7.1   \n",
       "22  perp   7.5  8.4  11.3   13.9  17.1  21.1  23.8  23.3  20.5  15.9  11.5   \n",
       "23  reim   1.9  2.8   6.2    9.4  13.3  16.4  18.3  17.9  15.1  10.3   6.1   \n",
       "24  renn   4.8  5.3   7.9   10.1  13.1  16.2  17.9  17.8  15.7  11.6   7.8   \n",
       "25  roue   3.4  3.9   6.8    9.5  12.9  15.7  17.6  17.2  15.0  11.0   6.8   \n",
       "26  stqu   2.0  2.9   6.3    9.2  12.7  15.6  17.4  17.4  15.0  10.5   6.1   \n",
       "27  stra   0.4  1.5   5.6    9.8  14.0  17.2  19.0  18.3  15.1   9.5   4.9   \n",
       "28  toul   8.6  9.1  11.2   13.4  16.6  20.2  22.6  22.4  20.5  16.5  12.6   \n",
       "29  tlse   4.7  5.6   9.2   11.6  14.9  18.7  20.9  20.9  18.3  13.3   8.6   \n",
       "30  tour   3.5  4.4   7.7   10.6  13.9  17.4  19.1  18.7  16.2  11.7   7.2   \n",
       "31  vich   2.4  3.4   7.1    9.9  13.6  17.1  19.3  18.8  16.0  11.0   6.6   \n",
       "\n",
       "    dec  \n",
       "0   8.7  \n",
       "1   4.9  \n",
       "2   5.3  \n",
       "3   2.0  \n",
       "4   8.2  \n",
       "5   6.2  \n",
       "6   7.0  \n",
       "7   3.6  \n",
       "8   2.1  \n",
       "9   0.5  \n",
       "10  2.3  \n",
       "11  3.5  \n",
       "12  3.8  \n",
       "13  3.1  \n",
       "14  6.9  \n",
       "15  6.5  \n",
       "16  1.8  \n",
       "17  5.5  \n",
       "18  8.2  \n",
       "19  6.5  \n",
       "20  3.6  \n",
       "21  4.3  \n",
       "22  8.6  \n",
       "23  3.0  \n",
       "24  5.4  \n",
       "25  4.3  \n",
       "26  3.1  \n",
       "27  1.3  \n",
       "28  9.7  \n",
       "29  5.5  \n",
       "30  4.3  \n",
       "31  3.4  "
      ]
     },
     "execution_count": 2,
     "metadata": {},
     "output_type": "execute_result"
    }
   ],
   "source": [
    "data = pd.read_csv('./villes.csv', sep=';')\n",
    "X = data.ix[:, 1:13].values\n",
    "labels = data.ix[:, 0].values\n",
    "data"
   ]
  },
  {
   "cell_type": "markdown",
   "metadata": {},
   "source": [
    "# # Ex 2: Realiser PCA"
   ]
  },
  {
   "cell_type": "markdown",
   "metadata": {},
   "source": [
    "### Utiliser StandardScaler pour creer un jeu de donnees centrees reduites"
   ]
  },
  {
   "cell_type": "code",
   "execution_count": 3,
   "metadata": {
    "scrolled": true
   },
   "outputs": [
    {
     "data": {
      "text/plain": [
       "array([[ 1.63835106,  1.78748032,  1.35686597,  1.16748094,  1.09413658,\n",
       "         1.2081338 ,  1.11734499,  1.39767179,  1.73963204,  1.93208186,\n",
       "         1.82836605,  1.68024825],\n",
       "       [ 0.116831  ,  0.05000944, -0.1285452 , -0.32148026, -0.52942092,\n",
       "        -0.42704427, -0.5237069 , -0.53585369, -0.41130215, -0.27258829,\n",
       "        -0.12654562,  0.04961627],\n",
       "       [ 0.29071901,  0.27862403,  0.44276679,  0.28764023,  0.10588418,\n",
       "        -0.31024584, -0.12587614, -0.0270312 , -0.0016004 ,  0.1108326 ,\n",
       "         0.10618196,  0.22126174],\n",
       "       [-1.23080105, -1.18450934, -0.98551318, -0.79524064, -0.52942092,\n",
       "        -0.48544349, -0.5237069 , -0.58673594, -0.71857846, -0.89564725,\n",
       "        -1.01091043, -1.1948134 ],\n",
       "       [ 1.59487906,  1.4674199 ,  1.52825957,  0.76140061,  0.2470631 ,\n",
       "         0.04014946, -0.02641845,  0.22738005,  0.8178031 ,  1.21316768,\n",
       "         1.40945641,  1.46569141],\n",
       "       [ 0.72543903,  0.82729905,  1.24260358,  1.30284105,  1.02354712,\n",
       "         0.91613772,  0.57032769,  0.7870848 ,  0.86901582,  0.73389156,\n",
       "         0.57163712,  0.60746405],\n",
       "       [ 0.94279904,  0.4615157 , -0.1856764 , -1.13364091, -1.94121006,\n",
       "        -1.94542391, -2.06530111, -1.75702768, -1.12828021, -0.12880546,\n",
       "         0.5250916 ,  0.950755  ],\n",
       "       [-0.57872102, -0.49866557, -0.35706999, -0.38916031, -0.38824201,\n",
       "        -0.25184662, -0.17560499, -0.17967794, -0.36008943, -0.51222635,\n",
       "        -0.59200078, -0.50823151],\n",
       "       [-1.14385704, -1.00161767, -0.69985719, -0.32148026, -0.03529473,\n",
       "        -0.01824976, -0.07614729, -0.23056019, -0.51372758, -0.84771964,\n",
       "        -1.01091043, -1.15190203],\n",
       "       [-1.49163306, -1.45884685, -1.38543157, -1.26900102, -0.95295766,\n",
       "        -0.77743958, -0.42424921, -0.58673594, -0.8210039 , -1.03943009,\n",
       "        -1.5229111 , -1.83848392],\n",
       "       [-1.05691304, -0.72728016, -0.2428076 , -0.18612015,  0.10588418,\n",
       "         0.04014946,  0.17249693,  0.02385105, -0.10402583, -0.41637113,\n",
       "        -0.6385463 , -1.0660793 ],\n",
       "       [-0.66566503, -0.86444892, -1.21403798, -1.33668107, -1.3764944 ,\n",
       "        -1.41983096, -1.31936843, -1.19732293, -1.12828021, -0.89564725,\n",
       "        -0.82472836, -0.55114288],\n",
       "       [-0.36136101, -0.40721974, -0.41420119, -0.65988053, -0.74118929,\n",
       "        -0.54384271, -0.67289344, -0.84114719, -0.8210039 , -0.75186441,\n",
       "        -0.54545527, -0.42240878],\n",
       "       [-0.79608103, -0.68155724, -0.2428076 ,  0.01692001,  0.38824201,\n",
       "         0.44894398,  0.47087   ,  0.32914455, -0.0016004 , -0.41637113,\n",
       "        -0.54545527, -0.72278835],\n",
       "       [ 0.68196703,  0.82729905,  1.07120998,  1.43820115,  1.72944169,\n",
       "         1.79212597,  1.76381998,  1.70296529,  1.53478116,  1.3090229 ,\n",
       "         1.0836378 ,  0.90784363],\n",
       "       [ 0.72543903,  0.87302196,  1.01407878,  1.30284105,  1.30590495,\n",
       "         1.38333145,  1.46544691,  1.44855404,  1.22750485,  1.11731246,\n",
       "         0.99054676,  0.73619816],\n",
       "       [-1.36121705, -1.45884685, -1.49969397, -1.13364091, -0.74118929,\n",
       "        -0.71904036, -0.72262228, -0.89202944, -1.12828021, -1.37492337,\n",
       "        -1.24363801, -1.28063614],\n",
       "       [ 0.46460702,  0.23290111,  0.1571108 , -0.05076004, -0.31765255,\n",
       "        -0.31024584, -0.47397806, -0.43408919, -0.25766399, -0.03295023,\n",
       "         0.15272747,  0.30708448],\n",
       "       [ 1.55140706,  1.69603449,  1.52825957,  1.64124132,  1.65885223,\n",
       "         1.38333145,  1.46544691,  1.55031854,  1.73963204,  1.78829903,\n",
       "         1.68872951,  1.46569141],\n",
       "       [ 0.76891103,  0.91874488,  1.12834118,  1.43820115,  1.58826277,\n",
       "         1.79212597,  1.91300652,  1.75384754,  1.43235573,  1.11731246,\n",
       "         0.89745573,  0.73619816],\n",
       "       [-0.53524902, -0.54438849, -0.69985719, -0.72756058, -0.67059984,\n",
       "        -0.66064114, -0.67289344, -0.63761819, -0.66736574, -0.65600919,\n",
       "        -0.59200078, -0.50823151],\n",
       "       [-0.23094501, -0.3157739 , -0.29993879, -0.1184401 , -0.03529473,\n",
       "        -0.13504819, -0.32479152, -0.38320694, -0.46251487, -0.41637113,\n",
       "        -0.3592732 , -0.20785194],\n",
       "       [ 1.55140706,  1.65031157,  1.81391557,  2.04732164,  1.94121006,\n",
       "         1.96732362,  2.01246421,  1.95737653,  1.84205748,  1.74037141,\n",
       "         1.68872951,  1.63733688],\n",
       "       [-0.88302503, -0.91017183, -1.09977558, -0.9982808 , -0.74118929,\n",
       "        -0.77743958, -0.72262228, -0.79026494, -0.92342933, -0.94357486,\n",
       "        -0.82472836, -0.76569972],\n",
       "       [ 0.37766301,  0.23290111, -0.1285452 , -0.52452042, -0.88236821,\n",
       "        -0.89423801, -0.92153767, -0.84114719, -0.61615302, -0.32051591,\n",
       "        -0.03345459,  0.26417311],\n",
       "       [-0.23094501, -0.40721974, -0.75698839, -0.93060075, -1.02354712,\n",
       "        -1.18623409, -1.0707242 , -1.14644068, -0.97464205, -0.60808158,\n",
       "        -0.49890975, -0.20785194],\n",
       "       [-0.83955303, -0.86444892, -1.04264438, -1.13364091, -1.16472603,\n",
       "        -1.24463331, -1.17018189, -1.04467618, -0.97464205, -0.84771964,\n",
       "        -0.82472836, -0.72278835],\n",
       "       [-1.53510506, -1.50456977, -1.44256277, -0.72756058, -0.2470631 ,\n",
       "        -0.31024584, -0.37452037, -0.58673594, -0.92342933, -1.32699576,\n",
       "        -1.38327456, -1.49519298],\n",
       "       [ 2.02959908,  1.97037199,  1.75678437,  1.70892137,  1.58826277,\n",
       "         1.44173067,  1.41571807,  1.49943629,  1.84205748,  2.02793709,\n",
       "         2.20073018,  2.10936193],\n",
       "       [ 0.33419101,  0.37006987,  0.61416039,  0.49068039,  0.38824201,\n",
       "         0.56574241,  0.57032769,  0.73620255,  0.71537766,  0.4942535 ,\n",
       "         0.33890954,  0.30708448],\n",
       "       [-0.18747301, -0.17860515, -0.2428076 , -0.18612015, -0.31765255,\n",
       "        -0.19344741, -0.32479152, -0.38320694, -0.36008943, -0.27258829,\n",
       "        -0.31272769, -0.20785194],\n",
       "       [-0.66566503, -0.63583433, -0.58559479, -0.65988053, -0.52942092,\n",
       "        -0.36864506, -0.22533383, -0.33232469, -0.46251487, -0.60808158,\n",
       "        -0.59200078, -0.59405425]])"
      ]
     },
     "execution_count": 3,
     "metadata": {},
     "output_type": "execute_result"
    }
   ],
   "source": [
    "from sklearn.preprocessing import StandardScaler\n",
    "\n",
    "SS = StandardScaler()\n",
    "Xss = SS.fit_transform(X)\n",
    "Xss"
   ]
  },
  {
   "cell_type": "markdown",
   "metadata": {},
   "source": [
    "### Choisir nombre d'axes a retenir pour conserver un minimum de 90% de l’information représentée dans le nuage initial"
   ]
  },
  {
   "cell_type": "code",
   "execution_count": 4,
   "metadata": {},
   "outputs": [
    {
     "name": "stdout",
     "output_type": "stream",
     "text": [
      "[0.87268193 0.11720602]\n"
     ]
    }
   ],
   "source": [
    "from sklearn.decomposition import PCA\n",
    "\n",
    "pca = PCA(n_components=0.9)\n",
    "X_pca = pca.fit_transform(Xss)\n",
    "print(pca.explained_variance_ratio_)"
   ]
  },
  {
   "cell_type": "markdown",
   "metadata": {},
   "source": [
    "PCA choisit 2 components pour conserver au moins de 90% de l'information"
   ]
  },
  {
   "cell_type": "code",
   "execution_count": 5,
   "metadata": {},
   "outputs": [
    {
     "data": {
      "text/plain": [
       "array([[ 0.27151028,  0.28846164,  0.3010811 ,  0.30354174,  0.28353089,\n",
       "         0.27841907,  0.27290295,  0.28757774,  0.30472022,  0.3038548 ,\n",
       "         0.29242808,  0.2729549 ],\n",
       "       [ 0.39933494,  0.29907184,  0.12943051, -0.11530598, -0.32314291,\n",
       "        -0.35846763, -0.38879639, -0.3010133 , -0.11231622,  0.12249226,\n",
       "         0.26269461,  0.38693688]])"
      ]
     },
     "execution_count": 5,
     "metadata": {},
     "output_type": "execute_result"
    }
   ],
   "source": [
    "pca.components_"
   ]
  },
  {
   "cell_type": "markdown",
   "metadata": {},
   "source": [
    "###  Visualisation graphique"
   ]
  },
  {
   "cell_type": "code",
   "execution_count": 6,
   "metadata": {},
   "outputs": [
    {
     "data": {
      "image/png": "[encoded data removed]",
      "text/plain": [
       "<Figure size 432x288 with 1 Axes>"
      ]
     },
     "metadata": {
      "needs_background": "light"
     },
     "output_type": "display_data"
    }
   ],
   "source": [
    "plt.scatter(X_pca[:, 0], X_pca[:, 1])\n",
    "for label, x, y in zip(labels, X_pca[:, 0], X_pca[:, 1]):\n",
    "    plt.annotate(label, xy=(x, y), xytext=(-0.2, 0.2), textcoords='offset points')\n",
    "plt.show()"
   ]
  },
  {
   "cell_type": "markdown",
   "metadata": {},
   "source": [
    "### Interprétation des deux premiers axes principaux "
   ]
  },
  {
   "cell_type": "markdown",
   "metadata": {},
   "source": [
    "- l'axe horizontal represente le temperature moyenne des villes\n",
    "- l'axe vertical represente la distance entre les temperature max-min dans une annee des villes"
   ]
  },
  {
   "cell_type": "markdown",
   "metadata": {},
   "source": [
    "## Ex 3: Reduction de dimensions avec PCA pour jeu de donnees crimes.csv"
   ]
  },
  {
   "cell_type": "code",
   "execution_count": 7,
   "metadata": {
    "scrolled": true
   },
   "outputs": [
    {
     "name": "stdout",
     "output_type": "stream",
     "text": [
      "[0.58785136 0.17696026 0.10368809 0.04520458]\n",
      "[[ 0.30027916  0.43175936  0.39687549  0.3966517   0.44015721  0.35735953\n",
      "   0.29517681]\n",
      " [-0.62917444 -0.16943512  0.04224698 -0.34352815  0.20334059  0.40231912\n",
      "   0.50242093]\n",
      " [ 0.1782453  -0.24419758  0.49586087 -0.06950972 -0.20989509 -0.53923144\n",
      "   0.56838373]\n",
      " [-0.23211411  0.06221567 -0.55798926  0.62980445 -0.05755491 -0.23488987\n",
      "   0.41923832]]\n"
     ]
    },
    {
     "data": {
      "image/png": "[encoded data removed]",
      "text/plain": [
       "<Figure size 432x288 with 1 Axes>"
      ]
     },
     "metadata": {
      "needs_background": "light"
     },
     "output_type": "display_data"
    }
   ],
   "source": [
    "data = pd.read_csv('./crimes.csv', sep=';')\n",
    "X = data.ix[:, 1:13].values\n",
    "labels = data.ix[:, 0].values\n",
    "\n",
    "SS = StandardScaler()\n",
    "Xss = SS.fit_transform(X)\n",
    "\n",
    "\n",
    "pca = PCA(n_components=0.9)\n",
    "X_pca = pca.fit_transform(Xss)\n",
    "print(pca.explained_variance_ratio_)\n",
    "print(pca.components_)\n",
    "\n",
    "plt.scatter(X_pca[:, 0], X_pca[:, 1])\n",
    "for label, x, y in zip(labels, X_pca[:, 0], X_pca[:, 1]):\n",
    "    plt.annotate(label, xy=(x, y), xytext=(-0.2, 0.2), textcoords='offset points')\n",
    "plt.show()"
   ]
  },
  {
   "cell_type": "markdown",
   "metadata": {},
   "source": [
    "## Ex 4: Reduction de dimensions avec PCA pour jeu de donnees 50_Startups.csv"
   ]
  },
  {
   "cell_type": "code",
   "execution_count": 8,
   "metadata": {},
   "outputs": [
    {
     "name": "stdout",
     "output_type": "stream",
     "text": [
      "[0.66804393 0.25484695]\n"
     ]
    },
    {
     "data": {
      "image/png": "[encoded data removed]",
      "text/plain": [
       "<Figure size 432x288 with 1 Axes>"
      ]
     },
     "metadata": {
      "needs_background": "light"
     },
     "output_type": "display_data"
    }
   ],
   "source": [
    "# Ex4\n",
    "data = pd.read_csv('./50_Startups.csv', sep=';')\n",
    "X = data.ix[:, 1:13].values\n",
    "labels = data.ix[:, 0].values\n",
    "\n",
    "SS = StandardScaler()\n",
    "Xss = SS.fit_transform(X)\n",
    "\n",
    "pca = PCA().fit(Xss)\n",
    "\n",
    "pca = PCA(n_components=0.9)\n",
    "X_pca = pca.fit_transform(Xss)\n",
    "print(pca.explained_variance_ratio_)\n",
    "\n",
    "plt.scatter(X_pca[:, 0], X_pca[:, 1])\n",
    "for label, x, y in zip(labels, X_pca[:, 0], X_pca[:, 1]):\n",
    "    plt.annotate(label, xy=(x, y), xytext=(-0.2, 0.2), textcoords='offset points')\n",
    "plt.show()"
   ]
  },
  {
   "cell_type": "markdown",
   "metadata": {},
   "source": [
    "# II. Clustering"
   ]
  },
  {
   "cell_type": "markdown",
   "metadata": {},
   "source": [
    "## Ex 0: import data et bibliotheques"
   ]
  },
  {
   "cell_type": "code",
   "execution_count": 9,
   "metadata": {},
   "outputs": [
    {
     "name": "stdout",
     "output_type": "stream",
     "text": [
      "[0.87268193 0.11720602]\n"
     ]
    }
   ],
   "source": [
    "data = pd.read_csv('./villes.csv', sep=';')\n",
    "X = data.ix[:, 1:13].values\n",
    "labels = data.ix[:, 0].values\n",
    "\n",
    "SS = StandardScaler()\n",
    "Xss = SS.fit_transform(X)\n",
    "\n",
    "pca = PCA().fit(Xss)\n",
    "\n",
    "pca = PCA(n_components=0.9)\n",
    "X_pca = pca.fit_transform(Xss)\n",
    "print(pca.explained_variance_ratio_)"
   ]
  },
  {
   "cell_type": "code",
   "execution_count": 10,
   "metadata": {},
   "outputs": [],
   "source": [
    "from sklearn import metrics\n",
    "from sklearn.cluster import KMeans, AgglomerativeClustering\n",
    "import matplotlib"
   ]
  },
  {
   "cell_type": "markdown",
   "metadata": {},
   "source": [
    "## Ex 1: Train Xss par l'algorithme K-means avec k=3"
   ]
  },
  {
   "cell_type": "code",
   "execution_count": 11,
   "metadata": {
    "scrolled": true
   },
   "outputs": [
    {
     "data": {
      "image/png": "[encoded data removed]",
      "text/plain": [
       "<Figure size 432x288 with 1 Axes>"
      ]
     },
     "metadata": {
      "needs_background": "light"
     },
     "output_type": "display_data"
    }
   ],
   "source": [
    "clustering = KMeans(n_clusters=3).fit_predict(Xss)\n",
    "\n",
    "colors = ['red','yellow','blue','pink']\n",
    "plt.scatter(X_pca[:, 0], X_pca[:, 1], c= clustering, cmap=matplotlib.colors.ListedColormap(colors))\n",
    "for label, x, y in zip(labels, X_pca[:, 0], X_pca[:, 1]):\n",
    "    plt.annotate(label, xy=(x, y), xytext=(-0.2, 0.2), textcoords='offset points')\n",
    "plt.show()"
   ]
  },
  {
   "cell_type": "markdown",
   "metadata": {},
   "source": [
    "Les villes sont regroupe au cluster dont le centroid est plus proche. D'apres le graph, il y a 3 groupes: a gauche (stra, embr, etc.), centre (lyon, gren, etc.) et a droit (tlse, biar, etc.). \n",
    "- Le groupe a gauche represente des villes ayant le temperature moyenne bas\n",
    "- Le groupe central represente des villes ayant le temerature moyenne normale (sauf bres: elle est une outlier)\n",
    "- Le groupe a droit represente des ville ayant le temperature moyenne haute"
   ]
  },
  {
   "cell_type": "markdown",
   "metadata": {},
   "source": [
    "## Ex 2: Train Xss par l'algorithme Agglomerative Clustering avec 2 options: ward et average"
   ]
  },
  {
   "cell_type": "code",
   "execution_count": 12,
   "metadata": {},
   "outputs": [
    {
     "data": {
      "image/png": "[encoded data removed]",
      "text/plain": [
       "<Figure size 720x360 with 2 Axes>"
      ]
     },
     "metadata": {
      "needs_background": "light"
     },
     "output_type": "display_data"
    }
   ],
   "source": [
    "clustering_agg_ward = AgglomerativeClustering(n_clusters=3, linkage='ward').fit_predict(Xss)\n",
    "clustering_agg_average = AgglomerativeClustering(n_clusters=3, linkage='average').fit_predict(Xss)\n",
    "\n",
    "\n",
    "f, (ax1, ax2) = plt.subplots(1, 2, figsize=(10,5))\n",
    "colors = ['red','yellow','blue','pink']\n",
    "ax1.scatter(X_pca[:, 0], X_pca[:, 1], c= clustering_agg_ward, cmap=matplotlib.colors.ListedColormap(colors))\n",
    "ax1.title.set_text('agglomerative clustering -- ward')\n",
    "ax2.title.set_text('agglomerative clustering -- average')\n",
    "ax2.scatter(X_pca[:, 0], X_pca[:, 1], c= clustering_agg_average, cmap=matplotlib.colors.ListedColormap(colors))\n",
    "for label, x, y in zip(labels, X_pca[:, 0], X_pca[:, 1]):\n",
    "    ax1.annotate(label, xy=(x, y), xytext=(-0.2, 0.2), textcoords='offset points')\n",
    "    ax2.annotate(label, xy=(x, y), xytext=(-0.2, 0.2), textcoords='offset points')\n",
    "f.show()"
   ]
  },
  {
   "cell_type": "markdown",
   "metadata": {},
   "source": [
    "- Avec linkage = 'ward', l'algorithme minimise la variance des clusters fusionnes\n",
    "- Avec linkage = 'average', l'algorithme utilise la distance moyenne entre les elements de 2 sets"
   ]
  },
  {
   "cell_type": "markdown",
   "metadata": {},
   "source": [
    "# Ex 3: Evaluer le resultat de clustering par Silhouette score et choisir k"
   ]
  },
  {
   "cell_type": "code",
   "execution_count": 13,
   "metadata": {},
   "outputs": [
    {
     "name": "stdout",
     "output_type": "stream",
     "text": [
      "0.6181156437258204\n",
      "\n",
      "0.3997417097231579\n",
      "\n",
      "0.32923538637081096\n",
      "\n",
      "0.2989919771551221\n",
      "\n"
     ]
    }
   ],
   "source": [
    "for i in np.arange(2, 6):\n",
    "    clustering = KMeans(n_clusters=i).fit_predict(Xss)\n",
    "    print(metrics.silhouette_score(X, clustering,metric='euclidean'))\n",
    "    print()\n",
    "    \n",
    "# choirsir n_clusters = 2"
   ]
  },
  {
   "cell_type": "markdown",
   "metadata": {},
   "source": [
    "Avec k=2, le silhouette score est maximum, donc je choisis nombre de clusters egal 2"
   ]
  },
  {
   "cell_type": "markdown",
   "metadata": {},
   "source": [
    "### Visualiser le resultat de clustering avec k=2"
   ]
  },
  {
   "cell_type": "code",
   "execution_count": 14,
   "metadata": {},
   "outputs": [
    {
     "data": {
      "image/png": "[encoded data removed]",
      "text/plain": [
       "<Figure size 432x288 with 1 Axes>"
      ]
     },
     "metadata": {
      "needs_background": "light"
     },
     "output_type": "display_data"
    }
   ],
   "source": [
    "clustering = KMeans(n_clusters=2).fit_predict(Xss)\n",
    "\n",
    "colors = ['red','yellow','blue','pink']\n",
    "plt.scatter(X_pca[:, 0], X_pca[:, 1], c= clustering, cmap=matplotlib.colors.ListedColormap(colors))\n",
    "for label, x, y in zip(labels, X_pca[:, 0], X_pca[:, 1]):\n",
    "    plt.annotate(label, xy=(x, y), xytext=(-0.2, 0.2), textcoords='offset points')\n",
    "plt.show()"
   ]
  }
 ],
 "metadata": {
  "kernelspec": {
   "display_name": "Python 3",
   "language": "python",
   "name": "python3"
  },
  "language_info": {
   "codemirror_mode": {
    "name": "ipython",
    "version": 3
   },
   "file_extension": ".py",
   "mimetype": "text/x-python",
   "name": "python",
   "nbconvert_exporter": "python",
   "pygments_lexer": "ipython3",
   "version": "3.7.4"
  }
 },
 "nbformat": 4,
 "nbformat_minor": 2
}
